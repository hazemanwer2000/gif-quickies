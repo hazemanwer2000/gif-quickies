{
 "cells": [
  {
   "cell_type": "markdown",
   "id": "682e6274",
   "metadata": {},
   "source": [
    "# A brief summary of C++ (11, 14, 17, 20)\n",
    "<br>\n",
    "<div style=\"opacity: 0.8; font-family: Consolas, Monaco, Lucida Console, Liberation Mono, DejaVu Sans Mono, Bitstream Vera Sans Mono, Courier New; font-size: 12px; font-style: italic;\">\n",
    "    ────────\n",
    "    for more from the author, visit\n",
    "    <a href=\"https://github.com/hazemanwer2000\">github.com/hazemanwer2000</a>.\n",
    "    ────────\n",
    "</div>"
   ]
  },
  {
   "cell_type": "markdown",
   "id": "78285c51",
   "metadata": {},
   "source": [
    "## Table of Contents\n",
    "* [C++11](#C++11)\n",
    "    * [Uniform Initialization](#uniform-initialization)\n",
    "    * [The `auto` keyword](#the-auto-keyword)\n",
    "    * [The `decltype` operator](#the-decltype-operator)\n",
    "    * [The range-based `for` loop](#the-range-based-for-loop)\n",
    "    * [The `nullptr` keyword](#the-nullptr-keyword)\n",
    "    * [Enumeration Classes](#enumeration-classes)\n",
    "    * [R-value References](#r-value-references)\n",
    "    * [Lambda Expressions](#lambda-expressions)\n",
    "* [C++14](#C++14)\n",
    "* [C++17](#C++17)\n",
    "* [C++20](#C++20)\n",
    "\n",
    "<hr>"
   ]
  },
  {
   "cell_type": "markdown",
   "id": "b1b266d0",
   "metadata": {},
   "source": [
    "*Note:* This writing builds upon <a href=\"https://github.com/hazemanwer2000/gif-quickies/blob/main/brief_summary_of_cpp.ipynb\">*A brief summary of C++ (98)*</a>, and discusses feature introductions in modern standards of the C++ language."
   ]
  },
  {
   "cell_type": "markdown",
   "id": "febf19ab",
   "metadata": {},
   "source": [
    "## C++11 <a class=\"anchor\" id=\"c++11\"></a>"
   ]
  },
  {
   "cell_type": "markdown",
   "id": "26fbc00a",
   "metadata": {},
   "source": [
    "### Uniform Initialization <a class=\"anchor\" id=\"uniform-initialization\"></a>"
   ]
  },
  {
   "cell_type": "markdown",
   "id": "5ff3c719",
   "metadata": {},
   "source": [
    "Direct initialization using parentheses, `()`, proved sometimes inconsistent. For example:"
   ]
  },
  {
   "cell_type": "code",
   "execution_count": null,
   "id": "bb1e2c9a",
   "metadata": {},
   "outputs": [],
   "source": [
    "int x();           // Interpreted as a function declaration"
   ]
  },
  {
   "cell_type": "markdown",
   "id": "d56cbe1e",
   "metadata": {},
   "source": [
    "C++11 introduces a more consistent form of initialization, called *uniform* initialization, using braces, *{}*."
   ]
  },
  {
   "cell_type": "code",
   "execution_count": null,
   "id": "f2d065aa",
   "metadata": {},
   "outputs": [],
   "source": [
    "int x{};           // Default-initialized to '0'"
   ]
  },
  {
   "cell_type": "markdown",
   "id": "1d0623df",
   "metadata": {},
   "source": [
    "*Note:* Unlike `()`, `{}` does not allow implicit narrowing of values. For example, implicit conversion of `double` to `float` is prohibted."
   ]
  },
  {
   "cell_type": "markdown",
   "id": "d9b42c5b",
   "metadata": {},
   "source": [
    "Additionally, an immutable list, `initializer_list`, is defined in `<initializer_list>`.\n",
    "\n",
    "If a constructor that accepts an `initializer_list` object exists, then uniform (or, brace) initialization allows for the initialization of the list implicitly by comma-separated values between the opening and closing braces.\n",
    "\n",
    "This is similar in syntax to how C-style arrays are initialized."
   ]
  },
  {
   "cell_type": "code",
   "execution_count": 26,
   "id": "82726296",
   "metadata": {},
   "outputs": [
    {
     "name": "stdout",
     "output_type": "stream",
     "text": [
      "1, 2, 3, \b\b  \n"
     ]
    }
   ],
   "source": [
    "//%cflags: -I.jupyter\n",
    "\n",
    "#include <iostream>\n",
    "#include <vector>\n",
    "#include <initializer_list>\n",
    "#include \"helpers.h\"\n",
    "\n",
    "template <class T>\n",
    "class Array {\n",
    "    std::vector<T> v;\n",
    "public:\n",
    "    Array(const std::initializer_list<T> &init) : v(init.begin(), init.end()) {}\n",
    "    Array(int size) : v(size) {}\n",
    "\n",
    "    void show() { forwardly(v.begin(), v.end()); }\n",
    "};\n",
    "\n",
    "int main() {\n",
    "    Array<int> arr{1, 2, 3};\n",
    "    arr.show();\n",
    "}"
   ]
  },
  {
   "cell_type": "code",
   "execution_count": null,
   "id": "a704d52d",
   "metadata": {},
   "outputs": [],
   "source": [
    "Array<int> arr{1, 2, 3};               /* Equivalent syntax */\n",
    "\n",
    "Array<int> arr = {1, 2, 3};\n",
    "\n",
    "Array<int> arr({1, 2, 3});"
   ]
  },
  {
   "cell_type": "code",
   "execution_count": null,
   "id": "4cedb47c",
   "metadata": {},
   "outputs": [],
   "source": [
    "Array<int> arr(5);                     /* Array of size '5', default-initialized 'int's to '0' */\n",
    "\n",
    "Array<int> arr{5};                     /* Array of size '1', consisting of {5} */"
   ]
  },
  {
   "cell_type": "markdown",
   "id": "3c49e41c",
   "metadata": {},
   "source": [
    "*Note:* When an `initializer_list` constructor is missing, `{}` behave similar to `()`."
   ]
  },
  {
   "cell_type": "markdown",
   "id": "1f551036",
   "metadata": {},
   "source": [
    "### The `auto` keyword <a class=\"anchor\" id=\"the-auto-keyword\"></a>"
   ]
  },
  {
   "cell_type": "markdown",
   "id": "d94c59ae",
   "metadata": {},
   "source": [
    "C++11 introduces the `auto` keyword, that may be used as a type, to be implicitly resolved at compile-time."
   ]
  },
  {
   "cell_type": "code",
   "execution_count": 43,
   "id": "e5d777d3",
   "metadata": {},
   "outputs": [
    {
     "name": "stdout",
     "output_type": "stream",
     "text": [
      "5"
     ]
    }
   ],
   "source": [
    "#include <iostream>\n",
    "\n",
    "int main() {\n",
    "    auto x = 5;\n",
    "    \n",
    "    std::cout << x;\n",
    "}"
   ]
  },
  {
   "cell_type": "code",
   "execution_count": 45,
   "id": "7e62de58",
   "metadata": {},
   "outputs": [
    {
     "name": "stdout",
     "output_type": "stream",
     "text": [
      "3"
     ]
    }
   ],
   "source": [
    "#include <iostream>\n",
    "\n",
    "auto add(int x, int y) {\n",
    "    return x + y;\n",
    "}\n",
    "\n",
    "int main() {\n",
    "    std::cout << add(1, 2);\n",
    "}"
   ]
  },
  {
   "cell_type": "markdown",
   "id": "8732f2db",
   "metadata": {},
   "source": [
    "*Note:* Always use copy initialization with the `auto` keyword. In particular, brace initialization resolves `auto` into `initializer_list`."
   ]
  },
  {
   "cell_type": "markdown",
   "id": "77da0acf",
   "metadata": {},
   "source": [
    "The `auto` keyword ignores references and top-level constants, but retains low-level constants."
   ]
  },
  {
   "cell_type": "code",
   "execution_count": null,
   "id": "f4846abc",
   "metadata": {},
   "outputs": [],
   "source": [
    "#include <iostream>\n",
    "\n",
    "int main() {\n",
    "    const int y = 6;       /* 'y' is a top-level constant ('const int') */\n",
    "\n",
    "    auto x = y;            /* auto resolved to 'int' */\n",
    "    \n",
    "    x = 7;                 /* Valid */\n",
    "}      "
   ]
  },
  {
   "cell_type": "code",
   "execution_count": null,
   "id": "dcbeb9fe",
   "metadata": {},
   "outputs": [],
   "source": [
    "#include <iostream>\n",
    "\n",
    "int main() {\n",
    "    const int y = 6;       /* '&y' is a low-level constant ('const int *') */\n",
    "\n",
    "    auto ptr = &y;         /* auto resolved to 'const int *' */\n",
    "    \n",
    "    *ptr = 7;              /* Error: Assignment of read-only location */\n",
    "}      "
   ]
  },
  {
   "cell_type": "markdown",
   "id": "645ce779",
   "metadata": {},
   "source": [
    "*Note:* As an example, `const int` and `int * const` are top-level constants, while `const int *` is a low-level constant."
   ]
  },
  {
   "cell_type": "markdown",
   "id": "68720bd1",
   "metadata": {},
   "source": [
    "### The `decltype` operator <a class=\"anchor\" id=\"the-decltype-operator\"></a>"
   ]
  },
  {
   "cell_type": "markdown",
   "id": "e83aa129",
   "metadata": {},
   "source": [
    "C++11 introduces the `decltype` operator, that accepts an expression, and substitutes for its type at compile-time."
   ]
  },
  {
   "cell_type": "code",
   "execution_count": 48,
   "id": "5d7e65db",
   "metadata": {},
   "outputs": [
    {
     "name": "stdout",
     "output_type": "stream",
     "text": [
      "8.2"
     ]
    }
   ],
   "source": [
    "#include <iostream>\n",
    "\n",
    "int main() {\n",
    "    decltype(5 + 3.2) val = (5 + 3.2);\n",
    "    \n",
    "    std::cout << val;\n",
    "}"
   ]
  },
  {
   "cell_type": "markdown",
   "id": "a769b941",
   "metadata": {},
   "source": [
    "Unlike the `auto` keyword, the `decltype` operator retains all qualifiers, including references and top-level constants."
   ]
  },
  {
   "cell_type": "code",
   "execution_count": null,
   "id": "cf19ad4d",
   "metadata": {},
   "outputs": [],
   "source": [
    "int main() {\n",
    "    const int x = 5;          /* 'x' is a top-level const */\n",
    "    \n",
    "    decltype(x) y = 6;        /* Resolves to 'const int' */\n",
    "    \n",
    "    y = 7;                    /* Error: Assignment to read-only variable. */\n",
    "}"
   ]
  },
  {
   "cell_type": "markdown",
   "id": "9ac5c1d2",
   "metadata": {},
   "source": [
    "### The `constexpr` keyword <a class=\"anchor\" id=\"the-constexpr-keyword\"></a>"
   ]
  },
  {
   "cell_type": "markdown",
   "id": "eb4ab640",
   "metadata": {},
   "source": [
    "C++11 introduces the `constexpr` keyword, placed before a variable declaration gurantees that it is evaluated at compile-time.\n",
    "\n",
    "When placed before a function, it gurantees that calls to this function are evaluated at compile-time."
   ]
  },
  {
   "cell_type": "code",
   "execution_count": 70,
   "id": "6b34af9c",
   "metadata": {},
   "outputs": [
    {
     "name": "stdout",
     "output_type": "stream",
     "text": [
      "11"
     ]
    }
   ],
   "source": [
    "#include <iostream>\n",
    "                                      /* Before Compilation */\n",
    "constexpr auto add(int x, int y) {\n",
    "    return x + y;\n",
    "}\n",
    "\n",
    "int main() {\n",
    "    constexpr int res = add(5, 6);\n",
    "    \n",
    "    std::cout << res;\n",
    "}"
   ]
  },
  {
   "cell_type": "code",
   "execution_count": 66,
   "id": "b3a86f5f",
   "metadata": {
    "scrolled": true
   },
   "outputs": [
    {
     "name": "stdout",
     "output_type": "stream",
     "text": [
      "11"
     ]
    }
   ],
   "source": [
    "#include <iostream>\n",
    "                                      /* After Compilation */\n",
    "int main() {\n",
    "    std::cout << 11;\n",
    "}"
   ]
  },
  {
   "cell_type": "markdown",
   "id": "c7fa7dfa",
   "metadata": {},
   "source": [
    "*Note:* One missing feature of `constexpr` functions, is the ability to overload them with non-`constexpr` functions."
   ]
  },
  {
   "cell_type": "markdown",
   "id": "f25548fd",
   "metadata": {},
   "source": [
    "A class with a `constexpr` constructor may be used as a literal."
   ]
  },
  {
   "cell_type": "code",
   "execution_count": 64,
   "id": "ce6d16e1",
   "metadata": {},
   "outputs": [
    {
     "name": "stdout",
     "output_type": "stream",
     "text": [
      "(1, 2)"
     ]
    }
   ],
   "source": [
    "#include <iostream>\n",
    "                                      /* Before Compilation */\n",
    "struct Point {\n",
    "    int x, y;\n",
    "    \n",
    "    constexpr Point(int x, int y) : x(x), y(y) {}\n",
    "};\n",
    "\n",
    "int main() {\n",
    "    constexpr Point p(1, 2);\n",
    "    \n",
    "    std::cout << \"(\" << p.x << \", \" << p.y << \")\";\n",
    "}"
   ]
  },
  {
   "cell_type": "code",
   "execution_count": 72,
   "id": "275c7757",
   "metadata": {},
   "outputs": [
    {
     "name": "stdout",
     "output_type": "stream",
     "text": [
      "(1, 2)"
     ]
    }
   ],
   "source": [
    "#include <iostream>\n",
    "                                      /* After Compilation */\n",
    "int main() {\n",
    "    std::cout << \"(\" << 1 << \", \" << 2 << \")\";\n",
    "}"
   ]
  },
  {
   "cell_type": "markdown",
   "id": "5e2ae230",
   "metadata": {},
   "source": [
    "### The range-based `for` loop <a class=\"anchor\" id=\"the-range-based-for-loop\"></a>"
   ]
  },
  {
   "cell_type": "markdown",
   "id": "da6fd598",
   "metadata": {},
   "source": [
    "C++11 introduces a range-based `for` loop, that uses `begin` and `end` members of its post-colon argument."
   ]
  },
  {
   "cell_type": "code",
   "execution_count": 79,
   "id": "c647e0de",
   "metadata": {},
   "outputs": [
    {
     "name": "stdout",
     "output_type": "stream",
     "text": [
      "1 2 3 4 5 "
     ]
    }
   ],
   "source": [
    "#include <iostream>\n",
    "#include <vector>\n",
    "\n",
    "int main() {\n",
    "    std::vector<int> v {1, 2, 3, 4, 5};\n",
    "\n",
    "    for (auto &val : v) {\n",
    "        std::cout << val << ' ';\n",
    "    }\n",
    "}"
   ]
  },
  {
   "cell_type": "markdown",
   "id": "442030a9",
   "metadata": {},
   "source": [
    "*Note:* It is recommended to refrain from using a range-based `for` loop with a built-in array."
   ]
  },
  {
   "cell_type": "markdown",
   "id": "4d21d493",
   "metadata": {},
   "source": [
    "### The `nullptr` keyword <a class=\"anchor\" id=\"the-nullptr-keyword\"></a>"
   ]
  },
  {
   "cell_type": "markdown",
   "id": "91dd8dd4",
   "metadata": {},
   "source": [
    "C++11 defines the `nullptr` ke|yword, to replace the ambigious zero-defined `NULL` macro."
   ]
  },
  {
   "cell_type": "code",
   "execution_count": 98,
   "id": "b5e3a8aa",
   "metadata": {},
   "outputs": [
    {
     "name": "stdout",
     "output_type": "stream",
     "text": [
      "foo(long int)\n",
      "foo(long int *)\n"
     ]
    }
   ],
   "source": [
    "//%cflags: -w\n",
    "\n",
    "#include <iostream>\n",
    "\n",
    "void foo(long int x) {\n",
    "    std::cout << \"foo(long int)\\n\";\n",
    "}\n",
    "\n",
    "void foo(long int *x) {\n",
    "    std::cout << \"foo(long int *)\\n\";\n",
    "}\n",
    "\n",
    "int main() {\n",
    "    foo(NULL);\n",
    "    foo(nullptr);\n",
    "}"
   ]
  },
  {
   "cell_type": "markdown",
   "id": "e65031d2",
   "metadata": {},
   "source": [
    "*Note:* The statement `delete nullptr;` is harmless."
   ]
  },
  {
   "cell_type": "markdown",
   "id": "3a55ab60",
   "metadata": {},
   "source": [
    "### Enumeration Classes <a class=\"anchor\" id=\"enumeration-classes\"></a>"
   ]
  },
  {
   "cell_type": "markdown",
   "id": "45ecddb1",
   "metadata": {},
   "source": [
    "C++11 introduces *enumeration classes*, as a scoped alternative to plain enumerations."
   ]
  },
  {
   "cell_type": "code",
   "execution_count": 104,
   "id": "e44ee815",
   "metadata": {},
   "outputs": [
    {
     "name": "stdout",
     "output_type": "stream",
     "text": [
      "He got a really high grade!"
     ]
    }
   ],
   "source": [
    "#include <iostream>\n",
    "\n",
    "enum class Grade {High, Average, Low};\n",
    "\n",
    "void tell_me(Grade grade) {\n",
    "    switch (grade) {\n",
    "        case Grade::High:\n",
    "            std::cout << \"He got a really high grade!\";\n",
    "            break;\n",
    "        case Grade::Average:\n",
    "            std::cout << \"He's kind'a average.\";\n",
    "            break;\n",
    "        case Grade::Low:\n",
    "            std::cout << \"He needs to pass the corrective exam, first!\";\n",
    "            break;\n",
    "    }\n",
    "}\n",
    "\n",
    "int main() {\n",
    "    tell_me(Grade::High);\n",
    "}"
   ]
  },
  {
   "cell_type": "markdown",
   "id": "3e0a3cb2",
   "metadata": {},
   "source": [
    "You may specify a specific integral type to contain values from the `enum class` type, which is `int` by default."
   ]
  },
  {
   "cell_type": "code",
   "execution_count": null,
   "id": "0d5a02a6",
   "metadata": {
    "scrolled": true
   },
   "outputs": [],
   "source": [
    "enum class Grade : char {High, Average, Low};"
   ]
  },
  {
   "cell_type": "markdown",
   "id": "22d2125b",
   "metadata": {},
   "source": [
    "*Note:* Implicit conversion from `int` to an `enum class` type, and vice versa, is prohibited."
   ]
  },
  {
   "cell_type": "markdown",
   "id": "59f661d4",
   "metadata": {},
   "source": [
    "### R-value References <a class=\"anchor\" id=\"r-value-references\"></a>"
   ]
  },
  {
   "cell_type": "markdown",
   "id": "8015f768",
   "metadata": {},
   "source": [
    "C++11 introduces another type of reference, an *rvalue reference*, as opposed to an *lvalue reference*."
   ]
  },
  {
   "cell_type": "code",
   "execution_count": null,
   "id": "11dfaeff",
   "metadata": {},
   "outputs": [],
   "source": [
    "int x = 5;\n",
    "\n",
    "int &l_ref1 = x;        /* Reference to an l-value */\n",
    "int &l_ref2 = 6;        /* Error: Cannot assign r-value to l-value reference */\n",
    "\n",
    "int &&r_ref = x;        /* Error: Cannot assign l-value to r-value reference */\n",
    "int &&r_ref = 6;        /* Reference to an r-value */\n",
    "\n",
    "const &cl_ref = x;      /* Constant reference to an l-value */\n",
    "const &cl_ref = 6;      /* Constant reference to a temporary object, initialized with r-value */"
   ]
  },
  {
   "cell_type": "markdown",
   "id": "a3fe1ef4",
   "metadata": {},
   "source": [
    "A *move constructor* is a constructor that accepts an rvalue reference to an object of the same class.\n",
    "\n",
    "It is meant to *steal* the internals of a temporary object, that uses dynamic memory, or other external resources that may be expensive to copy. Since the temporary object will not be used again, it saves us from the overhead of making a *deep-copy* of the temporary object (twice, once on the stack, and another inside the copy constructor), just to destroy it thereafter.\n",
    "\n",
    "Additionally, an lvalue may be cast as an rvalue reference, using `static_cast`, and when passed to a move constructor, the lvalue is *moved* to another object, and is rendered useless thereafter."
   ]
  },
  {
   "cell_type": "code",
   "execution_count": 248,
   "id": "f10dc55d",
   "metadata": {},
   "outputs": [
    {
     "name": "stdout",
     "output_type": "stream",
     "text": [
      "'arr1' has been moved.\n"
     ]
    }
   ],
   "source": [
    "#include <iostream>\n",
    "#include <iterator>\n",
    "\n",
    "class Integers {\n",
    "    int *ptr;\n",
    "    int size;\n",
    "public:\n",
    "    Integers(std::initializer_list<int> ls) {\n",
    "        size = ls.size();\n",
    "        ptr = new int(size);\n",
    "        \n",
    "        int i = 0;\n",
    "        for (int item : ls) {\n",
    "            ptr[i++] = item;\n",
    "        }\n",
    "    }\n",
    "    \n",
    "    Integers(Integers &&i) {           /* Move constructor */\n",
    "        ptr = i.ptr;\n",
    "        size = i.size;\n",
    "        \n",
    "        i.ptr = nullptr;\n",
    "    }\n",
    "    \n",
    "    Integers(const Integers &ls) {     /* Copy constructor */\n",
    "        size = ls.size;\n",
    "        ptr = new int(size);\n",
    "        \n",
    "        int i = 0;\n",
    "        for (int item : ls) {\n",
    "            ptr[i++] = item;\n",
    "        }\n",
    "    }\n",
    "    \n",
    "    int * begin() { return ptr; }\n",
    "    int * end() { return ptr + size; }\n",
    "    \n",
    "    const int * begin() const { return ptr; }\n",
    "    const int * end() const { return ptr + size; }\n",
    "};\n",
    "\n",
    "int main() {\n",
    "    Integers arr1 {1, 2, 3};\n",
    "    Integers arr2 {arr1};                              /* Copy constructor (Deep-copy)    */\n",
    "    Integers arr3 {static_cast<Integers &&>(arr1)};    /* Move constructor (Shallow-copy) */\n",
    "    \n",
    "    if (arr1.begin() == nullptr) { std::cout << \"'arr1' has been moved.\\n\"; }\n",
    "    if (arr2.begin() == nullptr) { std::cout << \"'arr2' has been moved.\\n\"; }\n",
    "    if (arr3.begin() == nullptr) { std::cout << \"'arr3' has been moved.\\n\"; }\n",
    "    \n",
    "    return 0;\n",
    "}"
   ]
  },
  {
   "cell_type": "markdown",
   "id": "653e58ba",
   "metadata": {},
   "source": [
    "*Note:* When a move constructor is defined, the implicit copy constructor is no longer defined, and similarly for `=`."
   ]
  },
  {
   "cell_type": "markdown",
   "id": "e0b9571b",
   "metadata": {},
   "source": [
    "*Note:* C++11 defines `move` function in `<utility>`, that returns an rvalue reference to an lvalue."
   ]
  },
  {
   "cell_type": "markdown",
   "id": "f1218505",
   "metadata": {},
   "source": [
    "### Lambda Expressions <a class=\"anchor\" id=\"lambda-expressions\"></a>"
   ]
  },
  {
   "cell_type": "markdown",
   "id": "708c8bf1",
   "metadata": {},
   "source": [
    "A *lambda expression* can be thought of as an anonymous function object."
   ]
  },
  {
   "cell_type": "code",
   "execution_count": 341,
   "id": "3c26ebc4",
   "metadata": {},
   "outputs": [
    {
     "name": "stdout",
     "output_type": "stream",
     "text": [
      "3 4 5 6 7 "
     ]
    }
   ],
   "source": [
    "#include <iostream>\n",
    "#include <vector>\n",
    "#include <functional>\n",
    "                                  /* Implementation using function objects */\n",
    "                                  /* Pros: Well-defined and re-usable */\n",
    "template <class T>\n",
    "class within_range {\n",
    "    T lower, upper;\n",
    "public:\n",
    "    within_range(T lo, T up) : lower(lo), upper(up) {}\n",
    "    \n",
    "    bool operator() (T value) {\n",
    "        return value >= lower && value <= upper;\n",
    "    }\n",
    "};\n",
    "\n",
    "template<class F, class T>\n",
    "class print_if {\n",
    "    F fobj;\n",
    "public:\n",
    "    print_if(F fobj) : fobj(fobj) {}\n",
    "    \n",
    "    void operator() (T value) {\n",
    "        if (fobj(value)) {\n",
    "            std::cout << value << ' ';\n",
    "        }\n",
    "    }\n",
    "};\n",
    "\n",
    "template<class T>\n",
    "auto m_within_range(T upper, T lower) {\n",
    "    return within_range<T>(upper, lower);\n",
    "}\n",
    "\n",
    "template<class T, template<class> class F>\n",
    "auto m_print_if(F<T> fobj) {\n",
    "    return print_if<F<T>, T>(fobj);\n",
    "}\n",
    "\n",
    "int main() {\n",
    "    std::vector<int> v{1, 2, 3, 4, 5, 6, 7, 8, 9};\n",
    "    \n",
    "    for_each(v.begin(), v.end(), m_print_if(m_within_range(3, 7)));\n",
    "}"
   ]
  },
  {
   "cell_type": "code",
   "execution_count": 344,
   "id": "96edb162",
   "metadata": {},
   "outputs": [
    {
     "name": "stdout",
     "output_type": "stream",
     "text": [
      "3 4 5 6 7 "
     ]
    }
   ],
   "source": [
    "#include <iostream>\n",
    "#include <vector>\n",
    "#include <functional>\n",
    "                                  /* Implementation using lambda expressions */\n",
    "                                  /* Pros: Short and concise. */\n",
    "\n",
    "int main() {\n",
    "    std::vector<int> v{1, 2, 3, 4, 5, 6, 7, 8, 9};\n",
    "    \n",
    "    for_each(v.begin(), v.end(), [] (int value) {\n",
    "        if (value >= 3 && value <= 7) {\n",
    "            std::cout << value << ' ';\n",
    "        }\n",
    "    });\n",
    "}"
   ]
  },
  {
   "cell_type": "markdown",
   "id": "c836cd92",
   "metadata": {},
   "source": [
    "A lambda expression is composed of three parts:\n",
    "* Capure list `[]`, which specifies the variables to be captured from the surrounding scope.\n",
    "* Argument list `()`, which specifies the parameters passed upon call.\n",
    "* Body `{}`, which contains the statements to be executed with each call.\n",
    "\n",
    "`[]` is synonymous with the arguments passed to a function object's constructor, but it has its special syntax:"
   ]
  },
  {
   "cell_type": "markdown",
   "id": "62655366",
   "metadata": {},
   "source": [
    "| *Capture List* | *Captures?* |\n",
    "| :-- | :-- |\n",
    "| `[]` | None. |\n",
    "| `[var1, &var2]` | Copies local variable `var1` and references `var2`. |\n",
    "| `[=, ...]` | Copies of all local variables, except which are specified next, are referenced. \n",
    "| `[&, ...]` | References to all local variables, except which are specified next, are copied. |\n",
    "| `[this]` | References to all member variables. |"
   ]
  },
  {
   "cell_type": "markdown",
   "id": "2fdb4ef0",
   "metadata": {},
   "source": [
    "*Note:* `this` may be integrated into different capture lists, but the behavior may be inconsistent across compilers and future standards."
   ]
  },
  {
   "cell_type": "markdown",
   "id": "867edcfe",
   "metadata": {},
   "source": [
    "By default, the body of a lambda expression may not modify the captured variables, which is synonymous with defining `operator()` to be `const`. To modify the captured variables, `mutable` should preceed the body."
   ]
  },
  {
   "cell_type": "code",
   "execution_count": 353,
   "id": "9a0582c5",
   "metadata": {},
   "outputs": [
    {
     "name": "stdout",
     "output_type": "stream",
     "text": [
      "Local: 1\n",
      "Member: 2\n"
     ]
    }
   ],
   "source": [
    "#include <iostream>\n",
    "\n",
    "class Integer {\n",
    "    int member;\n",
    "public:\n",
    "    Integer(int local) : member(local) {\n",
    "        ([=, this] () mutable {\n",
    "            local++;\n",
    "            member++;\n",
    "            return local;\n",
    "        })();\n",
    "        \n",
    "        std::cout << \"Local: \" << local << '\\n';\n",
    "        std::cout << \"Member: \" << member << '\\n';\n",
    "    }\n",
    "};\n",
    "\n",
    "int main() {\n",
    "    Integer(1);\n",
    "}"
   ]
  },
  {
   "cell_type": "markdown",
   "id": "f1fb5bbe",
   "metadata": {},
   "source": [
    "To re-use a function object, allow the compiler to determine its type, by using the `auto` keyword."
   ]
  },
  {
   "cell_type": "code",
   "execution_count": 352,
   "id": "846e4fec",
   "metadata": {},
   "outputs": [
    {
     "name": "stdout",
     "output_type": "stream",
     "text": [
      "Lambda-Call: 2\n",
      "Lambda-Call: 3\n",
      "Local: 1\n",
      "Member: 3\n"
     ]
    }
   ],
   "source": [
    "#include <iostream>\n",
    "\n",
    "class Integer {\n",
    "    int member;\n",
    "public:\n",
    "    Integer(int local) : member(local) {\n",
    "        auto lambda = ([=, this] () mutable {\n",
    "            local++;\n",
    "            member++;\n",
    "            return local;\n",
    "        });\n",
    "        \n",
    "        std::cout << \"Lambda-Call: \" << lambda() << '\\n';\n",
    "        std::cout << \"Lambda-Call: \" << lambda() << '\\n';\n",
    "        \n",
    "        std::cout << \"Local: \" << local << '\\n';\n",
    "        std::cout << \"Member: \" << member << '\\n';\n",
    "    }\n",
    "};\n",
    "\n",
    "int main() {\n",
    "    Integer(1);\n",
    "}"
   ]
  },
  {
   "cell_type": "markdown",
   "id": "9fe80407",
   "metadata": {},
   "source": [
    "Alternatively, and to be able to perform recursion, C++11 defines `std::function` in `<functional>`, that may be passed the return type and argument types of a lambda expression, and yield the proper type."
   ]
  },
  {
   "cell_type": "code",
   "execution_count": 362,
   "id": "39ba3d74",
   "metadata": {},
   "outputs": [
    {
     "name": "stdout",
     "output_type": "stream",
     "text": [
      "Countdown: 3\n",
      "Countdown: 2\n",
      "Countdown: 1\n",
      "Countdown: 0\n"
     ]
    }
   ],
   "source": [
    "#include <iostream>\n",
    "#include <functional>\n",
    "\n",
    "int main() {\n",
    "    std::function<void(int)> countdown = [&countdown] (int c) {\n",
    "        std::cout << \"Countdown: \" << c << '\\n';\n",
    "        if (c > 0) { countdown(--c); }\n",
    "    };\n",
    "    \n",
    "    countdown(3);\n",
    "}"
   ]
  },
  {
   "cell_type": "markdown",
   "id": "d3fd9847",
   "metadata": {},
   "source": [
    "*Note:* The implementation of `std::function` is beyond the scope of this work."
   ]
  },
  {
   "cell_type": "markdown",
   "id": "017bf645",
   "metadata": {},
   "source": [
    "By default, the return type of a lambda expression is determined implicitly. It may, however, be explicitly defined."
   ]
  },
  {
   "cell_type": "code",
   "execution_count": 365,
   "id": "c9aea5a3",
   "metadata": {},
   "outputs": [
    {
     "name": "stdout",
     "output_type": "stream",
     "text": [
      "10"
     ]
    }
   ],
   "source": [
    "#include <iostream>\n",
    "\n",
    "int main() {\n",
    "    auto add = [] (double x, double y) -> int { \n",
    "        return x + y;\n",
    "    };\n",
    "    \n",
    "    std::cout << add(4.6, 5.6);\n",
    "}"
   ]
  },
  {
   "cell_type": "markdown",
   "id": "5e84218b",
   "metadata": {},
   "source": [
    "*Note:* If `->` is unemployed, and no parameters are required, `()` may be omitted."
   ]
  }
 ],
 "metadata": {
  "kernelspec": {
   "display_name": "C",
   "language": "c",
   "name": "c"
  },
  "language_info": {
   "file_extension": ".cpp",
   "mimetype": "text/plain",
   "name": "c++"
  }
 },
 "nbformat": 4,
 "nbformat_minor": 5
}
