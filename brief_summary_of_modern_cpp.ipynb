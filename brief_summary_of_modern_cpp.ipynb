{
 "cells": [
  {
   "cell_type": "markdown",
   "id": "682e6274",
   "metadata": {},
   "source": [
    "# A brief summary of C++ (11, 14, 17, 20)\n",
    "<br>\n",
    "<div style=\"opacity: 0.8; font-family: Consolas, Monaco, Lucida Console, Liberation Mono, DejaVu Sans Mono, Bitstream Vera Sans Mono, Courier New; font-size: 12px; font-style: italic;\">\n",
    "    ────────\n",
    "    for more from the author, visit\n",
    "    <a href=\"https://github.com/hazemanwer2000\">github.com/hazemanwer2000</a>.\n",
    "    ────────\n",
    "</div>"
   ]
  },
  {
   "cell_type": "markdown",
   "id": "d524cca7",
   "metadata": {},
   "source": [
    "## Table of Contents\n",
    "* [C++11](#C++11)\n",
    "    * [Initialization](#Initialization)\n",
    "* [C++14](#C++14)\n",
    "* [C++17](#C++17)\n",
    "* [C++20](#C++20)\n",
    "\n",
    "<hr>"
   ]
  },
  {
   "cell_type": "markdown",
   "id": "a2fe8444",
   "metadata": {},
   "source": [
    "*Note:* This writing builds upon <a href=\"\">*A brief summary of C++ (98)*</a>, and discusses feature introductions in modern standards of the C++ language."
   ]
  },
  {
   "cell_type": "markdown",
   "id": "a6c4a109",
   "metadata": {},
   "source": [
    "## C++11 <a class=\"anchor\" id=\"c++11\"></a>"
   ]
  },
  {
   "cell_type": "markdown",
   "id": "07dbcac7",
   "metadata": {},
   "source": []
  }
 ],
 "metadata": {
  "kernelspec": {
   "display_name": "C",
   "language": "c",
   "name": "c"
  },
  "language_info": {
   "file_extension": ".cpp",
   "mimetype": "text/plain",
   "name": "c++"
  }
 },
 "nbformat": 4,
 "nbformat_minor": 5
}
