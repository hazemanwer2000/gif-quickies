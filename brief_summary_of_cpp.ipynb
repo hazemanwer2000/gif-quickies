{
 "cells": [
  {
   "cell_type": "markdown",
   "id": "b323e208",
   "metadata": {},
   "source": [
    "# A brief summary of C++ (98)\n",
    "<br>\n",
    "<div style=\"opacity: 0.8; font-family: Consolas, Monaco, Lucida Console, Liberation Mono, DejaVu Sans Mono, Bitstream Vera Sans Mono, Courier New; font-size: 12px; font-style: italic;\">\n",
    "    ────────\n",
    "    for more from the author, visit\n",
    "    <a href=\"https://github.com/hazemanwer2000\">github.com/hazemanwer2000</a>.\n",
    "    ────────\n",
    "</div>"
   ]
  },
  {
   "cell_type": "markdown",
   "id": "8b106efb",
   "metadata": {},
   "source": [
    "## Table of Contents\n",
    "* [Classes](#classes)\n",
    "\n",
    "<hr>"
   ]
  },
  {
   "cell_type": "markdown",
   "id": "72b96a23",
   "metadata": {},
   "source": [
    "C++ extends the C language by bringing mostly *Object-Oriented Programming* (OOP) features to a structured language."
   ]
  },
  {
   "cell_type": "markdown",
   "id": "dcba4daf",
   "metadata": {},
   "source": [
    "*Note:* This writing builds upon <a href=\"https://github.com/hazemanwer2000/data-structures-in-c/blob/main/brief_summary_of_c.ipynb\">*A brief summary of C*</a>, and introduces the C++ language as a superset of the C language, with minor exceptions."
   ]
  },
  {
   "cell_type": "markdown",
   "id": "3946a480",
   "metadata": {},
   "source": [
    "## Classes"
   ]
  },
  {
   "cell_type": "markdown",
   "id": "c80765d4",
   "metadata": {},
   "source": [
    "A *class* is an outline for an *object*. It defines the attributes and methods of each object."
   ]
  },
  {
   "cell_type": "code",
   "execution_count": null,
   "id": "01284355",
   "metadata": {},
   "outputs": [],
   "source": [
    "class Complex {\n",
    "    float real, imag;                     /* Attribute. */\n",
    "    void print() { /* ... */ }            /* Method. */\n",
    "};"
   ]
  },
  {
   "cell_type": "markdown",
   "id": "ff06451f",
   "metadata": {},
   "source": [
    "An *access specifier* outlines the accessibility of each attribute and method."
   ]
  },
  {
   "cell_type": "code",
   "execution_count": null,
   "id": "346ccf92",
   "metadata": {},
   "outputs": [],
   "source": [
    "class Complex {\n",
    "private:                                 /* Accessible with-in class only. */\n",
    "    float real, imag;\n",
    "public:                                  /* Accessible everywhere. */\n",
    "    void print() { /* ... */ }\n",
    "}"
   ]
  },
  {
   "cell_type": "markdown",
   "id": "9517f567",
   "metadata": {},
   "source": [
    "*Note:* A `private` access specifier is placed implicitly at the beginning of a class outline."
   ]
  },
  {
   "cell_type": "markdown",
   "id": "860a5a1b",
   "metadata": {},
   "source": [
    "A *constructor* is a special method, called once when an object is first defined. It has no return value, and must be the same name as the class."
   ]
  },
  {
   "cell_type": "code",
   "execution_count": null,
   "id": "00f2bc6f",
   "metadata": {},
   "outputs": [],
   "source": [
    "class Complex {\n",
    "private:\n",
    "    float real, imag;\n",
    "public:\n",
    "    Complex(float r, float i) {            /* Constructor. */\n",
    "        real = r, imag = i;\n",
    "    }\n",
    "}"
   ]
  },
  {
   "cell_type": "markdown",
   "id": "6bb46169",
   "metadata": {},
   "source": [
    "Constructors, as with any function in C++, may be *overloaded*."
   ]
  },
  {
   "cell_type": "code",
   "execution_count": null,
   "id": "3f41b7bf",
   "metadata": {},
   "outputs": [],
   "source": [
    "class Complex {\n",
    "private:\n",
    "    float real, imag;\n",
    "public:\n",
    "    Complex(float r, float i) {            /* Constructor(float, float) */\n",
    "        real = r, imag = i;\n",
    "    }\n",
    "\n",
    "    Complex(float r) {                     /* Constructor(float) */\n",
    "        real = r, imag = 0;\n",
    "    }\n",
    "    \n",
    "    Complex() {                            /* Constructor() */\n",
    "        real = imag = 0;\n",
    "    }\n",
    "}"
   ]
  },
  {
   "cell_type": "markdown",
   "id": "637f105e",
   "metadata": {},
   "source": [
    "*Note:* Function overloading is discussed later."
   ]
  },
  {
   "cell_type": "markdown",
   "id": "37f865d7",
   "metadata": {},
   "source": [
    "An object may be defined and initialized from a class in a number of ways."
   ]
  },
  {
   "cell_type": "code",
   "execution_count": 62,
   "id": "a7488571",
   "metadata": {},
   "outputs": [
    {
     "name": "stdout",
     "output_type": "stream",
     "text": [
      "Complex()\n",
      "Complex(float)\n",
      "Complex(float, float)\n"
     ]
    }
   ],
   "source": [
    "#include <iostream>\n",
    "\n",
    "class Complex {\n",
    "private:\n",
    "    float real, imag;\n",
    "public:\n",
    "    Complex(float r, float i) {            /* Constructor(float, float) */\n",
    "        real = r, imag = i;\n",
    "        std::cout << \"Complex(float, float)\\n\";\n",
    "    }\n",
    "\n",
    "    Complex(float r) {                     /* Constructor(float) */\n",
    "        real = r, imag = 0;\n",
    "        std::cout << \"Complex(float)\\n\";\n",
    "    }\n",
    "    \n",
    "    Complex() {                            /* Constructor() */\n",
    "        real = imag = 0;\n",
    "        std::cout << \"Complex()\\n\";\n",
    "    }\n",
    "};\n",
    "\n",
    "int main() {\n",
    "    Complex complex1;                      /* Called 'default initialization'. */            \n",
    "    Complex complex3(5.6f);                /* Called 'direct initialization'. */\n",
    "    Complex complex4(3.4f, 4.2f);\n",
    "}"
   ]
  },
  {
   "cell_type": "code",
   "execution_count": null,
   "id": "8c2eed21",
   "metadata": {},
   "outputs": [],
   "source": [
    "Complex complex1();                      /* Warning: Empty parentheses disambiguated */\n",
    "                                         /*          as a function declaration. */"
   ]
  },
  {
   "cell_type": "code",
   "execution_count": 65,
   "id": "f22570df",
   "metadata": {},
   "outputs": [],
   "source": [
    "#include <iostream>\n",
    "\n",
    "class Complex {\n",
    "private:\n",
    "    float real, imag;                    /* Missing explicit constructor, implicitly defined. */\n",
    "};\n",
    "\n",
    "int main() {\n",
    "    Complex complex1;                    /* Default-initialized with nothing. */            \n",
    "}"
   ]
  },
  {
   "cell_type": "code",
   "execution_count": null,
   "id": "f7aeba82",
   "metadata": {},
   "outputs": [],
   "source": [
    "#include <iostream>\n",
    "\n",
    "class Complex {\n",
    "private:\n",
    "    float real, imag;\n",
    "public:\n",
    "    Complex(float r, float i) {            /* Single explicit constructor, non-default. */\n",
    "        real = r, imag = i;\n",
    "    }\n",
    "};\n",
    "\n",
    "int main() {\n",
    "    Complex complex1;                      /* Error: Default constructor is no longer */\n",
    "                                           /*        implicitly defined. */        \n",
    "}"
   ]
  },
  {
   "cell_type": "markdown",
   "id": "c20c5a3d",
   "metadata": {},
   "source": [
    "A *temporary* object is allocated and deallocated in an expression."
   ]
  },
  {
   "cell_type": "code",
   "execution_count": 75,
   "id": "d0707780",
   "metadata": {},
   "outputs": [
    {
     "name": "stdout",
     "output_type": "stream",
     "text": [
      "[Real]: 5.6\n",
      "[Imag]: 3.4\n"
     ]
    }
   ],
   "source": [
    "#include <iostream>\n",
    "\n",
    "class Complex {\n",
    "private:\n",
    "    float real, imag;\n",
    "public:\n",
    "    Complex(float r, float i) {\n",
    "        real = r, imag = i;\n",
    "    }\n",
    "    \n",
    "    void print() {\n",
    "        std::cout << \"[Real]: \" << real << '\\n';\n",
    "        std::cout << \"[Imag]: \" << imag << '\\n';\n",
    "    }\n",
    "};\n",
    "\n",
    "int main() {\n",
    "    Complex(5.6f, 3.4f).print();            \n",
    "}"
   ]
  },
  {
   "cell_type": "markdown",
   "id": "a7231584",
   "metadata": {},
   "source": [
    "A *copy constructor* is a constructor that receives a `const` reference to an object of the same class."
   ]
  },
  {
   "cell_type": "code",
   "execution_count": 96,
   "id": "8850225e",
   "metadata": {},
   "outputs": [
    {
     "name": "stdout",
     "output_type": "stream",
     "text": [
      "Complex(const Complex &)\n",
      "[Real]: 5.6\n",
      "[Imag]: 7.2\n",
      "Complex(const Complex &)\n",
      "[Real]: 5.6\n",
      "[Imag]: 7.2\n"
     ]
    }
   ],
   "source": [
    "#include <iostream>\n",
    "\n",
    "class Complex {\n",
    "    float real, imag;\n",
    "public:\n",
    "    Complex(float r, float i) {\n",
    "        real = r, imag = i;\n",
    "    }\n",
    "    \n",
    "    Complex(const Complex &complex) {              /* Copy constructor. */\n",
    "        real = complex.real;\n",
    "        imag = complex.imag;\n",
    "        std::cout << \"Complex(const Complex &)\" << '\\n';\n",
    "    }  \n",
    "    \n",
    "    void print() {\n",
    "        std::cout << \"[Real]: \" << real << '\\n';\n",
    "        std::cout << \"[Imag]: \" << imag << '\\n';\n",
    "    }\n",
    "};\n",
    "\n",
    "int main() {\n",
    "    Complex complex1(5.6f, 7.2f); \n",
    "    \n",
    "    Complex complex2(complex1);           /* Calls copy constructor. */\n",
    "    complex2.print();\n",
    "    \n",
    "    Complex complex3 = complex2;          /* Equivalent syntax */\n",
    "    complex3.print();\n",
    "}"
   ]
  },
  {
   "cell_type": "markdown",
   "id": "7f617768",
   "metadata": {},
   "source": [
    "*Note:* References are discussed later."
   ]
  },
  {
   "cell_type": "markdown",
   "id": "80db66cf",
   "metadata": {},
   "source": [
    "*Note:* If a copy constructor is missing from a class outline, it is implicitly defined to dummy-copy the attributes. This could introduce problems when, for example, a pointer to dynamically allocated data is an attribute."
   ]
  },
  {
   "cell_type": "markdown",
   "id": "6786623f",
   "metadata": {},
   "source": [
    "Passing "
   ]
  },
  {
   "cell_type": "markdown",
   "id": "62268706",
   "metadata": {},
   "source": []
  },
  {
   "cell_type": "markdown",
   "id": "59166998",
   "metadata": {},
   "source": [
    "The copy constructor is called when passing or returning objects by value."
   ]
  },
  {
   "cell_type": "code",
   "execution_count": null,
   "id": "bac75365",
   "metadata": {},
   "outputs": [],
   "source": []
  }
 ],
 "metadata": {
  "kernelspec": {
   "display_name": "C",
   "language": "c",
   "name": "c"
  },
  "language_info": {
   "file_extension": ".cpp",
   "mimetype": "text/plain",
   "name": "c++"
  }
 },
 "nbformat": 4,
 "nbformat_minor": 5
}
