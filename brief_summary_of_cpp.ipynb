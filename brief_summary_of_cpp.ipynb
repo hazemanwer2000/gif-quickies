{
 "cells": [
  {
   "cell_type": "markdown",
   "id": "b323e208",
   "metadata": {},
   "source": [
    "# A brief summary of C++ (98)\n",
    "<br>\n",
    "<div style=\"opacity: 0.8; font-family: Consolas, Monaco, Lucida Console, Liberation Mono, DejaVu Sans Mono, Bitstream Vera Sans Mono, Courier New; font-size: 12px; font-style: italic;\">\n",
    "    ────────\n",
    "    for more from the author, visit\n",
    "    <a href=\"https://github.com/hazemanwer2000\">github.com/hazemanwer2000</a>.\n",
    "    ────────\n",
    "</div>"
   ]
  },
  {
   "cell_type": "markdown",
   "id": "a561d09c",
   "metadata": {},
   "source": [
    "## Table of Contents\n",
    "* [Operators](#operators)\n",
    "* [Classes](#classes)\n",
    "    * [`explicit` Constructors](#explicit-constructors)\n",
    "    * [`const` Methods](#const-methods)\n",
    "    * [`mutable` Attributes](#mutable-attributes)\n",
    "    * [The `static` keyword](#the-static-keyword)\n",
    "    * [`friend` Functions and Classes](#friend-functions-and-classes)\n",
    "    * [Operator Overloading](#operator-overloading)\n",
    "        * [Arithmetic, Relational, Equivalence, Bitwise, Logical](#oo-most)\n",
    "        * [Assignment](#oo-assignment)\n",
    "        * [Unary](#oo-unary)\n",
    "        * [Type Conversion](#oo-type-conversion)\n",
    "        * [Increment, Decrement](#oo-increment-decrement)\n",
    "        * [Subscripting](#oo-subscripting)\n",
    "        * [Function Call](#oo-function-call)\n",
    "        * [The `->` operator](#oo-the-->-operator)\n",
    "\n",
    "<hr>"
   ]
  },
  {
   "cell_type": "markdown",
   "id": "fb56f3e3",
   "metadata": {},
   "source": [
    "C++ extends the C language by bringing mostly *Object-Oriented Programming* (OOP) features to a structured language."
   ]
  },
  {
   "cell_type": "markdown",
   "id": "f1130bf2",
   "metadata": {},
   "source": [
    "*Note:* This writing builds upon <a href=\"https://github.com/hazemanwer2000/data-structures-in-c/blob/main/brief_summary_of_c.ipynb\">*A brief summary of C*</a>, and introduces the C++ language as a superset of the C language, with minor exceptions."
   ]
  },
  {
   "cell_type": "markdown",
   "id": "09896bbe",
   "metadata": {},
   "source": [
    "## Operators"
   ]
  },
  {
   "cell_type": "markdown",
   "id": "9bd56d89",
   "metadata": {},
   "source": [
    "| *Operator* | *Associativity* | *Precedence* |\n",
    "| --- | --- | |\n",
    "| `::` | *left-to-right* | ↑ |\n",
    "| `()` `[]` `->` `.` <br><br> (*Post*) `++` `--` <br><br> `static_cast` `reinterpret_cast` `const_cast` `dynamic_cast` | *left-to-right* |\n",
    "| `+` `-` `!` `~` *`(type)`* `*` `&` `sizeof` <br><br> (*Pre*) `++` `--` <br><br> `new` `delete` | *right-to-left* |\n",
    "| `->*` `.*` | *left-to-right* |\n",
    "| `*` `/` `%` | *left-to-right* |\n",
    "| `+` `-` | *left-to-right* |\n",
    "| `<<` `>>` | *left-to-right* |\n",
    "| `<` `<=` `>` `>=` | *left-to-right* |\n",
    "| `==` `!=` | *left-to-right* |\n",
    "| `&` | *left-to-right* |\n",
    "| `^` | *left-to-right* |\n",
    "| `\\|` | *left-to-right* |\n",
    "| `&&` | *left-to-right* |\n",
    "| `\\|\\|` | *left-to-right* |\n",
    "| `?:` <br><br> `=` `+=` `-=` `*=` `/=` `%=` `&=` `^=` `\\|=` `<<=` `>>=` <br><br> `throw` | *right-to-left* |\n",
    "| `,` | *left-to-right* | ↓ |"
   ]
  },
  {
   "cell_type": "markdown",
   "id": "3590fedc",
   "metadata": {},
   "source": [
    "## Classes <a class=\"anchor\" id=\"classes\"></a>"
   ]
  },
  {
   "cell_type": "markdown",
   "id": "974c810c",
   "metadata": {},
   "source": [
    "A *class* is an outline for an *object*. It defines the attributes and methods of each object."
   ]
  },
  {
   "cell_type": "code",
   "execution_count": null,
   "id": "ad65eca4",
   "metadata": {},
   "outputs": [],
   "source": [
    "class Complex {\n",
    "    float real, imag;                     /* Attribute. */\n",
    "    void print() { /* ... */ }            /* Method. */\n",
    "};"
   ]
  },
  {
   "cell_type": "markdown",
   "id": "3153d690",
   "metadata": {},
   "source": [
    "*Note:* A method defined at the beginning of a class may call another method defined at the end, and similarly for attributes."
   ]
  },
  {
   "cell_type": "markdown",
   "id": "7ae91b00",
   "metadata": {},
   "source": [
    "An *access specifier* outlines the accessibility of each attribute and method."
   ]
  },
  {
   "cell_type": "code",
   "execution_count": null,
   "id": "93fa2a0f",
   "metadata": {},
   "outputs": [],
   "source": [
    "class Complex {\n",
    "private:                                 /* Accessible with-in class only. */\n",
    "    float real, imag;\n",
    "public:                                  /* Accessible everywhere. */\n",
    "    void print() { /* ... */ }\n",
    "}"
   ]
  },
  {
   "cell_type": "markdown",
   "id": "ee0bc75a",
   "metadata": {},
   "source": [
    "*Note:* A `private` access specifier is placed implicitly at the beginning of a class outline."
   ]
  },
  {
   "cell_type": "markdown",
   "id": "12ff0a81",
   "metadata": {},
   "source": [
    "A *constructor* is a special method, called once when an object is first defined. It has no return type, and must be the same name as the class."
   ]
  },
  {
   "cell_type": "code",
   "execution_count": null,
   "id": "e9a240dd",
   "metadata": {},
   "outputs": [],
   "source": [
    "class Complex {\n",
    "private:\n",
    "    float real, imag;\n",
    "public:\n",
    "    Complex(float r, float i) {            /* Constructor. */\n",
    "        real = r, imag = i;\n",
    "    }\n",
    "}"
   ]
  },
  {
   "cell_type": "markdown",
   "id": "ba11b41e",
   "metadata": {},
   "source": [
    "Constructors, as with any function in C++, may be *overloaded*."
   ]
  },
  {
   "cell_type": "code",
   "execution_count": null,
   "id": "b9ea6697",
   "metadata": {},
   "outputs": [],
   "source": [
    "class Complex {\n",
    "private:\n",
    "    float real, imag;\n",
    "public:\n",
    "    Complex(float r, float i) {            /* Constructor(float, float) */\n",
    "        real = r, imag = i;\n",
    "    }\n",
    "\n",
    "    Complex(float r) {                     /* Constructor(float) */\n",
    "        real = r, imag = 0;\n",
    "    }\n",
    "    \n",
    "    Complex() {                            /* Constructor() */\n",
    "        real = imag = 0;\n",
    "    }\n",
    "}"
   ]
  },
  {
   "cell_type": "markdown",
   "id": "b30721bf",
   "metadata": {},
   "source": [
    "*Note:* Function overloading is discussed later."
   ]
  },
  {
   "cell_type": "markdown",
   "id": "ef334a94",
   "metadata": {},
   "source": [
    "Constructors, as with any function in C++, may receive default arguments."
   ]
  },
  {
   "cell_type": "code",
   "execution_count": null,
   "id": "67313f97",
   "metadata": {},
   "outputs": [],
   "source": [
    "class Complex {\n",
    "private:\n",
    "    float real, imag;\n",
    "public:\n",
    "    Complex(float r=0, float i=0) {            /* Constructor(float (optional), float (optional)) */\n",
    "        real = r, imag = i;\n",
    "    }\n",
    "}"
   ]
  },
  {
   "cell_type": "markdown",
   "id": "4b1e7d92",
   "metadata": {},
   "source": [
    "*Note:* Default arguments are discussed later."
   ]
  },
  {
   "cell_type": "markdown",
   "id": "e957f735",
   "metadata": {},
   "source": [
    "An object may be defined and initialized from a class in a number of ways."
   ]
  },
  {
   "cell_type": "code",
   "execution_count": null,
   "id": "3a0b48f4",
   "metadata": {},
   "outputs": [],
   "source": [
    "#include <iostream>\n",
    "\n",
    "class Complex {\n",
    "private:\n",
    "    float real, imag;\n",
    "public:\n",
    "    Complex(float r, float i) {            /* Constructor(float, float) */\n",
    "        real = r, imag = i;\n",
    "        std::cout << \"Complex(float, float)\\n\";\n",
    "    }\n",
    "\n",
    "    Complex(float r) {                     /* Constructor(float) */\n",
    "        real = r, imag = 0;\n",
    "        std::cout << \"Complex(float)\\n\";\n",
    "    }\n",
    "    \n",
    "    Complex() {                            /* Constructor() */\n",
    "        real = imag = 0;\n",
    "        std::cout << \"Complex()\\n\";\n",
    "    }\n",
    "};\n",
    "\n",
    "int main() {\n",
    "    Complex complex1;                      /* Called 'default initialization'. */            \n",
    "    Complex complex3(5.6f);                /* Called 'direct initialization'. */\n",
    "    Complex complex4(3.4f, 4.2f);\n",
    "}"
   ]
  },
  {
   "cell_type": "code",
   "execution_count": null,
   "id": "cb01337e",
   "metadata": {},
   "outputs": [],
   "source": [
    "Complex complex1();                      /* Warning: Empty parentheses disambiguated */\n",
    "                                         /*          as a function declaration. */"
   ]
  },
  {
   "cell_type": "code",
   "execution_count": null,
   "id": "d0fab2a6",
   "metadata": {},
   "outputs": [],
   "source": [
    "#include <iostream>\n",
    "\n",
    "class Complex {\n",
    "private:\n",
    "    float real, imag;                    /* Missing explicit constructor, implicitly defined. */\n",
    "};\n",
    "\n",
    "int main() {\n",
    "    Complex complex1;                    /* Default-initialized with nothing. */            \n",
    "}"
   ]
  },
  {
   "cell_type": "code",
   "execution_count": null,
   "id": "d7e1bb8e",
   "metadata": {},
   "outputs": [],
   "source": [
    "#include <iostream>\n",
    "\n",
    "class Complex {\n",
    "private:\n",
    "    float real, imag;\n",
    "public:\n",
    "    Complex(float r, float i) {            /* Single explicit constructor, non-default. */\n",
    "        real = r, imag = i;\n",
    "    }\n",
    "};\n",
    "\n",
    "int main() {\n",
    "    Complex complex1;                      /* Error: Default constructor is no longer */\n",
    "                                           /*        implicitly defined. */        \n",
    "}"
   ]
  },
  {
   "cell_type": "markdown",
   "id": "f7e5cd01",
   "metadata": {},
   "source": [
    "A *temporary* object is allocated and deallocated in an expression."
   ]
  },
  {
   "cell_type": "code",
   "execution_count": null,
   "id": "94d0a569",
   "metadata": {},
   "outputs": [],
   "source": [
    "#include <iostream>\n",
    "\n",
    "class Complex {\n",
    "private:\n",
    "    float real, imag;\n",
    "public:\n",
    "    Complex(float r, float i) {\n",
    "        real = r, imag = i;\n",
    "    }\n",
    "    \n",
    "    Complex() {\n",
    "        real = 0, imag = 0;\n",
    "    }\n",
    "    \n",
    "    void print() {\n",
    "        std::cout << \"[Real]: \" << real << '\\n';\n",
    "        std::cout << \"[Imag]: \" << imag << '\\n';\n",
    "    }\n",
    "};\n",
    "\n",
    "int main() {\n",
    "    Complex(5.6f, 3.4f).print();\n",
    "    Complex().print();\n",
    "}"
   ]
  },
  {
   "cell_type": "markdown",
   "id": "fe2d7dd5",
   "metadata": {},
   "source": [
    "A *copy constructor* is a constructor that receives a `const` reference to an object of the same class."
   ]
  },
  {
   "cell_type": "code",
   "execution_count": null,
   "id": "73c0b2cd",
   "metadata": {},
   "outputs": [],
   "source": [
    "#include <iostream>\n",
    "\n",
    "class Complex {\n",
    "    float real, imag;\n",
    "public:\n",
    "    Complex(float r, float i) {\n",
    "        real = r, imag = i;\n",
    "    }\n",
    "    \n",
    "    Complex(const Complex &complex) {              /* Copy constructor. */\n",
    "        real = complex.real;\n",
    "        imag = complex.imag;\n",
    "        std::cout << \"Complex(const Complex &)\" << '\\n';\n",
    "    }  \n",
    "    \n",
    "    void print() {\n",
    "        std::cout << \"[Real]: \" << real << '\\n';\n",
    "        std::cout << \"[Imag]: \" << imag << '\\n';\n",
    "    }\n",
    "};\n",
    "\n",
    "int main() {\n",
    "    Complex complex1(5.6f, 7.2f); \n",
    "\n",
    "    Complex complex2(complex1);           /* Calls copy constructor. */\n",
    "    complex2.print();\n",
    "    \n",
    "    Complex complex3 = complex2;          /* Equivalent syntax (not recommended). */\n",
    "    complex3.print();\n",
    "}"
   ]
  },
  {
   "cell_type": "markdown",
   "id": "dc86e650",
   "metadata": {},
   "source": [
    "*Note:* References are discussed later."
   ]
  },
  {
   "cell_type": "markdown",
   "id": "e2d746a6",
   "metadata": {},
   "source": [
    "*Note:* If a copy constructor is missing from a class outline, it is implicitly defined to dummy-copy the attributes. This could introduce problems when, for example, a pointer to dynamically allocated data is an attribute."
   ]
  },
  {
   "cell_type": "markdown",
   "id": "477066c2",
   "metadata": {},
   "source": [
    "When initializing using temporary objects, the copy constructor may be optimized away."
   ]
  },
  {
   "cell_type": "code",
   "execution_count": null,
   "id": "85766c77",
   "metadata": {},
   "outputs": [],
   "source": [
    "#include <iostream>\n",
    "\n",
    "class Complex {\n",
    "    float real, imag;\n",
    "public:\n",
    "    Complex(float r, float i) {\n",
    "        real = r, imag = i;\n",
    "        std::cout << \"Complex(float, float)\\n\";\n",
    "    }\n",
    "    \n",
    "    Complex(Complex &complex) {              /* Copy constructor. */\n",
    "        real = complex.real;\n",
    "        imag = complex.imag;\n",
    "        std::cout << \"Complex(const Complex &)\\n\";\n",
    "    }  \n",
    "    \n",
    "    void print() {\n",
    "        std::cout << \"[Real]: \" << real << '\\n';\n",
    "        std::cout << \"[Imag]: \" << imag << '\\n';\n",
    "    }\n",
    "    \n",
    "    Complex & increment() {\n",
    "        real++, imag++;\n",
    "        return *this;                            /* Discussed later. */\n",
    "    }\n",
    "};\n",
    "\n",
    "int main() {\n",
    "    Complex complex1(Complex(5, 6));                       /* Optimized to 'Complex complex(5, 6)' */\n",
    "    complex1.print();\n",
    "    \n",
    "    Complex complex2 = Complex(5, 6);                      /* Equivalent syntax (not recommended). */\n",
    "    complex2.print();\n",
    "\n",
    "    Complex complex3(Complex(5, 6).increment());           /* Calls copy constructor. */\n",
    "    complex3.print();\n",
    "}"
   ]
  },
  {
   "cell_type": "markdown",
   "id": "c54a453f",
   "metadata": {},
   "source": [
    "*Note:* When passing or returning objects by value, the copy constructor is implicitly called."
   ]
  },
  {
   "cell_type": "markdown",
   "id": "c972bc8a",
   "metadata": {},
   "source": [
    "An *initialization list* allows the initialization of attributes by a constructor."
   ]
  },
  {
   "cell_type": "code",
   "execution_count": null,
   "id": "0da4e0d9",
   "metadata": {
    "scrolled": true
   },
   "outputs": [],
   "source": [
    "#include <iostream>\n",
    "\n",
    "class Complex {\n",
    "    const float real;\n",
    "    const float imag;\n",
    "public:\n",
    "    Complex(float r, float i) {\n",
    "        real = r, imag = i;\n",
    "    }\n",
    "\n",
    "    void print() {\n",
    "        std::cout << \"[Real]: \" << real << '\\n';\n",
    "        std::cout << \"[Imag]: \" << imag << '\\n';\n",
    "    }\n",
    "};\n",
    "\n",
    "int main() {\n",
    "    Complex(5.6f, 3.4f).print();         /* Error: 'const' attribute should be initialized. */\n",
    "}"
   ]
  },
  {
   "cell_type": "code",
   "execution_count": null,
   "id": "6fafc934",
   "metadata": {},
   "outputs": [],
   "source": [
    "#include <iostream>\n",
    "\n",
    "class Complex {\n",
    "    const float real;\n",
    "    const float imag;\n",
    "public:\n",
    "    Complex(float real, float imag) : real(real), imag(imag) {}\n",
    "    Complex() : real(), imag() {}\n",
    "    \n",
    "    void print() {\n",
    "        std::cout << \"[Real]: \" << real << '\\n';\n",
    "        std::cout << \"[Imag]: \" << imag << '\\n';\n",
    "    }\n",
    "};\n",
    "\n",
    "int main() {\n",
    "    Complex(5.6f, 3.4f).print(); \n",
    "    Complex().print();\n",
    "}"
   ]
  },
  {
   "cell_type": "markdown",
   "id": "5f1a9b07",
   "metadata": {},
   "source": [
    "*Note:* Initialization of attributes is similar in syntax to the initialization of temporary objects."
   ]
  },
  {
   "cell_type": "markdown",
   "id": "38de63e6",
   "metadata": {},
   "source": [
    "*Note:* Attributes are initialized in the order they are declared within class, and not their order in the intialization list."
   ]
  },
  {
   "cell_type": "markdown",
   "id": "e1512181",
   "metadata": {},
   "source": [
    "An array of objects may only be defined if a default constructor is present. The default constructor is called for each object in the array."
   ]
  },
  {
   "cell_type": "code",
   "execution_count": null,
   "id": "dbdf3c67",
   "metadata": {},
   "outputs": [],
   "source": [
    "#include <iostream>\n",
    "\n",
    "class Complex {\n",
    "    float real, imag;\n",
    "public:\n",
    "    Complex() : real(), imag() {\n",
    "        std::cout << \"Default init.\\n\";\n",
    "    }\n",
    "};\n",
    "\n",
    "int main() {\n",
    "    Complex comp[3];\n",
    "}"
   ]
  },
  {
   "cell_type": "markdown",
   "id": "5c4bd298",
   "metadata": {},
   "source": [
    "A *destructor* is analogous to a constructor. It is called implicitly whenever an object is deallocated. Unlike a constructor, only a single destructor may be defined, and must have no parameters."
   ]
  },
  {
   "cell_type": "code",
   "execution_count": null,
   "id": "892424d7",
   "metadata": {},
   "outputs": [],
   "source": [
    "#include <iostream>\n",
    "\n",
    "class Complex {\n",
    "    float real, imag;\n",
    "public:\n",
    "    Complex() : real(), imag() {\n",
    "        std::cout << \"Constructor.\\n\";\n",
    "    }\n",
    "    \n",
    "    ~Complex() {\n",
    "        std::cout << \"Destructor.\\n\";\n",
    "    }\n",
    "};\n",
    "\n",
    "int main() {\n",
    "    Complex();            /* Temporary objects, allocated and de-allocated immediately. */\n",
    "    Complex();\n",
    "}"
   ]
  },
  {
   "cell_type": "code",
   "execution_count": null,
   "id": "cb1ba584",
   "metadata": {},
   "outputs": [],
   "source": [
    "#include <iostream>\n",
    "\n",
    "class Complex {\n",
    "    float real, imag;\n",
    "public:\n",
    "    Complex(float r, float i) : real(r), imag(i) {\n",
    "        std::cout << \"Constructor. \" << real << '\\n';\n",
    "    }\n",
    "    \n",
    "    ~Complex() {\n",
    "        std::cout << \"Destructor. \" << real << '\\n';\n",
    "    }\n",
    "};\n",
    "\n",
    "int main() {\n",
    "    Complex complex1(1, 1), complex2(2, 2);     /* Local objects, allocated together, */ \n",
    "                                                /* de-allocated at end-of-scope. */\n",
    "}"
   ]
  },
  {
   "cell_type": "markdown",
   "id": "adf9e441",
   "metadata": {},
   "source": [
    "*Note:* The destructor is usually reponsible for free-ing data allocated dynamically and managed by the object."
   ]
  },
  {
   "cell_type": "markdown",
   "id": "034f50fa",
   "metadata": {},
   "source": [
    "*Note:* An implicit destructor that does nothing is always present, in the absence of an explicit destructor."
   ]
  },
  {
   "cell_type": "markdown",
   "id": "5dd5dfde",
   "metadata": {},
   "source": [
    "*Note:* Attributes of an object are destroyed in the reverse order they are declared in the class outline."
   ]
  },
  {
   "cell_type": "markdown",
   "id": "b7406425",
   "metadata": {},
   "source": [
    "The `this` keyword is an implicit parameter to every method in a class, of type `* const Class-Name`, containing the address of the respective object."
   ]
  },
  {
   "cell_type": "code",
   "execution_count": null,
   "id": "963a2e64",
   "metadata": {},
   "outputs": [],
   "source": [
    "#include <iostream>\n",
    "\n",
    "class Complex {\n",
    "    float real, imag;\n",
    "public:\n",
    "    Complex(float real, float imag) {\n",
    "        this->real = real, this->imag = imag;\n",
    "    }\n",
    "    \n",
    "    void print() {\n",
    "        std::cout << \"[Real]: \" << real << '\\n';\n",
    "        std::cout << \"[Imag]: \" << imag << '\\n';\n",
    "    }\n",
    "};\n",
    "\n",
    "int main() {\n",
    "    Complex complex(5.1f, 6.4f);\n",
    "    complex.print();\n",
    "}"
   ]
  },
  {
   "cell_type": "markdown",
   "id": "6549faa6",
   "metadata": {},
   "source": [
    "A method belonging to a class may be declared within, and defined outside, using the scoping operator, `::` ."
   ]
  },
  {
   "cell_type": "code",
   "execution_count": null,
   "id": "a742cf09",
   "metadata": {},
   "outputs": [],
   "source": [
    "#include <iostream>\n",
    "\n",
    "class Complex {\n",
    "    float real, imag;\n",
    "public:\n",
    "    Complex(float real, float imag);\n",
    "    void print();\n",
    "};\n",
    "\n",
    "int main() {\n",
    "    Complex(4.6f, 5.3f).print();\n",
    "}\n",
    "\n",
    "Complex::Complex(float r, float i) : real(r), imag(i) {}\n",
    "\n",
    "void Complex::print() {\n",
    "    std::cout << \"[Real]: \" << real << '\\n';\n",
    "    std::cout << \"[Imag]: \" << imag << '\\n';\n",
    "}"
   ]
  },
  {
   "cell_type": "markdown",
   "id": "ab29c1ae",
   "metadata": {},
   "source": [
    "*Note:* Methods defined within a class are implicitly `inline`. Hence, a class outline may be repeated in multiple files without the linker complaining about multiple definitions of the same method. `inline` functions behave differently in C++, discussed later."
   ]
  },
  {
   "cell_type": "markdown",
   "id": "70ea817d",
   "metadata": {},
   "source": [
    "*Note:* Methods defined outside of a class are not implictly `inline`."
   ]
  },
  {
   "cell_type": "markdown",
   "id": "90cf575a",
   "metadata": {},
   "source": [
    "### `explicit` Constructors <a class=\"anchor\" id=\"explicit-constructors\"></a>"
   ]
  },
  {
   "cell_type": "markdown",
   "id": "413ab91d",
   "metadata": {},
   "source": [
    "A constructor declared `explicit` cannot be used in implicit conversions."
   ]
  },
  {
   "cell_type": "code",
   "execution_count": null,
   "id": "374659c2",
   "metadata": {},
   "outputs": [],
   "source": [
    "#include <iostream>\n",
    "\n",
    "class Complex {\n",
    "public:\n",
    "    float real, imag;      \n",
    "    \n",
    "    Complex(float r=0, float i=0) : real(r), imag(i) {\n",
    "        std::cout << \"Complex(float, float)\\n\";\n",
    "    }\n",
    "    \n",
    "    Complex(const Complex &complex) : real(complex.real), imag(complex.imag) {\n",
    "        std::cout << \"Complex(const Complex &)\\n\";\n",
    "    }\n",
    "};\n",
    "\n",
    "void print(Complex complex) {\n",
    "    std::cout << \"Real: \" << complex.real << \", Imag: \" << complex.imag << '\\n';\n",
    "}\n",
    "\n",
    "int main() {\n",
    "    Complex complex1(5);          /* Direct constructor call. */\n",
    "    Complex complex2 = 5;         /* Implicit conversion through constructor. */\n",
    "    \n",
    "    print(5);                     /* Direct constructor call, copy constructor skipped. */\n",
    "    print(complex1);              /* Copy constructor called. */\n",
    "}"
   ]
  },
  {
   "cell_type": "code",
   "execution_count": null,
   "id": "8328bb87",
   "metadata": {},
   "outputs": [],
   "source": [
    "#include <iostream>\n",
    "\n",
    "class Complex {\n",
    "public:\n",
    "    float real, imag;      \n",
    "    \n",
    "    explicit Complex(float r=0, float i=0) : real(r), imag(i) {\n",
    "        std::cout << \"Complex(float, float)\\n\";\n",
    "    }\n",
    "    \n",
    "    explicit Complex(const Complex &complex) : real(complex.real), imag(complex.imag) {\n",
    "        std::cout << \"Complex(const Complex &)\\n\";\n",
    "    }\n",
    "};\n",
    "\n",
    "void print(Complex complex) {\n",
    "    std::cout << \"Real: \" << complex.real << \", Imag: \" << complex.imag << '\\n';\n",
    "}\n",
    "\n",
    "int main() {\n",
    "    Complex complex1(5);              /* Direct constructor call. */\n",
    "    Complex complex2 = 5;             /* Error: ... */\n",
    "    \n",
    "    Complex complex3(complex1);       /* Direct (copy) constructor call. */\n",
    "    Complex complex4 = complex2;      /* Error: ... */\n",
    "    \n",
    "    print(5);                         /* Error: ... */\n",
    "    print(Complex(5));                /* Direct constructor call. */\n",
    "    \n",
    "    print(complex1);                  /* Error: ... */\n",
    "    print(Complex(complex1));         /* Direct (copy) constructor call. */\n",
    "}"
   ]
  },
  {
   "cell_type": "markdown",
   "id": "fb229fc9",
   "metadata": {},
   "source": [
    "### `const` Methods <a class=\"anchor\" id=\"const-methods\"></a>"
   ]
  },
  {
   "cell_type": "markdown",
   "id": "e8767cb9",
   "metadata": {},
   "source": [
    "When declaring a `const` object from a class, its public attributes become read-only. Additionally, only `const` methods may be called on it."
   ]
  },
  {
   "cell_type": "code",
   "execution_count": null,
   "id": "6c2a6ed5",
   "metadata": {},
   "outputs": [],
   "source": [
    "#include <iostream>\n",
    "\n",
    "class Complex {\n",
    "    float real, imag;      \n",
    "public:\n",
    "    Complex(float real, float imag) {\n",
    "        this->real = real, this->imag = imag;\n",
    "    }\n",
    "    \n",
    "    void print() {\n",
    "        std::cout << \"[Real]: \" << real << '\\n';\n",
    "        std::cout << \"[Imag]: \" << imag << '\\n';\n",
    "    }\n",
    "};\n",
    "\n",
    "int main() {\n",
    "    const Complex complex(5.6f, 7.4f);\n",
    "    complex.print();                          /* Error: 'print' may modify object declared 'const'. */\n",
    "}"
   ]
  },
  {
   "cell_type": "code",
   "execution_count": null,
   "id": "8c870e92",
   "metadata": {},
   "outputs": [],
   "source": [
    "#include <iostream>\n",
    "\n",
    "class Complex {\n",
    "    float real, imag;      \n",
    "public:\n",
    "    Complex(float real, float imag) {\n",
    "        this->real = real, this->imag = imag;\n",
    "    }\n",
    "    \n",
    "    void print() const {                            /* 'const' method. */\n",
    "        std::cout << \"[Real]: \" << real << '\\n';\n",
    "        std::cout << \"[Imag]: \" << imag << '\\n';\n",
    "    }\n",
    "};\n",
    "\n",
    "int main() {\n",
    "    const Complex complex(5.6f, 7.4f);\n",
    "    complex.print();                                /* Legal call. */\n",
    "}"
   ]
  },
  {
   "cell_type": "markdown",
   "id": "a8d75afe",
   "metadata": {},
   "source": [
    "*Note:* Any attempt to modify private attributes within `const` methods results in an error."
   ]
  },
  {
   "cell_type": "markdown",
   "id": "2db2944a",
   "metadata": {},
   "source": [
    "### `mutable` Attributes <a class=\"anchor\" id=\"mutable-attributes\"></a>"
   ]
  },
  {
   "cell_type": "markdown",
   "id": "69b53494",
   "metadata": {},
   "source": [
    "A `mutable` attribute may be modified within `const` methods."
   ]
  },
  {
   "cell_type": "code",
   "execution_count": null,
   "id": "52037259",
   "metadata": {},
   "outputs": [],
   "source": [
    "#include <iostream>\n",
    "\n",
    "class Complex {\n",
    "    float real, imag;\n",
    "    mutable float sum;\n",
    "public:\n",
    "    Complex(float real, float imag) {\n",
    "        this->real = real, this->imag = imag;\n",
    "    }\n",
    "    \n",
    "    void update_sum() const {                 /* 'const' method may modify 'mutable' attributes. */\n",
    "        sum = real + imag;\n",
    "        std::cout << sum;\n",
    "    }\n",
    "};\n",
    "\n",
    "int main() {\n",
    "    const Complex complex(5.6f, 7.7f);\n",
    "    complex.update_sum();            \n",
    "}"
   ]
  },
  {
   "cell_type": "markdown",
   "id": "a5bc715f",
   "metadata": {},
   "source": [
    "### The `static` keyword <a class=\"anchor\" id=\"the-static-keyword\"></a>"
   ]
  },
  {
   "cell_type": "markdown",
   "id": "c3efefcb",
   "metadata": {},
   "source": [
    "Within a class, the static keyword defines an attribute or method that belongs to the class and not a specific object."
   ]
  },
  {
   "cell_type": "code",
   "execution_count": null,
   "id": "12be3e5b",
   "metadata": {},
   "outputs": [],
   "source": [
    "#include <iostream>\n",
    "\n",
    "class Complex {\n",
    "    float real, imag;\n",
    "public:\n",
    "    static Complex default_value;                   /* Public static attribute declaration. */\n",
    "\n",
    "    Complex(float r, float i) : real(r), imag(i) {}\n",
    "    \n",
    "    void print() {\n",
    "        std::cout << \"[Real]: \" << real << '\\n';\n",
    "        std::cout << \"[Imag]: \" << imag << '\\n';\n",
    "    }\n",
    "};\n",
    "\n",
    "Complex Complex::default_value(0.5f, 0.6f);        /* Must be initialized once outside of class. */\n",
    "\n",
    "int main() {\n",
    "    Complex::default_value.print();\n",
    "}"
   ]
  },
  {
   "cell_type": "code",
   "execution_count": null,
   "id": "157b2ca9",
   "metadata": {},
   "outputs": [],
   "source": [
    "#include <iostream>\n",
    "\n",
    "class Complex {\n",
    "    float real, imag;\n",
    "    static Complex default_value;                    /* Private static attribute declaration. */            \n",
    "public:\n",
    "\n",
    "    Complex(float real, float imag) {\n",
    "        this->real = real, this->imag = imag;\n",
    "    }\n",
    "    \n",
    "    void print() {\n",
    "        std::cout << \"[Real]: \" << real << '\\n';\n",
    "        std::cout << \"[Imag]: \" << imag << '\\n';\n",
    "    }\n",
    "    \n",
    "    static void print_default() {                    /* Static method. */\n",
    "        default_value.print();\n",
    "    }\n",
    "};\n",
    "\n",
    "Complex Complex::default_value(0.5f, 0.6f);          /* Can be initialized, even though it is private. */\n",
    "\n",
    "int main() {\n",
    "    Complex::print_default();                        /* Static method call. */\n",
    "}"
   ]
  },
  {
   "cell_type": "markdown",
   "id": "a1960e28",
   "metadata": {},
   "source": [
    "*Note:* Static attributes are accessible in any file, as long as the class outline, which includes the declarations of all static attributes, has been included beforehand."
   ]
  },
  {
   "cell_type": "markdown",
   "id": "ffa44a6e",
   "metadata": {},
   "source": [
    "*Note:* When initializing static attributes or defining static methods outside of a class, omit the `static` keyword."
   ]
  },
  {
   "cell_type": "markdown",
   "id": "7d594cc3",
   "metadata": {},
   "source": [
    "*Note:* A `static const int` attribute may be initialized within class, directly in declaration. However, to be utilized as an object in memory with a unique address, it must be declared once outside of class as well, omitting the initializer. It is not recommended to utilize this feature."
   ]
  },
  {
   "cell_type": "markdown",
   "id": "0362fd3b",
   "metadata": {},
   "source": [
    "*Note:* Static variables, in general, are constructed in the order of definition, and not declaration. They are destructed in the reverse order of definition, after `main` exits."
   ]
  },
  {
   "cell_type": "markdown",
   "id": "01043086",
   "metadata": {},
   "source": [
    "### `friend` Functions and Classes <a class=\"anchor\" id=\"friend-functions-and-classes\"></a>"
   ]
  },
  {
   "cell_type": "markdown",
   "id": "469af710",
   "metadata": {},
   "source": [
    "A *friend* function of a class is a non-member function with access to that class's private attributes.\n",
    "\n",
    "Similarly, a *friend class* of another class has access to that class's private attributes."
   ]
  },
  {
   "cell_type": "markdown",
   "id": "9e1e7029",
   "metadata": {},
   "source": [
    "*Note:* Whether a friend declaration is placed in a private or public access section, does not matter."
   ]
  },
  {
   "cell_type": "code",
   "execution_count": 406,
   "id": "e7705e86",
   "metadata": {},
   "outputs": [
    {
     "name": "stdout",
     "output_type": "stream",
     "text": [
      "[Real]: 5\n",
      "[Imag]: 6\n"
     ]
    }
   ],
   "source": [
    "#include <iostream>\n",
    "\n",
    "class Complex {\n",
    "    float real, imag;\n",
    "public:\n",
    "    Complex(float r=0, float i=0) : real(r), imag(i) {}\n",
    "    \n",
    "    friend void print(const Complex &c);\n",
    "};\n",
    "    \n",
    "void print(const Complex &c) {\n",
    "    std::cout << \"[Real]: \" << c.real << '\\n';\n",
    "    std::cout << \"[Imag]: \" << c.imag << '\\n';\n",
    "}\n",
    "\n",
    "int main() {\n",
    "    print(Complex(5, 6));\n",
    "}"
   ]
  },
  {
   "cell_type": "markdown",
   "id": "198645be",
   "metadata": {},
   "source": [
    "*Note:* A friend function must either be declared before a class outline, or have at least one parameter of the class type."
   ]
  },
  {
   "cell_type": "code",
   "execution_count": 34,
   "id": "a3905118",
   "metadata": {},
   "outputs": [
    {
     "name": "stdout",
     "output_type": "stream",
     "text": [
      "5"
     ]
    }
   ],
   "source": [
    "#include <iostream>\n",
    "#include <cmath>\n",
    "\n",
    "class Complex {\n",
    "    float real, imag;\n",
    "public:\n",
    "    Complex(float r=0, float i=0) : real(r), imag(i) {}\n",
    "    \n",
    "    friend class Magnitude;\n",
    "};\n",
    "    \n",
    "class Magnitude {\n",
    "    float mag;\n",
    "public:\n",
    "    Magnitude(Complex c) :\n",
    "        mag(std::sqrt(std::pow(c.real, 2) + std::pow(c.imag, 2))) {}\n",
    "        \n",
    "    float get() { return mag; }\n",
    "};\n",
    "\n",
    "int main() {\n",
    "    std::cout << Magnitude(Complex(3, 4)).get();\n",
    "}"
   ]
  },
  {
   "cell_type": "markdown",
   "id": "5ccc3b0a",
   "metadata": {},
   "source": [
    "*Note:* A friend class must either be outlined before a befriended class, or after and within the same enclosing scope as the befriended class."
   ]
  },
  {
   "cell_type": "markdown",
   "id": "5c83402a",
   "metadata": {},
   "source": [
    "### Operator Overloading <a class=\"anchor\" id=\"operator-overloading\"></a>"
   ]
  },
  {
   "cell_type": "markdown",
   "id": "458a5b83",
   "metadata": {},
   "source": [
    "An operator may be *overloaded* with a non-static method of a class, or a non-member function.\n",
    "\n",
    "For a non-static method of a class, the first operand must be an object of the class, and is implicitly passed on through `this`. Otherwise, C++ enforces minimal constraints on the type of parameters to both non-static methods and non-member functions.\n",
    "\n",
    "However, C++ will enforce the number of parameters for binary and unary operators, respectively.\n",
    "\n",
    "Operands are passed onto an overloading function in left-to-right order."
   ]
  },
  {
   "cell_type": "markdown",
   "id": "7b98645c",
   "metadata": {},
   "source": [
    "| *Operator* |\n",
    "| --- |\n",
    "| `()` `[]` `->` |\n",
    "| (*Post*) `++` `--` |\n",
    "| `+` `-` `!` `~` *`(type)`* `*` `&` |\n",
    "| (*Pre*) `++` `--` |\n",
    "| `->*` |\n",
    "| `*` `/` `%` |\n",
    "| `+` `-` |\n",
    "| `<<` `>>` |\n",
    "| `<` `<=` `>` `>=` |\n",
    "| `==` `!=` |\n",
    "| `&` `^` `\\|` |\n",
    "| `&&` `\\|\\|` |\n",
    "| `=` |\n",
    "| `+=` `-=` `*=` `/=` `%=` `&=` `^=` `\\|=` `<<=` `>>=` |\n",
    "| `,` |"
   ]
  },
  {
   "cell_type": "markdown",
   "id": "d249f058",
   "metadata": {},
   "source": [
    "*Note:* `()`, `[]`, `->`, and `=` may only be overloaded with a non-static method of a class."
   ]
  },
  {
   "cell_type": "markdown",
   "id": "035033ad",
   "metadata": {},
   "source": [
    "*Note:* Only `=`, *(unary)* `&`, and `,` are implicitly defined for every class, in the absence of an explicit definition."
   ]
  },
  {
   "cell_type": "markdown",
   "id": "e7f4d637",
   "metadata": {},
   "source": [
    "*Note:* Except `()`, operator overloading functions cannot have default arguments."
   ]
  },
  {
   "cell_type": "markdown",
   "id": "31594eb7",
   "metadata": {},
   "source": [
    "*Note:* Operator overloading functions may be overloaded themselves, like any function in C++."
   ]
  },
  {
   "cell_type": "markdown",
   "id": "63582859",
   "metadata": {},
   "source": [
    "*Note:* Operator overloading functions with no user-defined types in their parameters are illegal."
   ]
  },
  {
   "cell_type": "markdown",
   "id": "680fefbc",
   "metadata": {},
   "source": [
    "#### Arithmetic, Relational, Equivalence, Bitwise, Logical <a class=\"anchor\" id=\"oo-most\"></a>"
   ]
  },
  {
   "cell_type": "markdown",
   "id": "403621f6",
   "metadata": {},
   "source": [
    "| *Operator* |\n",
    "| --- |\n",
    "| `*` `/` `%` |\n",
    "| `+` `-` |\n",
    "| `<<` `>>` |\n",
    "| `<` `<=` `>` `>=` |\n",
    "| `==` `!=` |\n",
    "| `&` `^` `\\|` |\n",
    "| `&&` `\\|\\|` |"
   ]
  },
  {
   "cell_type": "code",
   "execution_count": null,
   "id": "d0b078ed",
   "metadata": {},
   "outputs": [],
   "source": [
    "#include <iostream>\n",
    "\n",
    "class Complex {\n",
    "    float real, imag;\n",
    "public:\n",
    "    Complex(float r=0, float i=0) : real(r), imag(i) {}\n",
    "    \n",
    "    Complex operator+(const Complex &complex) {                  /* Non-static method. */\n",
    "        return Complex(real + complex.real, imag + complex.imag);\n",
    "    }\n",
    "    \n",
    "    void print() {\n",
    "        std::cout << \"[Real]: \" << real << '\\n';\n",
    "        std::cout << \"[Imag]: \" << imag << '\\n';\n",
    "    }\n",
    "};\n",
    "\n",
    "int main() {\n",
    "    (Complex(5, 6) + Complex(4)).print();    /* Valid. */\n",
    "    (Complex(5, 6) + 4).print();             /* Valid. */\n",
    "    (4 + Complex(5, 6)).print();             /* Error: ... */\n",
    "}"
   ]
  },
  {
   "cell_type": "code",
   "execution_count": 327,
   "id": "e1665ee7",
   "metadata": {},
   "outputs": [
    {
     "name": "stdout",
     "output_type": "stream",
     "text": [
      "[Real]: 9\n",
      "[Imag]: 6\n",
      "[Real]: 9\n",
      "[Imag]: 6\n",
      "[Real]: 9\n",
      "[Imag]: 6\n"
     ]
    }
   ],
   "source": [
    "#include <iostream>\n",
    "\n",
    "class Complex {\n",
    "    float real, imag;\n",
    "public:\n",
    "    Complex(float r=0, float i=0) : real(r), imag(i) {}\n",
    "    \n",
    "    void print() {\n",
    "        std::cout << \"[Real]: \" << real << '\\n';\n",
    "        std::cout << \"[Imag]: \" << imag << '\\n';\n",
    "    }\n",
    "    \n",
    "    friend Complex operator+(const Complex &c1, const Complex &c2);\n",
    "};\n",
    "\n",
    "Complex operator+(const Complex &c1, const Complex &c2) {                  /* Non-member function. */\n",
    "    return Complex(c1.real + c2.real, c1.imag + c2.imag);\n",
    "}\n",
    "\n",
    "int main() {\n",
    "    (Complex(5, 6) + Complex(4)).print();    /* Valid. */\n",
    "    (Complex(5, 6) + 4).print();             /* Valid. */\n",
    "    (4 + Complex(5, 6)).print();             /* Valid. */\n",
    "}"
   ]
  },
  {
   "cell_type": "markdown",
   "id": "ebc2f4e2",
   "metadata": {},
   "source": [
    "#### Assignment <a class=\"anchor\" id=\"oo-assignment\"></a>"
   ]
  },
  {
   "cell_type": "markdown",
   "id": "47202e8a",
   "metadata": {},
   "source": [
    "| *Operator* |\n",
    "| --- |\n",
    "| `=` |\n",
    "| `+=` `-=` `*=` `/=` `%=` `&=` `^=` `\\|=` `<<=` `>>=` |"
   ]
  },
  {
   "cell_type": "code",
   "execution_count": 333,
   "id": "514e3e87",
   "metadata": {},
   "outputs": [
    {
     "name": "stdout",
     "output_type": "stream",
     "text": [
      "Constructor.\n",
      "Constructor.\n",
      "Assignment operator.\n"
     ]
    }
   ],
   "source": [
    "#include <iostream>\n",
    "\n",
    "class Complex {\n",
    "    float real, imag;\n",
    "public:\n",
    "    Complex(float r=0, float i=0) : real(r), imag(i) {\n",
    "        std::cout << \"Constructor.\\n\";\n",
    "    }\n",
    "    \n",
    "    Complex & operator=(const Complex &complex) {                  /* Non-static method. */\n",
    "        real = complex.real;\n",
    "        imag = complex.imag;\n",
    "        std::cout << \"Assignment operator.\\n\";\n",
    "        return *this;\n",
    "    }\n",
    "    \n",
    "    void print() {\n",
    "        std::cout << \"[Real]: \" << real << '\\n';\n",
    "        std::cout << \"[Imag]: \" << imag << '\\n';\n",
    "    }\n",
    "};\n",
    "\n",
    "int main() {\n",
    "    Complex comp = 5;    /* Constructing Complex(5) (initialization). */\n",
    "    comp = 6;            /* Constructing Complex(6), then assignment. */\n",
    "}"
   ]
  },
  {
   "cell_type": "markdown",
   "id": "6781fe36",
   "metadata": {},
   "source": [
    "#### Unary <a class=\"anchor\" id=\"oo-unary\"></a>"
   ]
  },
  {
   "cell_type": "markdown",
   "id": "a32ab9bd",
   "metadata": {},
   "source": [
    "| *Operator* |\n",
    "| --- |\n",
    "| `+` `-` `!` `~` `*` `&` |"
   ]
  },
  {
   "cell_type": "code",
   "execution_count": 336,
   "id": "4beddbee",
   "metadata": {},
   "outputs": [
    {
     "name": "stdout",
     "output_type": "stream",
     "text": [
      "[Real]: -5\n",
      "[Imag]: -3\n"
     ]
    }
   ],
   "source": [
    "#include <iostream>\n",
    "\n",
    "class Complex {\n",
    "    float real, imag;\n",
    "public:\n",
    "    Complex(float r=0, float i=0) : real(r), imag(i) {}\n",
    "    \n",
    "    void print() {\n",
    "        std::cout << \"[Real]: \" << real << '\\n';\n",
    "        std::cout << \"[Imag]: \" << imag << '\\n';\n",
    "    }\n",
    "    \n",
    "    friend Complex operator-(const Complex &complex);\n",
    "};\n",
    "\n",
    "Complex operator-(const Complex &complex) {                                 /* Non-member function. */\n",
    "    return Complex(-complex.real, -complex.imag);\n",
    "}\n",
    "\n",
    "int main() {\n",
    "    (-Complex(5, 3)).print();\n",
    "}"
   ]
  },
  {
   "cell_type": "code",
   "execution_count": 390,
   "id": "3ded1349",
   "metadata": {},
   "outputs": [
    {
     "name": "stdout",
     "output_type": "stream",
     "text": [
      "[Real]: -5\n",
      "[Imag]: -3\n"
     ]
    }
   ],
   "source": [
    "#include <iostream>\n",
    "\n",
    "class Complex {\n",
    "    float real, imag;\n",
    "public:\n",
    "    Complex(float r=0, float i=0) : real(r), imag(i) {}\n",
    "    \n",
    "    void print() {\n",
    "        std::cout << \"[Real]: \" << real << '\\n';\n",
    "        std::cout << \"[Imag]: \" << imag << '\\n';\n",
    "    }\n",
    "    \n",
    "    friend Complex operator-(const Complex &complex);\n",
    "};\n",
    "\n",
    "Complex operator-(const Complex &complex) {                                 /* Non-member function. */\n",
    "    return Complex(-complex.real, -complex.imag);\n",
    "}\n",
    "\n",
    "int main() {\n",
    "    (-Complex(5, 3)).print();\n",
    "}"
   ]
  },
  {
   "cell_type": "markdown",
   "id": "e258b343",
   "metadata": {},
   "source": [
    "#### Type Conversion <a class=\"anchor\" id=\"oo-type-conversion\"></a>"
   ]
  },
  {
   "cell_type": "markdown",
   "id": "aea9353b",
   "metadata": {},
   "source": [
    "| *Operator* |\n",
    "| --- |\n",
    "| *`(type)`* |"
   ]
  },
  {
   "cell_type": "code",
   "execution_count": 339,
   "id": "f528b2c3",
   "metadata": {},
   "outputs": [
    {
     "name": "stdout",
     "output_type": "stream",
     "text": [
      "5.3"
     ]
    }
   ],
   "source": [
    "#include <iostream>\n",
    "\n",
    "class Complex {\n",
    "    float real, imag;\n",
    "public:\n",
    "    Complex(float r=0, float i=0) : real(r), imag(i) {}\n",
    "    \n",
    "    void print() {\n",
    "        std::cout << \"[Real]: \" << real << '\\n';\n",
    "        std::cout << \"[Imag]: \" << imag << '\\n';\n",
    "    }\n",
    "    \n",
    "    operator float() {\n",
    "        return real;\n",
    "    }\n",
    "};\n",
    "\n",
    "int main() {\n",
    "    float tmp = Complex(5.3, 4.5);\n",
    "    std::cout << tmp;\n",
    "}"
   ]
  },
  {
   "cell_type": "markdown",
   "id": "ee872c43",
   "metadata": {},
   "source": [
    "#### Increment, Decrement <a class=\"anchor\" id=\"oo-increment-decrement\"></a>"
   ]
  },
  {
   "cell_type": "markdown",
   "id": "016bc16c",
   "metadata": {},
   "source": [
    "| *Operator* |\n",
    "| --- |\n",
    "| (*Post*) `++` `--` |\n",
    "| (*Pre*) `++` `--` |"
   ]
  },
  {
   "cell_type": "code",
   "execution_count": 348,
   "id": "11ed55e6",
   "metadata": {
    "scrolled": true
   },
   "outputs": [
    {
     "name": "stdout",
     "output_type": "stream",
     "text": [
      "[Real]: 5, [Imag]: 7\n",
      "[Real]: 6, [Imag]: 8\n",
      "[Real]: 7, [Imag]: 9\n",
      "[Real]: 7, [Imag]: 9\n"
     ]
    }
   ],
   "source": [
    "#include <iostream>\n",
    "\n",
    "class Complex {\n",
    "    float real, imag;\n",
    "public:\n",
    "    Complex(float r=0, float i=0) : real(r), imag(i) {}\n",
    "    \n",
    "    void print() {\n",
    "        std::cout << \"[Real]: \" << real << \", \";\n",
    "        std::cout << \"[Imag]: \" << imag << '\\n';\n",
    "    }\n",
    "    \n",
    "    Complex operator++(int dummy) {             /* Postfix. */\n",
    "        return Complex(real++, imag++);\n",
    "    }\n",
    "    \n",
    "    Complex & operator++() {                    /* Prefix. */\n",
    "        real++, imag++;\n",
    "        return *this;\n",
    "    }\n",
    "};\n",
    "\n",
    "int main() {\n",
    "    Complex complex(5, 7);\n",
    "    (complex++).print();\n",
    "    complex.print();\n",
    "    (++complex).print();\n",
    "    complex.print();\n",
    "}"
   ]
  },
  {
   "cell_type": "markdown",
   "id": "1a5cfee0",
   "metadata": {},
   "source": [
    "*Note:* The *dummy* variable to a post-increment operator overloading function is never used."
   ]
  },
  {
   "cell_type": "markdown",
   "id": "9dbf1640",
   "metadata": {},
   "source": [
    "#### Subscripting <a class=\"anchor\" id=\"oo-subscripting\"></a>"
   ]
  },
  {
   "cell_type": "markdown",
   "id": "cd27b2b0",
   "metadata": {},
   "source": [
    "| *Operator* |\n",
    "| --- |\n",
    "| `[]` |"
   ]
  },
  {
   "cell_type": "code",
   "execution_count": 358,
   "id": "097b1849",
   "metadata": {},
   "outputs": [
    {
     "name": "stdout",
     "output_type": "stream",
     "text": [
      "3.3\n",
      "4.4\n"
     ]
    }
   ],
   "source": [
    "#include <iostream>\n",
    "\n",
    "class Complex {\n",
    "    float real, imag;\n",
    "public:\n",
    "    Complex(float r=0, float i=0) : real(r), imag(i) {}\n",
    "    \n",
    "    void print() {\n",
    "        std::cout << \"[Real]: \" << real << \", \";\n",
    "        std::cout << \"[Imag]: \" << imag << '\\n';\n",
    "    }\n",
    "    \n",
    "    float operator[](int index) {\n",
    "        return index == 0 ? real : imag;\n",
    "    }\n",
    "};\n",
    "\n",
    "int main() {\n",
    "    Complex complex(3.3, 4.4);\n",
    "    std::cout << complex[0] << '\\n';\n",
    "    std::cout << complex[1] << '\\n';\n",
    "}"
   ]
  },
  {
   "cell_type": "markdown",
   "id": "8b47070e",
   "metadata": {},
   "source": [
    "*Note:* The subscripting operator must receive a single parameter."
   ]
  },
  {
   "cell_type": "markdown",
   "id": "312efbf2",
   "metadata": {},
   "source": [
    "#### Function Call <a class=\"anchor\" id=\"oo-function-call\"></a>"
   ]
  },
  {
   "cell_type": "markdown",
   "id": "a7d98673",
   "metadata": {},
   "source": [
    "| *Operator* |\n",
    "| --- |\n",
    "| `()` |"
   ]
  },
  {
   "cell_type": "code",
   "execution_count": 376,
   "id": "81acb04b",
   "metadata": {},
   "outputs": [
    {
     "name": "stdout",
     "output_type": "stream",
     "text": [
      "[0][5]\n",
      "[4][0]"
     ]
    }
   ],
   "source": [
    "#include <iostream>\n",
    "\n",
    "class Matrix {\n",
    "    int arr[4];\n",
    "    \n",
    "    void print_val(int i) {\n",
    "        std::cout << '[' << arr[i] << ']';\n",
    "    }\n",
    "public:\n",
    "    Matrix() {\n",
    "        for (int i = 0; i < 4; i++) { \n",
    "            arr[i] = 0;\n",
    "        }\n",
    "    }\n",
    "    \n",
    "    void print() {\n",
    "        print_val(0);\n",
    "        print_val(1);\n",
    "        std::cout << '\\n';\n",
    "        print_val(2);\n",
    "        print_val(3);\n",
    "    }\n",
    "    \n",
    "    int & operator() (int i=0, int j=0) {\n",
    "        return arr[i*2+j];\n",
    "    }\n",
    "};\n",
    "\n",
    "int main() {\n",
    "    Matrix matrix;\n",
    "    matrix(0, 1) = 5;\n",
    "    matrix(1) = 4;\n",
    "    matrix.print();\n",
    "}"
   ]
  },
  {
   "cell_type": "markdown",
   "id": "63ea1228",
   "metadata": {},
   "source": [
    "#### The `->` operator <a class=\"anchor\" id=\"oo-the-->-operator\"></a>"
   ]
  },
  {
   "cell_type": "markdown",
   "id": "cc714c98",
   "metadata": {},
   "source": [
    "| *Operator* |\n",
    "| --- |\n",
    "| `->` |"
   ]
  },
  {
   "cell_type": "code",
   "execution_count": 401,
   "id": "91e37732",
   "metadata": {},
   "outputs": [
    {
     "name": "stdout",
     "output_type": "stream",
     "text": [
      "[Real]: 3.3, [Imag]: 4.4\n",
      "5"
     ]
    }
   ],
   "source": [
    "#include <iostream>\n",
    "\n",
    "class Complex {\n",
    "    float real, imag;\n",
    "public:\n",
    "    Complex(float r=0, float i=0) : real(r), imag(i) {}\n",
    "    \n",
    "    void print() {\n",
    "        std::cout << \"[Real]: \" << real << \", \";\n",
    "        std::cout << \"[Imag]: \" << imag << '\\n';\n",
    "    }\n",
    "    \n",
    "    Complex * operator->() {                  /* Must return pointer, and receive no parameters. */\n",
    "        return this;\n",
    "    }\n",
    "};\n",
    "\n",
    "int main() {\n",
    "    Complex complex(3.3, 4.4);\n",
    "    complex->print();\n",
    "}"
   ]
  },
  {
   "cell_type": "markdown",
   "id": "69f587e6",
   "metadata": {},
   "source": [
    "*Note*: `->` overloading is primarily used to implement *smart pointers*. Those are objects that behave like pointers, with additional functionalities."
   ]
  },
  {
   "cell_type": "markdown",
   "id": "03321cc2",
   "metadata": {},
   "source": [
    "*Note:* `->*`, as a non-static method, receives a single argument, and may return any type. It is seldom implemented."
   ]
  }
 ],
 "metadata": {
  "kernelspec": {
   "display_name": "C",
   "language": "c",
   "name": "c"
  },
  "language_info": {
   "file_extension": ".cpp",
   "mimetype": "text/plain",
   "name": "c++"
  }
 },
 "nbformat": 4,
 "nbformat_minor": 5
}
