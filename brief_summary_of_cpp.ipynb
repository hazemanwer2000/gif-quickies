{
 "cells": [
  {
   "cell_type": "markdown",
   "id": "b323e208",
   "metadata": {},
   "source": [
    "# A brief summary of C++ (98)\n",
    "<br>\n",
    "<div style=\"opacity: 0.8; font-family: Consolas, Monaco, Lucida Console, Liberation Mono, DejaVu Sans Mono, Bitstream Vera Sans Mono, Courier New; font-size: 12px; font-style: italic;\">\n",
    "    ────────\n",
    "    for more from the author, visit\n",
    "    <a href=\"https://github.com/hazemanwer2000\">github.com/hazemanwer2000</a>.\n",
    "    ────────\n",
    "</div>"
   ]
  },
  {
   "cell_type": "markdown",
   "id": "a561d09c",
   "metadata": {},
   "source": [
    "## Table of Contents\n",
    "* [Operators](#operators)\n",
    "* [Classes](#classes)\n",
    "    * [`explicit` Constructors](#explicit-constructors)\n",
    "    * [`const` Methods](#const-methods)\n",
    "    * [`mutable` Attributes](#mutable-attributes)\n",
    "    * [The `static` keyword](#the-static-keyword)\n",
    "    * [Operator Overloading](#operator-overloading)\n",
    "    \n",
    "<hr>"
   ]
  },
  {
   "cell_type": "markdown",
   "id": "fb56f3e3",
   "metadata": {},
   "source": [
    "C++ extends the C language by bringing mostly *Object-Oriented Programming* (OOP) features to a structured language."
   ]
  },
  {
   "cell_type": "markdown",
   "id": "f1130bf2",
   "metadata": {},
   "source": [
    "*Note:* This writing builds upon <a href=\"https://github.com/hazemanwer2000/data-structures-in-c/blob/main/brief_summary_of_c.ipynb\">*A brief summary of C*</a>, and introduces the C++ language as a superset of the C language, with minor exceptions."
   ]
  },
  {
   "cell_type": "markdown",
   "id": "6d7236b8",
   "metadata": {},
   "source": [
    "## Operators"
   ]
  },
  {
   "cell_type": "markdown",
   "id": "e698fc28",
   "metadata": {},
   "source": [
    "| *Operator* | *Associativity* | *Precedence* |\n",
    "| --- | --- | |\n",
    "| `::` | *left-to-right* | ↑ |\n",
    "| `()` `[]` `->` `.` <br><br> (*Post*) `++` `--` <br><br> `static_cast` `reinterpret_cast` `const_cast` `dynamic_cast` | *left-to-right* |\n",
    "| `+` `-` `!` `~` *`(type)`* `*` `&` `sizeof` <br><br> (*Pre*) `++` `--` <br><br> `new` `delete` | *right-to-left* |\n",
    "| `->*` `.*` | *left-to-right* |\n",
    "| `*` `/` `%` | *left-to-right* |\n",
    "| `+` `-` | *left-to-right* |\n",
    "| `<<` `>>` | *left-to-right* |\n",
    "| `<` `<=` `>` `>=` | *left-to-right* |\n",
    "| `==` `!=` | *left-to-right* |\n",
    "| `&` | *left-to-right* |\n",
    "| `^` | *left-to-right* |\n",
    "| `\\|` | *left-to-right* |\n",
    "| `&&` | *left-to-right* |\n",
    "| `\\|\\|` | *left-to-right* |\n",
    "| `?:` <br><br> `=` `+=` `-=` `*=` `/=` `%=` `&=` `^=` `\\|=` `<<=` `>>=` <br><br> `throw` | *right-to-left* |\n",
    "| `,` | *left-to-right* | ↓ |"
   ]
  },
  {
   "cell_type": "markdown",
   "id": "3590fedc",
   "metadata": {},
   "source": [
    "## Classes <a class=\"anchor\" id=\"classes\"></a>"
   ]
  },
  {
   "cell_type": "markdown",
   "id": "974c810c",
   "metadata": {},
   "source": [
    "A *class* is an outline for an *object*. It defines the attributes and methods of each object."
   ]
  },
  {
   "cell_type": "code",
   "execution_count": null,
   "id": "ad65eca4",
   "metadata": {},
   "outputs": [],
   "source": [
    "class Complex {\n",
    "    float real, imag;                     /* Attribute. */\n",
    "    void print() { /* ... */ }            /* Method. */\n",
    "};"
   ]
  },
  {
   "cell_type": "markdown",
   "id": "3153d690",
   "metadata": {},
   "source": [
    "*Note:* A method defined at the beginning of a class may call another method defined at the end, and similarly for attributes."
   ]
  },
  {
   "cell_type": "markdown",
   "id": "7ae91b00",
   "metadata": {},
   "source": [
    "An *access specifier* outlines the accessibility of each attribute and method."
   ]
  },
  {
   "cell_type": "code",
   "execution_count": null,
   "id": "93fa2a0f",
   "metadata": {},
   "outputs": [],
   "source": [
    "class Complex {\n",
    "private:                                 /* Accessible with-in class only. */\n",
    "    float real, imag;\n",
    "public:                                  /* Accessible everywhere. */\n",
    "    void print() { /* ... */ }\n",
    "}"
   ]
  },
  {
   "cell_type": "markdown",
   "id": "ee0bc75a",
   "metadata": {},
   "source": [
    "*Note:* A `private` access specifier is placed implicitly at the beginning of a class outline."
   ]
  },
  {
   "cell_type": "markdown",
   "id": "12ff0a81",
   "metadata": {},
   "source": [
    "A *constructor* is a special method, called once when an object is first defined. It has no return type, and must be the same name as the class."
   ]
  },
  {
   "cell_type": "code",
   "execution_count": null,
   "id": "e9a240dd",
   "metadata": {},
   "outputs": [],
   "source": [
    "class Complex {\n",
    "private:\n",
    "    float real, imag;\n",
    "public:\n",
    "    Complex(float r, float i) {            /* Constructor. */\n",
    "        real = r, imag = i;\n",
    "    }\n",
    "}"
   ]
  },
  {
   "cell_type": "markdown",
   "id": "ba11b41e",
   "metadata": {},
   "source": [
    "Constructors, as with any function in C++, may be *overloaded*."
   ]
  },
  {
   "cell_type": "code",
   "execution_count": null,
   "id": "b9ea6697",
   "metadata": {},
   "outputs": [],
   "source": [
    "class Complex {\n",
    "private:\n",
    "    float real, imag;\n",
    "public:\n",
    "    Complex(float r, float i) {            /* Constructor(float, float) */\n",
    "        real = r, imag = i;\n",
    "    }\n",
    "\n",
    "    Complex(float r) {                     /* Constructor(float) */\n",
    "        real = r, imag = 0;\n",
    "    }\n",
    "    \n",
    "    Complex() {                            /* Constructor() */\n",
    "        real = imag = 0;\n",
    "    }\n",
    "}"
   ]
  },
  {
   "cell_type": "markdown",
   "id": "b30721bf",
   "metadata": {},
   "source": [
    "*Note:* Function overloading is discussed later."
   ]
  },
  {
   "cell_type": "markdown",
   "id": "91c9bc14",
   "metadata": {},
   "source": [
    "Constructors, as with any function in C++, may receive default arguments."
   ]
  },
  {
   "cell_type": "code",
   "execution_count": null,
   "id": "ffa20636",
   "metadata": {},
   "outputs": [],
   "source": [
    "class Complex {\n",
    "private:\n",
    "    float real, imag;\n",
    "public:\n",
    "    Complex(float r=0, float i=0) {            /* Constructor(float (optional), float (optional)) */\n",
    "        real = r, imag = i;\n",
    "    }\n",
    "}"
   ]
  },
  {
   "cell_type": "markdown",
   "id": "4b39df0b",
   "metadata": {},
   "source": [
    "*Note:* Default arguments are discussed later."
   ]
  },
  {
   "cell_type": "markdown",
   "id": "e957f735",
   "metadata": {},
   "source": [
    "An object may be defined and initialized from a class in a number of ways."
   ]
  },
  {
   "cell_type": "code",
   "execution_count": 62,
   "id": "3a0b48f4",
   "metadata": {},
   "outputs": [
    {
     "name": "stdout",
     "output_type": "stream",
     "text": [
      "Complex()\n",
      "Complex(float)\n",
      "Complex(float, float)\n"
     ]
    }
   ],
   "source": [
    "#include <iostream>\n",
    "\n",
    "class Complex {\n",
    "private:\n",
    "    float real, imag;\n",
    "public:\n",
    "    Complex(float r, float i) {            /* Constructor(float, float) */\n",
    "        real = r, imag = i;\n",
    "        std::cout << \"Complex(float, float)\\n\";\n",
    "    }\n",
    "\n",
    "    Complex(float r) {                     /* Constructor(float) */\n",
    "        real = r, imag = 0;\n",
    "        std::cout << \"Complex(float)\\n\";\n",
    "    }\n",
    "    \n",
    "    Complex() {                            /* Constructor() */\n",
    "        real = imag = 0;\n",
    "        std::cout << \"Complex()\\n\";\n",
    "    }\n",
    "};\n",
    "\n",
    "int main() {\n",
    "    Complex complex1;                      /* Called 'default initialization'. */            \n",
    "    Complex complex3(5.6f);                /* Called 'direct initialization'. */\n",
    "    Complex complex4(3.4f, 4.2f);\n",
    "}"
   ]
  },
  {
   "cell_type": "code",
   "execution_count": null,
   "id": "cb01337e",
   "metadata": {},
   "outputs": [],
   "source": [
    "Complex complex1();                      /* Warning: Empty parentheses disambiguated */\n",
    "                                         /*          as a function declaration. */"
   ]
  },
  {
   "cell_type": "code",
   "execution_count": 65,
   "id": "d0fab2a6",
   "metadata": {},
   "outputs": [],
   "source": [
    "#include <iostream>\n",
    "\n",
    "class Complex {\n",
    "private:\n",
    "    float real, imag;                    /* Missing explicit constructor, implicitly defined. */\n",
    "};\n",
    "\n",
    "int main() {\n",
    "    Complex complex1;                    /* Default-initialized with nothing. */            \n",
    "}"
   ]
  },
  {
   "cell_type": "code",
   "execution_count": null,
   "id": "d7e1bb8e",
   "metadata": {},
   "outputs": [],
   "source": [
    "#include <iostream>\n",
    "\n",
    "class Complex {\n",
    "private:\n",
    "    float real, imag;\n",
    "public:\n",
    "    Complex(float r, float i) {            /* Single explicit constructor, non-default. */\n",
    "        real = r, imag = i;\n",
    "    }\n",
    "};\n",
    "\n",
    "int main() {\n",
    "    Complex complex1;                      /* Error: Default constructor is no longer */\n",
    "                                           /*        implicitly defined. */        \n",
    "}"
   ]
  },
  {
   "cell_type": "markdown",
   "id": "f7e5cd01",
   "metadata": {},
   "source": [
    "A *temporary* object is allocated and deallocated in an expression."
   ]
  },
  {
   "cell_type": "code",
   "execution_count": 153,
   "id": "94d0a569",
   "metadata": {},
   "outputs": [
    {
     "name": "stdout",
     "output_type": "stream",
     "text": [
      "[Real]: 5.6\n",
      "[Imag]: 3.4\n",
      "[Real]: 0\n",
      "[Imag]: 0\n"
     ]
    }
   ],
   "source": [
    "#include <iostream>\n",
    "\n",
    "class Complex {\n",
    "private:\n",
    "    float real, imag;\n",
    "public:\n",
    "    Complex(float r, float i) {\n",
    "        real = r, imag = i;\n",
    "    }\n",
    "    \n",
    "    Complex() {\n",
    "        real = 0, imag = 0;\n",
    "    }\n",
    "    \n",
    "    void print() {\n",
    "        std::cout << \"[Real]: \" << real << '\\n';\n",
    "        std::cout << \"[Imag]: \" << imag << '\\n';\n",
    "    }\n",
    "};\n",
    "\n",
    "int main() {\n",
    "    Complex(5.6f, 3.4f).print();\n",
    "    Complex().print();\n",
    "}"
   ]
  },
  {
   "cell_type": "markdown",
   "id": "fe2d7dd5",
   "metadata": {},
   "source": [
    "A *copy constructor* is a constructor that receives a `const` reference to an object of the same class."
   ]
  },
  {
   "cell_type": "code",
   "execution_count": 154,
   "id": "73c0b2cd",
   "metadata": {},
   "outputs": [
    {
     "name": "stdout",
     "output_type": "stream",
     "text": [
      "Complex(const Complex &)\n",
      "[Real]: 5.6\n",
      "[Imag]: 7.2\n",
      "Complex(const Complex &)\n",
      "[Real]: 5.6\n",
      "[Imag]: 7.2\n"
     ]
    }
   ],
   "source": [
    "#include <iostream>\n",
    "\n",
    "class Complex {\n",
    "    float real, imag;\n",
    "public:\n",
    "    Complex(float r, float i) {\n",
    "        real = r, imag = i;\n",
    "    }\n",
    "    \n",
    "    Complex(const Complex &complex) {              /* Copy constructor. */\n",
    "        real = complex.real;\n",
    "        imag = complex.imag;\n",
    "        std::cout << \"Complex(const Complex &)\" << '\\n';\n",
    "    }  \n",
    "    \n",
    "    void print() {\n",
    "        std::cout << \"[Real]: \" << real << '\\n';\n",
    "        std::cout << \"[Imag]: \" << imag << '\\n';\n",
    "    }\n",
    "};\n",
    "\n",
    "int main() {\n",
    "    Complex complex1(5.6f, 7.2f); \n",
    "\n",
    "    Complex complex2(complex1);           /* Calls copy constructor. */\n",
    "    complex2.print();\n",
    "    \n",
    "    Complex complex3 = complex2;          /* Equivalent syntax (not recommended). */\n",
    "    complex3.print();\n",
    "}"
   ]
  },
  {
   "cell_type": "markdown",
   "id": "dc86e650",
   "metadata": {},
   "source": [
    "*Note:* References are discussed later."
   ]
  },
  {
   "cell_type": "markdown",
   "id": "e2d746a6",
   "metadata": {},
   "source": [
    "*Note:* If a copy constructor is missing from a class outline, it is implicitly defined to dummy-copy the attributes. This could introduce problems when, for example, a pointer to dynamically allocated data is an attribute."
   ]
  },
  {
   "cell_type": "markdown",
   "id": "477066c2",
   "metadata": {},
   "source": [
    "When initializing using temporary objects, the copy constructor may be optimized away."
   ]
  },
  {
   "cell_type": "code",
   "execution_count": 135,
   "id": "85766c77",
   "metadata": {},
   "outputs": [
    {
     "name": "stdout",
     "output_type": "stream",
     "text": [
      "[Real]: 5\n",
      "[Imag]: 6\n",
      "[Real]: 5\n",
      "[Imag]: 6\n",
      "Complex(const Complex &)\n",
      "[Real]: 6\n",
      "[Imag]: 7\n"
     ]
    }
   ],
   "source": [
    "#include <iostream>\n",
    "\n",
    "class Complex {\n",
    "    float real, imag;\n",
    "public:\n",
    "    Complex(float r, float i) {\n",
    "        real = r, imag = i;\n",
    "    }\n",
    "    \n",
    "    Complex(Complex &complex) {              /* Copy constructor. */\n",
    "        real = complex.real;\n",
    "        imag = complex.imag;\n",
    "        std::cout << \"Complex(const Complex &)\" << '\\n';\n",
    "    }  \n",
    "    \n",
    "    void print() {\n",
    "        std::cout << \"[Real]: \" << real << '\\n';\n",
    "        std::cout << \"[Imag]: \" << imag << '\\n';\n",
    "    }\n",
    "    \n",
    "    Complex & increment() {\n",
    "        real++, imag++;\n",
    "        return *this;                            /* Discussed later. */\n",
    "    }\n",
    "};\n",
    "\n",
    "int main() {\n",
    "    Complex complex1(Complex(5, 6));                       /* Optimized to 'Complex complex(5, 6)' */\n",
    "    complex1.print();\n",
    "    \n",
    "    Complex complex2 = Complex(5, 6);                      /* Equivalent syntax (not recommended). */\n",
    "    complex2.print();\n",
    "\n",
    "    Complex complex3(Complex(5, 6).increment());           /* Calls copy constructor. */\n",
    "    complex3.print();\n",
    "}"
   ]
  },
  {
   "cell_type": "markdown",
   "id": "c54a453f",
   "metadata": {},
   "source": [
    "*Note:* When passing or returning objects by value, the copy constructor is implicitly called."
   ]
  },
  {
   "cell_type": "markdown",
   "id": "c972bc8a",
   "metadata": {},
   "source": [
    "An *initialization list* allows the initialization of attributes by a constructor."
   ]
  },
  {
   "cell_type": "code",
   "execution_count": null,
   "id": "0da4e0d9",
   "metadata": {
    "scrolled": true
   },
   "outputs": [],
   "source": [
    "#include <iostream>\n",
    "\n",
    "class Complex {\n",
    "    const float real;\n",
    "    const float imag;\n",
    "public:\n",
    "    Complex(float r, float i) {\n",
    "        real = r, imag = i;\n",
    "    }\n",
    "\n",
    "    void print() {\n",
    "        std::cout << \"[Real]: \" << real << '\\n';\n",
    "        std::cout << \"[Imag]: \" << imag << '\\n';\n",
    "    }\n",
    "};\n",
    "\n",
    "int main() {\n",
    "    Complex(5.6f, 3.4f).print();         /* Error: 'const' attribute should be initialized. */\n",
    "}"
   ]
  },
  {
   "cell_type": "code",
   "execution_count": 226,
   "id": "6fafc934",
   "metadata": {},
   "outputs": [
    {
     "name": "stdout",
     "output_type": "stream",
     "text": [
      "[Real]: 5.6\n",
      "[Imag]: 3.4\n",
      "[Real]: 0\n",
      "[Imag]: 0\n"
     ]
    }
   ],
   "source": [
    "#include <iostream>\n",
    "\n",
    "class Complex {\n",
    "    const float real;\n",
    "    const float imag;\n",
    "public:\n",
    "    Complex(float real, float imag) : real(real), imag(imag) {}\n",
    "    Complex() : real(), imag() {}\n",
    "    \n",
    "    void print() {\n",
    "        std::cout << \"[Real]: \" << real << '\\n';\n",
    "        std::cout << \"[Imag]: \" << imag << '\\n';\n",
    "    }\n",
    "};\n",
    "\n",
    "int main() {\n",
    "    Complex(5.6f, 3.4f).print(); \n",
    "    Complex().print();\n",
    "}"
   ]
  },
  {
   "cell_type": "markdown",
   "id": "5f1a9b07",
   "metadata": {},
   "source": [
    "*Note:* Initialization of attributes is similar in syntax to the initialization of temporary objects."
   ]
  },
  {
   "cell_type": "markdown",
   "id": "38de63e6",
   "metadata": {},
   "source": [
    "*Note:* Attributes are initialized in the order they are declared within class, and not their order in the intialization list."
   ]
  },
  {
   "cell_type": "markdown",
   "id": "e1512181",
   "metadata": {},
   "source": [
    "An array of objects may only be defined if a default constructor is present. The default constructor is called for each object in the array."
   ]
  },
  {
   "cell_type": "code",
   "execution_count": 210,
   "id": "dbdf3c67",
   "metadata": {},
   "outputs": [
    {
     "name": "stdout",
     "output_type": "stream",
     "text": [
      "Default init.\n",
      "Default init.\n",
      "Default init.\n"
     ]
    }
   ],
   "source": [
    "#include <iostream>\n",
    "\n",
    "class Complex {\n",
    "    float real, imag;\n",
    "public:\n",
    "    Complex() : real(), imag() {\n",
    "        std::cout << \"Default init.\\n\";\n",
    "    }\n",
    "};\n",
    "\n",
    "int main() {\n",
    "    Complex comp[3];\n",
    "}"
   ]
  },
  {
   "cell_type": "markdown",
   "id": "5c4bd298",
   "metadata": {},
   "source": [
    "A *destructor* is analogous to a constructor. It is called implicitly whenever an object is deallocated. Unlike a constructor, only a single destructor may be defined, and must have no parameters."
   ]
  },
  {
   "cell_type": "code",
   "execution_count": 211,
   "id": "892424d7",
   "metadata": {},
   "outputs": [
    {
     "name": "stdout",
     "output_type": "stream",
     "text": [
      "Constructor.\n",
      "Destructor.\n",
      "Constructor.\n",
      "Destructor.\n"
     ]
    }
   ],
   "source": [
    "#include <iostream>\n",
    "\n",
    "class Complex {\n",
    "    float real, imag;\n",
    "public:\n",
    "    Complex() : real(), imag() {\n",
    "        std::cout << \"Constructor.\\n\";\n",
    "    }\n",
    "    \n",
    "    ~Complex() {\n",
    "        std::cout << \"Destructor.\\n\";\n",
    "    }\n",
    "};\n",
    "\n",
    "int main() {\n",
    "    Complex();            /* Temporary objects, allocated and de-allocated immediately. */\n",
    "    Complex();\n",
    "}"
   ]
  },
  {
   "cell_type": "code",
   "execution_count": 221,
   "id": "cb1ba584",
   "metadata": {},
   "outputs": [
    {
     "name": "stdout",
     "output_type": "stream",
     "text": [
      "Constructor. 1\n",
      "Constructor. 2\n",
      "Destructor. 2\n",
      "Destructor. 1\n"
     ]
    }
   ],
   "source": [
    "#include <iostream>\n",
    "\n",
    "class Complex {\n",
    "    float real, imag;\n",
    "public:\n",
    "    Complex(float r, float i) : real(r), imag(i) {\n",
    "        std::cout << \"Constructor. \" << real << '\\n';\n",
    "    }\n",
    "    \n",
    "    ~Complex() {\n",
    "        std::cout << \"Destructor. \" << real << '\\n';\n",
    "    }\n",
    "};\n",
    "\n",
    "int main() {\n",
    "    Complex complex1(1, 1), complex2(2, 2);     /* Local objects, allocated together, */ \n",
    "                                                /* de-allocated at end-of-scope. */\n",
    "}"
   ]
  },
  {
   "cell_type": "markdown",
   "id": "adf9e441",
   "metadata": {},
   "source": [
    "*Note:* The destructor is usually reponsible for free-ing data allocated dynamically and managed by the object."
   ]
  },
  {
   "cell_type": "markdown",
   "id": "034f50fa",
   "metadata": {},
   "source": [
    "*Note:* An implicit destructor that does nothing is always present, in the absence of an explicit destructor."
   ]
  },
  {
   "cell_type": "markdown",
   "id": "eab17058",
   "metadata": {},
   "source": [
    "*Note:* Attributes of an object are destroyed in the reverse order they are declared in the class outline."
   ]
  },
  {
   "cell_type": "markdown",
   "id": "b7406425",
   "metadata": {},
   "source": [
    "The `this` keyword is an implicit parameter to every method in a class, of type `* const Class-Name`, containing the address of the respective object."
   ]
  },
  {
   "cell_type": "code",
   "execution_count": 214,
   "id": "963a2e64",
   "metadata": {},
   "outputs": [
    {
     "name": "stdout",
     "output_type": "stream",
     "text": [
      "[Real]: 5.1\n",
      "[Imag]: 6.4\n"
     ]
    }
   ],
   "source": [
    "#include <iostream>\n",
    "\n",
    "class Complex {\n",
    "    float real, imag;\n",
    "public:\n",
    "    Complex(float real, float imag) {\n",
    "        this->real = real, this->imag = imag;\n",
    "    }\n",
    "    \n",
    "    void print() {\n",
    "        std::cout << \"[Real]: \" << real << '\\n';\n",
    "        std::cout << \"[Imag]: \" << imag << '\\n';\n",
    "    }\n",
    "};\n",
    "\n",
    "int main() {\n",
    "    Complex complex(5.1f, 6.4f);\n",
    "    complex.print();\n",
    "}"
   ]
  },
  {
   "cell_type": "markdown",
   "id": "6549faa6",
   "metadata": {},
   "source": [
    "A method belonging to a class may be declared within, and defined outside, using the scoping operator, `::` ."
   ]
  },
  {
   "cell_type": "code",
   "execution_count": 215,
   "id": "a742cf09",
   "metadata": {},
   "outputs": [
    {
     "name": "stdout",
     "output_type": "stream",
     "text": [
      "[Real]: 4.6\n",
      "[Imag]: 5.3\n"
     ]
    }
   ],
   "source": [
    "#include <iostream>\n",
    "\n",
    "class Complex {\n",
    "    float real, imag;\n",
    "public:\n",
    "    Complex(float real, float imag);\n",
    "    void print();\n",
    "};\n",
    "\n",
    "int main() {\n",
    "    Complex(4.6f, 5.3f).print();\n",
    "}\n",
    "\n",
    "Complex::Complex(float r, float i) : real(r), imag(i) {}\n",
    "\n",
    "void Complex::print() {\n",
    "    std::cout << \"[Real]: \" << real << '\\n';\n",
    "    std::cout << \"[Imag]: \" << imag << '\\n';\n",
    "}"
   ]
  },
  {
   "cell_type": "markdown",
   "id": "ab29c1ae",
   "metadata": {},
   "source": [
    "*Note:* Methods defined within a class are implicitly `inline`. Hence, a class outline may be repeated in multiple files without the linker complaining about multiple definitions of the same method. `inline` functions behave differently in C++, discussed later."
   ]
  },
  {
   "cell_type": "markdown",
   "id": "70ea817d",
   "metadata": {},
   "source": [
    "*Note:* Methods defined outside of a class are not implictly `inline`."
   ]
  },
  {
   "cell_type": "markdown",
   "id": "433d5638",
   "metadata": {},
   "source": [
    "### `explicit` Constructors <a class=\"anchor\" id=\"explicit-constructors\"></a>"
   ]
  },
  {
   "cell_type": "markdown",
   "id": "77a2669d",
   "metadata": {},
   "source": [
    "A constructor declared `explicit` cannot be used in implicit conversions."
   ]
  },
  {
   "cell_type": "code",
   "execution_count": 286,
   "id": "409213d7",
   "metadata": {},
   "outputs": [
    {
     "name": "stdout",
     "output_type": "stream",
     "text": [
      "Complex(float, float)\n",
      "Complex(float, float)\n",
      "Complex(float, float)\n",
      "Real: 5, Imag: 0\n",
      "Complex(const Complex &)\n",
      "Real: 5, Imag: 0\n"
     ]
    }
   ],
   "source": [
    "#include <iostream>\n",
    "\n",
    "class Complex {\n",
    "public:\n",
    "    float real, imag;      \n",
    "    \n",
    "    Complex(float r=0, float i=0) : real(r), imag(i) {\n",
    "        std::cout << \"Complex(float, float)\\n\";\n",
    "    }\n",
    "    \n",
    "    Complex(const Complex &complex) : real(complex.real), imag(complex.imag) {\n",
    "        std::cout << \"Complex(const Complex &)\\n\";\n",
    "    }\n",
    "};\n",
    "\n",
    "void print(Complex complex) {\n",
    "    std::cout << \"Real: \" << complex.real << \", Imag: \" << complex.imag << '\\n';\n",
    "}\n",
    "\n",
    "int main() {\n",
    "    Complex complex1(5);          /* Direct constructor call. */\n",
    "    Complex complex2 = 5;         /* Implicit conversion through constructor. */\n",
    "    print(5);                     /* Direct constructor call, copy constructor skipped. */\n",
    "    print(complex1);              /* Copy constructor called. */\n",
    "}"
   ]
  },
  {
   "cell_type": "code",
   "execution_count": null,
   "id": "4ddd2e59",
   "metadata": {},
   "outputs": [],
   "source": [
    "#include <iostream>\n",
    "\n",
    "class Complex {\n",
    "public:\n",
    "    float real, imag;      \n",
    "    \n",
    "    explicit Complex(float r=0, float i=0) : real(r), imag(i) {\n",
    "        std::cout << \"Complex(float, float)\\n\";\n",
    "    }\n",
    "    \n",
    "    explicit Complex(const Complex &complex) : real(complex.real), imag(complex.imag) {\n",
    "        std::cout << \"Complex(const Complex &)\\n\";\n",
    "    }\n",
    "};\n",
    "\n",
    "void print(Complex complex) {\n",
    "    std::cout << \"Real: \" << complex.real << \", Imag: \" << complex.imag << '\\n';\n",
    "}\n",
    "\n",
    "int main() {\n",
    "    Complex complex1(5);              /* Direct constructor call. */\n",
    "    Complex complex2 = 5;             /* Error: ... */\n",
    "    \n",
    "    Complex complex3(complex1);       /* Direct (copy) constructor call. */\n",
    "    Complex complex4 = complex2;      /* Error: ... */\n",
    "    \n",
    "    print(5);                         /* Error: ... */\n",
    "    print(Complex(5));                /* Direct constructor call. */\n",
    "    \n",
    "    print(complex1);                  /* Error: ... */\n",
    "    print(Complex(complex1));         /* Direct (copy) constructor called. */\n",
    "}"
   ]
  },
  {
   "cell_type": "markdown",
   "id": "496f339a",
   "metadata": {},
   "source": [
    "### `const` Methods <a class=\"anchor\" id=\"const-methods\"></a>"
   ]
  },
  {
   "cell_type": "markdown",
   "id": "b8a9eea9",
   "metadata": {},
   "source": [
    "When declaring a `const` object from a class, its public attributes become read-only. Additionally, only `const` methods may be called on it."
   ]
  },
  {
   "cell_type": "code",
   "execution_count": null,
   "id": "500da025",
   "metadata": {},
   "outputs": [],
   "source": [
    "#include <iostream>\n",
    "\n",
    "class Complex {\n",
    "    float real, imag;      \n",
    "public:\n",
    "    Complex(float real, float imag) {\n",
    "        this->real = real, this->imag = imag;\n",
    "    }\n",
    "    \n",
    "    void print() {\n",
    "        std::cout << \"[Real]: \" << real << '\\n';\n",
    "        std::cout << \"[Imag]: \" << imag << '\\n';\n",
    "    }\n",
    "};\n",
    "\n",
    "int main() {\n",
    "    const Complex complex(5.6f, 7.4f);\n",
    "    complex.print();                          /* Error: 'print' may modify object declared 'const'. */\n",
    "}"
   ]
  },
  {
   "cell_type": "code",
   "execution_count": 200,
   "id": "ebf17551",
   "metadata": {},
   "outputs": [
    {
     "name": "stdout",
     "output_type": "stream",
     "text": [
      "[Real]: 5.6\n",
      "[Imag]: 7.4\n"
     ]
    }
   ],
   "source": [
    "#include <iostream>\n",
    "\n",
    "class Complex {\n",
    "    float real, imag;      \n",
    "public:\n",
    "    Complex(float real, float imag) {\n",
    "        this->real = real, this->imag = imag;\n",
    "    }\n",
    "    \n",
    "    void print() const {                            /* 'const' method. */\n",
    "        std::cout << \"[Real]: \" << real << '\\n';\n",
    "        std::cout << \"[Imag]: \" << imag << '\\n';\n",
    "    }\n",
    "};\n",
    "\n",
    "int main() {\n",
    "    const Complex complex(5.6f, 7.4f);\n",
    "    complex.print();                                /* Legal call. */\n",
    "}"
   ]
  },
  {
   "cell_type": "markdown",
   "id": "792b0709",
   "metadata": {},
   "source": [
    "*Note:* Any attempt to modify private attributes within `const` methods results in an error."
   ]
  },
  {
   "cell_type": "markdown",
   "id": "6c06d43d",
   "metadata": {},
   "source": [
    "### `mutable` Attributes <a class=\"anchor\" id=\"mutable-attributes\"></a>"
   ]
  },
  {
   "cell_type": "markdown",
   "id": "9bdd028c",
   "metadata": {},
   "source": [
    "A `mutable` attribute may be modified within `const` methods."
   ]
  },
  {
   "cell_type": "code",
   "execution_count": 217,
   "id": "311c7304",
   "metadata": {},
   "outputs": [
    {
     "name": "stdout",
     "output_type": "stream",
     "text": [
      "13.3"
     ]
    }
   ],
   "source": [
    "#include <iostream>\n",
    "\n",
    "class Complex {\n",
    "    float real, imag;\n",
    "    mutable float sum;\n",
    "public:\n",
    "    Complex(float real, float imag) {\n",
    "        this->real = real, this->imag = imag;\n",
    "    }\n",
    "    \n",
    "    void update_sum() const {                 /* 'const' method may modify 'mutable' attributes. */\n",
    "        sum = real + imag;\n",
    "        std::cout << sum;\n",
    "    }\n",
    "};\n",
    "\n",
    "int main() {\n",
    "    const Complex complex(5.6f, 7.7f);\n",
    "    complex.update_sum();            \n",
    "}"
   ]
  },
  {
   "cell_type": "markdown",
   "id": "a5bc715f",
   "metadata": {},
   "source": [
    "### The `static` keyword <a class=\"anchor\" id=\"the-static-keyword\"></a>"
   ]
  },
  {
   "cell_type": "markdown",
   "id": "c3efefcb",
   "metadata": {},
   "source": [
    "Within a class, the static keyword defines an attribute or method that belongs to the class and not a specific object."
   ]
  },
  {
   "cell_type": "code",
   "execution_count": 188,
   "id": "12be3e5b",
   "metadata": {},
   "outputs": [
    {
     "name": "stdout",
     "output_type": "stream",
     "text": [
      "[Real]: 0.5\n",
      "[Imag]: 0.6\n"
     ]
    }
   ],
   "source": [
    "#include <iostream>\n",
    "\n",
    "class Complex {\n",
    "    float real, imag;\n",
    "public:\n",
    "    static Complex default_value;                   /* Public static attribute declaration. */\n",
    "\n",
    "    Complex(float r, float i) : real(r), imag(i) {}\n",
    "    \n",
    "    void print() {\n",
    "        std::cout << \"[Real]: \" << real << '\\n';\n",
    "        std::cout << \"[Imag]: \" << imag << '\\n';\n",
    "    }\n",
    "};\n",
    "\n",
    "Complex Complex::default_value(0.5f, 0.6f);        /* Must be initialized once outside of class. */\n",
    "\n",
    "int main() {\n",
    "    Complex::default_value.print();\n",
    "}"
   ]
  },
  {
   "cell_type": "code",
   "execution_count": 191,
   "id": "8530b2c1",
   "metadata": {},
   "outputs": [
    {
     "name": "stdout",
     "output_type": "stream",
     "text": [
      "[Real]: 0.5\n",
      "[Imag]: 0.6\n"
     ]
    }
   ],
   "source": [
    "#include <iostream>\n",
    "\n",
    "class Complex {\n",
    "    float real, imag;\n",
    "    static Complex default_value;                    /* Private static attribute declaration. */            \n",
    "public:\n",
    "\n",
    "    Complex(float real, float imag) {\n",
    "        this->real = real, this->imag = imag;\n",
    "    }\n",
    "    \n",
    "    void print() {\n",
    "        std::cout << \"[Real]: \" << real << '\\n';\n",
    "        std::cout << \"[Imag]: \" << imag << '\\n';\n",
    "    }\n",
    "    \n",
    "    static void print_default() {                    /* Static method. */\n",
    "        default_value.print();\n",
    "    }\n",
    "};\n",
    "\n",
    "Complex Complex::default_value(0.5f, 0.6f);          /* Can be initialized, even though it is private. */\n",
    "\n",
    "int main() {\n",
    "    Complex::print_default();                        /* Static method call. */\n",
    "}"
   ]
  },
  {
   "cell_type": "markdown",
   "id": "314976d9",
   "metadata": {},
   "source": [
    "*Note:* Static attributes are accessible in any file, as long as the class outline, which includes the declarations of all static attributes, has been included beforehand."
   ]
  },
  {
   "cell_type": "markdown",
   "id": "9c4ac54a",
   "metadata": {},
   "source": [
    "*Note:* When initializing static attributes or defining static methods outside of a class, omit the `static` keyword."
   ]
  },
  {
   "cell_type": "markdown",
   "id": "8aa1d5fc",
   "metadata": {},
   "source": [
    "*Note:* A `static const int` attribute may be initialized within class, directly in declaration. However, to be utilized as an object in memory with a unique address, it must be declared once outside of class as well, omitting the initializer. It is not recommended to utilize this feature."
   ]
  },
  {
   "cell_type": "markdown",
   "id": "c49510df",
   "metadata": {},
   "source": [
    "*Note:* Static variables, in general, are constructed in the order of definition, and not declaration. They are destructed in the reverse order of definition, after `main` exits."
   ]
  },
  {
   "cell_type": "markdown",
   "id": "ae5f9b68",
   "metadata": {},
   "source": [
    "### Operator Overloading <a class=\"anchor\" id=\"operator-overloading\"></a>"
   ]
  },
  {
   "cell_type": "markdown",
   "id": "d00c25eb",
   "metadata": {},
   "source": [
    "| *Operators* | *Binary or Unary?* | *Can be non-member function?* | *Recommended as?*\n",
    "| --- | --- | --- | --- |\n",
    "| `+` `-` `*` `/` `%` `>>` `<<` | Binary | Yes | Non-member\n",
    "| `&` `\\|` `^` | Binary | Yes | Non-member\n",
    "| `>` `<` `<=` `>=` `==` `!=` | Binary | Yes | Non-member\n",
    "| `` |"
   ]
  },
  {
   "cell_type": "markdown",
   "id": "a9b48010",
   "metadata": {},
   "source": [
    "| *Operator* |\n",
    "| --- |\n",
    "| `()` `[]` `->` <br><br> (*Post*) `++` `--` |\n",
    "| `+` `-` `!` `~` *`(type)`* `*` `&` <br><br> (*Pre*) `++` `--` |\n",
    "| `->*` |\n",
    "| `*` `/` `%` |\n",
    "| `+` `-` |\n",
    "| `<<` `>>` |\n",
    "| `<` `<=` `>` `>=` |\n",
    "| `==` `!=` |\n",
    "| `&` |\n",
    "| `^` |\n",
    "| `\\|` |\n",
    "| `&&` |\n",
    "| `\\|\\|` |\n",
    "| `?:` <br><br> `=` `+=` `-=` `*=` `/=` `%=` `&=` `^=` `\\|=` `<<=` `>>=` |\n",
    "| `,` |"
   ]
  },
  {
   "cell_type": "code",
   "execution_count": 242,
   "id": "4c3d4191",
   "metadata": {},
   "outputs": [
    {
     "name": "stdout",
     "output_type": "stream",
     "text": [
      "[Real]: 6.6\n",
      "[Imag]: 3.3\n",
      "[Real]: 1.2\n",
      "[Imag]: 1.3\n"
     ]
    }
   ],
   "source": [
    "#include <iostream>\n",
    "\n",
    "class Complex {\n",
    "public:\n",
    "    float real, imag;\n",
    "\n",
    "    Complex(float r, float i) : real(r), imag(i) {}\n",
    "    \n",
    "    Complex & operator=(Complex comp2) {\n",
    "        real = comp2.real;\n",
    "        imag = comp2.imag;\n",
    "        return *this;\n",
    "    }\n",
    "    \n",
    "    void print() {\n",
    "        std::cout << \"[Real]: \" << real << '\\n';\n",
    "        std::cout << \"[Imag]: \" << imag << '\\n';\n",
    "    }\n",
    "};\n",
    "\n",
    "Complex & operator+=(Complex &comp1, Complex comp2) {\n",
    "    comp1.real += comp2.real;\n",
    "    comp1.imag += comp2.imag;\n",
    "    return comp1;\n",
    "}\n",
    "\n",
    "int main() {\n",
    "    Complex comp(5.6, 2.3f);\n",
    "    \n",
    "    comp += Complex(1, 1);\n",
    "    comp.print();\n",
    "    \n",
    "    comp = Complex(1.2f, 1.3f);\n",
    "    comp.print();\n",
    "}"
   ]
  },
  {
   "cell_type": "code",
   "execution_count": 255,
   "id": "d92c9764",
   "metadata": {},
   "outputs": [
    {
     "name": "stdout",
     "output_type": "stream",
     "text": [
      "[Real]: 5\n",
      "[Imag]: 2\n",
      "[Real]: 6\n",
      "[Imag]: 0\n"
     ]
    }
   ],
   "source": [
    "#include <iostream>\n",
    "\n",
    "class Complex {\n",
    "public:\n",
    "    float real, imag;\n",
    "\n",
    "    Complex(float r=0, float i=0) : real(r), imag(i) {}\n",
    " \n",
    "    Complex & operator=(Complex comp2) {\n",
    "        real = comp2.real;\n",
    "        imag = comp2.imag;\n",
    "        return *this;\n",
    "    }\n",
    "    \n",
    "    Complex & operator=(float r) {\n",
    "        real = r;\n",
    "        imag = 0;\n",
    "        return *this;\n",
    "    }\n",
    "\n",
    "    void print() {\n",
    "        std::cout << \"[Real]: \" << real << '\\n';\n",
    "        std::cout << \"[Imag]: \" << imag << '\\n';\n",
    "    }\n",
    "};\n",
    "\n",
    "int main() {\n",
    "    Complex complex(5, 2);\n",
    "    complex.print();\n",
    "    complex = 6;\n",
    "    complex.print();\n",
    "    \n",
    "    //int i = complex;\n",
    "}"
   ]
  },
  {
   "cell_type": "code",
   "execution_count": null,
   "id": "09128877",
   "metadata": {},
   "outputs": [],
   "source": []
  }
 ],
 "metadata": {
  "kernelspec": {
   "display_name": "C",
   "language": "c",
   "name": "c"
  },
  "language_info": {
   "file_extension": ".cpp",
   "mimetype": "text/plain",
   "name": "c++"
  }
 },
 "nbformat": 4,
 "nbformat_minor": 5
}
