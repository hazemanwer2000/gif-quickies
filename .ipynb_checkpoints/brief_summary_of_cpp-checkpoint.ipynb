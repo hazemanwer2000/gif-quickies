{
 "cells": [
  {
   "cell_type": "markdown",
   "id": "b323e208",
   "metadata": {},
   "source": [
    "# A brief summary of C++ (98)\n",
    "<br>\n",
    "<div style=\"opacity: 0.8; font-family: Consolas, Monaco, Lucida Console, Liberation Mono, DejaVu Sans Mono, Bitstream Vera Sans Mono, Courier New; font-size: 12px; font-style: italic;\">\n",
    "    ────────\n",
    "    for more from the author, visit\n",
    "    <a href=\"https://github.com/hazemanwer2000\">github.com/hazemanwer2000</a>.\n",
    "    ────────\n",
    "</div>"
   ]
  },
  {
   "cell_type": "markdown",
   "id": "a561d09c",
   "metadata": {},
   "source": [
    "## Table of Contents\n",
    "* [Operators](#operators)\n",
    "* [Classes](#classes)\n",
    "    * [`explicit` Constructors](#explicit-constructors)\n",
    "    * [`const` Methods](#const-methods)\n",
    "    * [`mutable` Attributes](#mutable-attributes)\n",
    "    * [The `static` keyword](#the-static-keyword)\n",
    "    * [Operator Overloading](#operator-overloading)\n",
    "        * [Arithmetic, Relational, Equivalence, Bitwise, Logical](#oo-most)\n",
    "        * [Assignment](#oo-assignment)\n",
    "        * [Unary](#oo-unary)\n",
    "        * [Type Conversion](#oo-type-conversion)\n",
    "        * [Increment, Decrement](#oo-increment-decrement)\n",
    "        * [Subscripting](#oo-subscripting)\n",
    "        * [Function Call](#oo-function-call)\n",
    "        * [The `->` operator](#oo-the-->-operator)\n",
    "\n",
    "<hr>"
   ]
  },
  {
   "cell_type": "markdown",
   "id": "fb56f3e3",
   "metadata": {},
   "source": [
    "C++ extends the C language by bringing mostly *Object-Oriented Programming* (OOP) features to a structured language."
   ]
  },
  {
   "cell_type": "markdown",
   "id": "f1130bf2",
   "metadata": {},
   "source": [
    "*Note:* This writing builds upon <a href=\"https://github.com/hazemanwer2000/data-structures-in-c/blob/main/brief_summary_of_c.ipynb\">*A brief summary of C*</a>, and introduces the C++ language as a superset of the C language, with minor exceptions."
   ]
  },
  {
   "cell_type": "markdown",
   "id": "7939a5c5",
   "metadata": {},
   "source": [
    "## Operators"
   ]
  },
  {
   "cell_type": "markdown",
   "id": "12bd335c",
   "metadata": {},
   "source": [
    "| *Operator* | *Associativity* | *Precedence* |\n",
    "| --- | --- | |\n",
    "| `::` | *left-to-right* | ↑ |\n",
    "| `()` `[]` `->` `.` <br><br> (*Post*) `++` `--` <br><br> `static_cast` `reinterpret_cast` `const_cast` `dynamic_cast` | *left-to-right* |\n",
    "| `+` `-` `!` `~` *`(type)`* `*` `&` `sizeof` <br><br> (*Pre*) `++` `--` <br><br> `new` `delete` | *right-to-left* |\n",
    "| `->*` `.*` | *left-to-right* |\n",
    "| `*` `/` `%` | *left-to-right* |\n",
    "| `+` `-` | *left-to-right* |\n",
    "| `<<` `>>` | *left-to-right* |\n",
    "| `<` `<=` `>` `>=` | *left-to-right* |\n",
    "| `==` `!=` | *left-to-right* |\n",
    "| `&` | *left-to-right* |\n",
    "| `^` | *left-to-right* |\n",
    "| `\\|` | *left-to-right* |\n",
    "| `&&` | *left-to-right* |\n",
    "| `\\|\\|` | *left-to-right* |\n",
    "| `?:` <br><br> `=` `+=` `-=` `*=` `/=` `%=` `&=` `^=` `\\|=` `<<=` `>>=` <br><br> `throw` | *right-to-left* |\n",
    "| `,` | *left-to-right* | ↓ |"
   ]
  },
  {
   "cell_type": "markdown",
   "id": "3590fedc",
   "metadata": {},
   "source": [
    "## Classes <a class=\"anchor\" id=\"classes\"></a>"
   ]
  },
  {
   "cell_type": "markdown",
   "id": "974c810c",
   "metadata": {},
   "source": [
    "A *class* is an outline for an *object*. It defines the attributes and methods of each object."
   ]
  },
  {
   "cell_type": "code",
   "execution_count": null,
   "id": "ad65eca4",
   "metadata": {},
   "outputs": [],
   "source": [
    "class Complex {\n",
    "    float real, imag;                     /* Attribute. */\n",
    "    void print() { /* ... */ }            /* Method. */\n",
    "};"
   ]
  },
  {
   "cell_type": "markdown",
   "id": "3153d690",
   "metadata": {},
   "source": [
    "*Note:* A method defined at the beginning of a class may call another method defined at the end, and similarly for attributes."
   ]
  },
  {
   "cell_type": "markdown",
   "id": "7ae91b00",
   "metadata": {},
   "source": [
    "An *access specifier* outlines the accessibility of each attribute and method."
   ]
  },
  {
   "cell_type": "code",
   "execution_count": null,
   "id": "93fa2a0f",
   "metadata": {},
   "outputs": [],
   "source": [
    "class Complex {\n",
    "private:                                 /* Accessible with-in class only. */\n",
    "    float real, imag;\n",
    "public:                                  /* Accessible everywhere. */\n",
    "    void print() { /* ... */ }\n",
    "}"
   ]
  },
  {
   "cell_type": "markdown",
   "id": "ee0bc75a",
   "metadata": {},
   "source": [
    "*Note:* A `private` access specifier is placed implicitly at the beginning of a class outline."
   ]
  },
  {
   "cell_type": "markdown",
   "id": "12ff0a81",
   "metadata": {},
   "source": [
    "A *constructor* is a special method, called once when an object is first defined. It has no return type, and must be the same name as the class."
   ]
  },
  {
   "cell_type": "code",
   "execution_count": null,
   "id": "e9a240dd",
   "metadata": {},
   "outputs": [],
   "source": [
    "class Complex {\n",
    "private:\n",
    "    float real, imag;\n",
    "public:\n",
    "    Complex(float r, float i) {            /* Constructor. */\n",
    "        real = r, imag = i;\n",
    "    }\n",
    "}"
   ]
  },
  {
   "cell_type": "markdown",
   "id": "ba11b41e",
   "metadata": {},
   "source": [
    "Constructors, as with any function in C++, may be *overloaded*."
   ]
  },
  {
   "cell_type": "code",
   "execution_count": null,
   "id": "b9ea6697",
   "metadata": {},
   "outputs": [],
   "source": [
    "class Complex {\n",
    "private:\n",
    "    float real, imag;\n",
    "public:\n",
    "    Complex(float r, float i) {            /* Constructor(float, float) */\n",
    "        real = r, imag = i;\n",
    "    }\n",
    "\n",
    "    Complex(float r) {                     /* Constructor(float) */\n",
    "        real = r, imag = 0;\n",
    "    }\n",
    "    \n",
    "    Complex() {                            /* Constructor() */\n",
    "        real = imag = 0;\n",
    "    }\n",
    "}"
   ]
  },
  {
   "cell_type": "markdown",
   "id": "b30721bf",
   "metadata": {},
   "source": [
    "*Note:* Function overloading is discussed later."
   ]
  },
  {
   "cell_type": "markdown",
   "id": "aabac551",
   "metadata": {},
   "source": [
    "Constructors, as with any function in C++, may receive default arguments."
   ]
  },
  {
   "cell_type": "code",
   "execution_count": null,
   "id": "8e4602ab",
   "metadata": {},
   "outputs": [],
   "source": [
    "class Complex {\n",
    "private:\n",
    "    float real, imag;\n",
    "public:\n",
    "    Complex(float r=0, float i=0) {            /* Constructor(float (optional), float (optional)) */\n",
    "        real = r, imag = i;\n",
    "    }\n",
    "}"
   ]
  },
  {
   "cell_type": "markdown",
   "id": "8141d127",
   "metadata": {},
   "source": [
    "*Note:* Default arguments are discussed later."
   ]
  },
  {
   "cell_type": "markdown",
   "id": "e957f735",
   "metadata": {},
   "source": [
    "An object may be defined and initialized from a class in a number of ways."
   ]
  },
  {
   "cell_type": "code",
   "execution_count": null,
   "id": "3a0b48f4",
   "metadata": {},
   "outputs": [],
   "source": [
    "#include <iostream>\n",
    "\n",
    "class Complex {\n",
    "private:\n",
    "    float real, imag;\n",
    "public:\n",
    "    Complex(float r, float i) {            /* Constructor(float, float) */\n",
    "        real = r, imag = i;\n",
    "        std::cout << \"Complex(float, float)\\n\";\n",
    "    }\n",
    "\n",
    "    Complex(float r) {                     /* Constructor(float) */\n",
    "        real = r, imag = 0;\n",
    "        std::cout << \"Complex(float)\\n\";\n",
    "    }\n",
    "    \n",
    "    Complex() {                            /* Constructor() */\n",
    "        real = imag = 0;\n",
    "        std::cout << \"Complex()\\n\";\n",
    "    }\n",
    "};\n",
    "\n",
    "int main() {\n",
    "    Complex complex1;                      /* Called 'default initialization'. */            \n",
    "    Complex complex3(5.6f);                /* Called 'direct initialization'. */\n",
    "    Complex complex4(3.4f, 4.2f);\n",
    "}"
   ]
  },
  {
   "cell_type": "code",
   "execution_count": null,
   "id": "cb01337e",
   "metadata": {},
   "outputs": [],
   "source": [
    "Complex complex1();                      /* Warning: Empty parentheses disambiguated */\n",
    "                                         /*          as a function declaration. */"
   ]
  },
  {
   "cell_type": "code",
   "execution_count": null,
   "id": "d0fab2a6",
   "metadata": {},
   "outputs": [],
   "source": [
    "#include <iostream>\n",
    "\n",
    "class Complex {\n",
    "private:\n",
    "    float real, imag;                    /* Missing explicit constructor, implicitly defined. */\n",
    "};\n",
    "\n",
    "int main() {\n",
    "    Complex complex1;                    /* Default-initialized with nothing. */            \n",
    "}"
   ]
  },
  {
   "cell_type": "code",
   "execution_count": null,
   "id": "d7e1bb8e",
   "metadata": {},
   "outputs": [],
   "source": [
    "#include <iostream>\n",
    "\n",
    "class Complex {\n",
    "private:\n",
    "    float real, imag;\n",
    "public:\n",
    "    Complex(float r, float i) {            /* Single explicit constructor, non-default. */\n",
    "        real = r, imag = i;\n",
    "    }\n",
    "};\n",
    "\n",
    "int main() {\n",
    "    Complex complex1;                      /* Error: Default constructor is no longer */\n",
    "                                           /*        implicitly defined. */        \n",
    "}"
   ]
  },
  {
   "cell_type": "markdown",
   "id": "f7e5cd01",
   "metadata": {},
   "source": [
    "A *temporary* object is allocated and deallocated in an expression."
   ]
  },
  {
   "cell_type": "code",
   "execution_count": null,
   "id": "94d0a569",
   "metadata": {},
   "outputs": [],
   "source": [
    "#include <iostream>\n",
    "\n",
    "class Complex {\n",
    "private:\n",
    "    float real, imag;\n",
    "public:\n",
    "    Complex(float r, float i) {\n",
    "        real = r, imag = i;\n",
    "    }\n",
    "    \n",
    "    Complex() {\n",
    "        real = 0, imag = 0;\n",
    "    }\n",
    "    \n",
    "    void print() {\n",
    "        std::cout << \"[Real]: \" << real << '\\n';\n",
    "        std::cout << \"[Imag]: \" << imag << '\\n';\n",
    "    }\n",
    "};\n",
    "\n",
    "int main() {\n",
    "    Complex(5.6f, 3.4f).print();\n",
    "    Complex().print();\n",
    "}"
   ]
  },
  {
   "cell_type": "markdown",
   "id": "fe2d7dd5",
   "metadata": {},
   "source": [
    "A *copy constructor* is a constructor that receives a `const` reference to an object of the same class."
   ]
  },
  {
   "cell_type": "code",
   "execution_count": null,
   "id": "73c0b2cd",
   "metadata": {},
   "outputs": [],
   "source": [
    "#include <iostream>\n",
    "\n",
    "class Complex {\n",
    "    float real, imag;\n",
    "public:\n",
    "    Complex(float r, float i) {\n",
    "        real = r, imag = i;\n",
    "    }\n",
    "    \n",
    "    Complex(const Complex &complex) {              /* Copy constructor. */\n",
    "        real = complex.real;\n",
    "        imag = complex.imag;\n",
    "        std::cout << \"Complex(const Complex &)\" << '\\n';\n",
    "    }  \n",
    "    \n",
    "    void print() {\n",
    "        std::cout << \"[Real]: \" << real << '\\n';\n",
    "        std::cout << \"[Imag]: \" << imag << '\\n';\n",
    "    }\n",
    "};\n",
    "\n",
    "int main() {\n",
    "    Complex complex1(5.6f, 7.2f); \n",
    "\n",
    "    Complex complex2(complex1);           /* Calls copy constructor. */\n",
    "    complex2.print();\n",
    "    \n",
    "    Complex complex3 = complex2;          /* Equivalent syntax (not recommended). */\n",
    "    complex3.print();\n",
    "}"
   ]
  },
  {
   "cell_type": "markdown",
   "id": "dc86e650",
   "metadata": {},
   "source": [
    "*Note:* References are discussed later."
   ]
  },
  {
   "cell_type": "markdown",
   "id": "e2d746a6",
   "metadata": {},
   "source": [
    "*Note:* If a copy constructor is missing from a class outline, it is implicitly defined to dummy-copy the attributes. This could introduce problems when, for example, a pointer to dynamically allocated data is an attribute."
   ]
  },
  {
   "cell_type": "markdown",
   "id": "477066c2",
   "metadata": {},
   "source": [
    "When initializing using temporary objects, the copy constructor may be optimized away."
   ]
  },
  {
   "cell_type": "code",
   "execution_count": null,
   "id": "85766c77",
   "metadata": {},
   "outputs": [],
   "source": [
    "#include <iostream>\n",
    "\n",
    "class Complex {\n",
    "    float real, imag;\n",
    "public:\n",
    "    Complex(float r, float i) {\n",
    "        real = r, imag = i;\n",
    "        std::cout << \"Complex(float, float)\\n\";\n",
    "    }\n",
    "    \n",
    "    Complex(Complex &complex) {              /* Copy constructor. */\n",
    "        real = complex.real;\n",
    "        imag = complex.imag;\n",
    "        std::cout << \"Complex(const Complex &)\\n\";\n",
    "    }  \n",
    "    \n",
    "    void print() {\n",
    "        std::cout << \"[Real]: \" << real << '\\n';\n",
    "        std::cout << \"[Imag]: \" << imag << '\\n';\n",
    "    }\n",
    "    \n",
    "    Complex & increment() {\n",
    "        real++, imag++;\n",
    "        return *this;                            /* Discussed later. */\n",
    "    }\n",
    "};\n",
    "\n",
    "int main() {\n",
    "    Complex complex1(Complex(5, 6));                       /* Optimized to 'Complex complex(5, 6)' */\n",
    "    complex1.print();\n",
    "    \n",
    "    Complex complex2 = Complex(5, 6);                      /* Equivalent syntax (not recommended). */\n",
    "    complex2.print();\n",
    "\n",
    "    Complex complex3(Complex(5, 6).increment());           /* Calls copy constructor. */\n",
    "    complex3.print();\n",
    "}"
   ]
  },
  {
   "cell_type": "markdown",
   "id": "c54a453f",
   "metadata": {},
   "source": [
    "*Note:* When passing or returning objects by value, the copy constructor is implicitly called."
   ]
  },
  {
   "cell_type": "markdown",
   "id": "c972bc8a",
   "metadata": {},
   "source": [
    "An *initialization list* allows the initialization of attributes by a constructor."
   ]
  },
  {
   "cell_type": "code",
   "execution_count": null,
   "id": "0da4e0d9",
   "metadata": {
    "scrolled": true
   },
   "outputs": [],
   "source": [
    "#include <iostream>\n",
    "\n",
    "class Complex {\n",
    "    const float real;\n",
    "    const float imag;\n",
    "public:\n",
    "    Complex(float r, float i) {\n",
    "        real = r, imag = i;\n",
    "    }\n",
    "\n",
    "    void print() {\n",
    "        std::cout << \"[Real]: \" << real << '\\n';\n",
    "        std::cout << \"[Imag]: \" << imag << '\\n';\n",
    "    }\n",
    "};\n",
    "\n",
    "int main() {\n",
    "    Complex(5.6f, 3.4f).print();         /* Error: 'const' attribute should be initialized. */\n",
    "}"
   ]
  },
  {
   "cell_type": "code",
   "execution_count": null,
   "id": "6fafc934",
   "metadata": {},
   "outputs": [],
   "source": [
    "#include <iostream>\n",
    "\n",
    "class Complex {\n",
    "    const float real;\n",
    "    const float imag;\n",
    "public:\n",
    "    Complex(float real, float imag) : real(real), imag(imag) {}\n",
    "    Complex() : real(), imag() {}\n",
    "    \n",
    "    void print() {\n",
    "        std::cout << \"[Real]: \" << real << '\\n';\n",
    "        std::cout << \"[Imag]: \" << imag << '\\n';\n",
    "    }\n",
    "};\n",
    "\n",
    "int main() {\n",
    "    Complex(5.6f, 3.4f).print(); \n",
    "    Complex().print();\n",
    "}"
   ]
  },
  {
   "cell_type": "markdown",
   "id": "5f1a9b07",
   "metadata": {},
   "source": [
    "*Note:* Initialization of attributes is similar in syntax to the initialization of temporary objects."
   ]
  },
  {
   "cell_type": "markdown",
   "id": "38de63e6",
   "metadata": {},
   "source": [
    "*Note:* Attributes are initialized in the order they are declared within class, and not their order in the intialization list."
   ]
  },
  {
   "cell_type": "markdown",
   "id": "e1512181",
   "metadata": {},
   "source": [
    "An array of objects may only be defined if a default constructor is present. The default constructor is called for each object in the array."
   ]
  },
  {
   "cell_type": "code",
   "execution_count": null,
   "id": "dbdf3c67",
   "metadata": {},
   "outputs": [],
   "source": [
    "#include <iostream>\n",
    "\n",
    "class Complex {\n",
    "    float real, imag;\n",
    "public:\n",
    "    Complex() : real(), imag() {\n",
    "        std::cout << \"Default init.\\n\";\n",
    "    }\n",
    "};\n",
    "\n",
    "int main() {\n",
    "    Complex comp[3];\n",
    "}"
   ]
  },
  {
   "cell_type": "markdown",
   "id": "5c4bd298",
   "metadata": {},
   "source": [
    "A *destructor* is analogous to a constructor. It is called implicitly whenever an object is deallocated. Unlike a constructor, only a single destructor may be defined, and must have no parameters."
   ]
  },
  {
   "cell_type": "code",
   "execution_count": null,
   "id": "892424d7",
   "metadata": {},
   "outputs": [],
   "source": [
    "#include <iostream>\n",
    "\n",
    "class Complex {\n",
    "    float real, imag;\n",
    "public:\n",
    "    Complex() : real(), imag() {\n",
    "        std::cout << \"Constructor.\\n\";\n",
    "    }\n",
    "    \n",
    "    ~Complex() {\n",
    "        std::cout << \"Destructor.\\n\";\n",
    "    }\n",
    "};\n",
    "\n",
    "int main() {\n",
    "    Complex();            /* Temporary objects, allocated and de-allocated immediately. */\n",
    "    Complex();\n",
    "}"
   ]
  },
  {
   "cell_type": "code",
   "execution_count": null,
   "id": "cb1ba584",
   "metadata": {},
   "outputs": [],
   "source": [
    "#include <iostream>\n",
    "\n",
    "class Complex {\n",
    "    float real, imag;\n",
    "public:\n",
    "    Complex(float r, float i) : real(r), imag(i) {\n",
    "        std::cout << \"Constructor. \" << real << '\\n';\n",
    "    }\n",
    "    \n",
    "    ~Complex() {\n",
    "        std::cout << \"Destructor. \" << real << '\\n';\n",
    "    }\n",
    "};\n",
    "\n",
    "int main() {\n",
    "    Complex complex1(1, 1), complex2(2, 2);     /* Local objects, allocated together, */ \n",
    "                                                /* de-allocated at end-of-scope. */\n",
    "}"
   ]
  },
  {
   "cell_type": "markdown",
   "id": "adf9e441",
   "metadata": {},
   "source": [
    "*Note:* The destructor is usually reponsible for free-ing data allocated dynamically and managed by the object."
   ]
  },
  {
   "cell_type": "markdown",
   "id": "034f50fa",
   "metadata": {},
   "source": [
    "*Note:* An implicit destructor that does nothing is always present, in the absence of an explicit destructor."
   ]
  },
  {
   "cell_type": "markdown",
   "id": "431e04c7",
   "metadata": {},
   "source": [
    "*Note:* Attributes of an object are destroyed in the reverse order they are declared in the class outline."
   ]
  },
  {
   "cell_type": "markdown",
   "id": "b7406425",
   "metadata": {},
   "source": [
    "The `this` keyword is an implicit parameter to every method in a class, of type `* const Class-Name`, containing the address of the respective object."
   ]
  },
  {
   "cell_type": "code",
   "execution_count": null,
   "id": "963a2e64",
   "metadata": {},
   "outputs": [],
   "source": [
    "#include <iostream>\n",
    "\n",
    "class Complex {\n",
    "    float real, imag;\n",
    "public:\n",
    "    Complex(float real, float imag) {\n",
    "        this->real = real, this->imag = imag;\n",
    "    }\n",
    "    \n",
    "    void print() {\n",
    "        std::cout << \"[Real]: \" << real << '\\n';\n",
    "        std::cout << \"[Imag]: \" << imag << '\\n';\n",
    "    }\n",
    "};\n",
    "\n",
    "int main() {\n",
    "    Complex complex(5.1f, 6.4f);\n",
    "    complex.print();\n",
    "}"
   ]
  },
  {
   "cell_type": "markdown",
   "id": "6549faa6",
   "metadata": {},
   "source": [
    "A method belonging to a class may be declared within, and defined outside, using the scoping operator, `::` ."
   ]
  },
  {
   "cell_type": "code",
   "execution_count": null,
   "id": "a742cf09",
   "metadata": {},
   "outputs": [],
   "source": [
    "#include <iostream>\n",
    "\n",
    "class Complex {\n",
    "    float real, imag;\n",
    "public:\n",
    "    Complex(float real, float imag);\n",
    "    void print();\n",
    "};\n",
    "\n",
    "int main() {\n",
    "    Complex(4.6f, 5.3f).print();\n",
    "}\n",
    "\n",
    "Complex::Complex(float r, float i) : real(r), imag(i) {}\n",
    "\n",
    "void Complex::print() {\n",
    "    std::cout << \"[Real]: \" << real << '\\n';\n",
    "    std::cout << \"[Imag]: \" << imag << '\\n';\n",
    "}"
   ]
  },
  {
   "cell_type": "markdown",
   "id": "ab29c1ae",
   "metadata": {},
   "source": [
    "*Note:* Methods defined within a class are implicitly `inline`. Hence, a class outline may be repeated in multiple files without the linker complaining about multiple definitions of the same method. `inline` functions behave differently in C++, discussed later."
   ]
  },
  {
   "cell_type": "markdown",
   "id": "70ea817d",
   "metadata": {},
   "source": [
    "*Note:* Methods defined outside of a class are not implictly `inline`."
   ]
  },
  {
   "cell_type": "markdown",
   "id": "180a6083",
   "metadata": {},
   "source": [
    "### `explicit` Constructors <a class=\"anchor\" id=\"explicit-constructors\"></a>"
   ]
  },
  {
   "cell_type": "markdown",
   "id": "4b526c59",
   "metadata": {},
   "source": [
    "A constructor declared `explicit` cannot be used in implicit conversions."
   ]
  },
  {
   "cell_type": "code",
   "execution_count": null,
   "id": "1808a77e",
   "metadata": {},
   "outputs": [],
   "source": [
    "#include <iostream>\n",
    "\n",
    "class Complex {\n",
    "public:\n",
    "    float real, imag;      \n",
    "    \n",
    "    Complex(float r=0, float i=0) : real(r), imag(i) {\n",
    "        std::cout << \"Complex(float, float)\\n\";\n",
    "    }\n",
    "    \n",
    "    Complex(const Complex &complex) : real(complex.real), imag(complex.imag) {\n",
    "        std::cout << \"Complex(const Complex &)\\n\";\n",
    "    }\n",
    "};\n",
    "\n",
    "void print(Complex complex) {\n",
    "    std::cout << \"Real: \" << complex.real << \", Imag: \" << complex.imag << '\\n';\n",
    "}\n",
    "\n",
    "int main() {\n",
    "    Complex complex1(5);          /* Direct constructor call. */\n",
    "    Complex complex2 = 5;         /* Implicit conversion through constructor. */\n",
    "    \n",
    "    print(5);                     /* Direct constructor call, copy constructor skipped. */\n",
    "    print(complex1);              /* Copy constructor called. */\n",
    "}"
   ]
  },
  {
   "cell_type": "code",
   "execution_count": null,
   "id": "23a6e7ed",
   "metadata": {},
   "outputs": [],
   "source": [
    "#include <iostream>\n",
    "\n",
    "class Complex {\n",
    "public:\n",
    "    float real, imag;      \n",
    "    \n",
    "    explicit Complex(float r=0, float i=0) : real(r), imag(i) {\n",
    "        std::cout << \"Complex(float, float)\\n\";\n",
    "    }\n",
    "    \n",
    "    explicit Complex(const Complex &complex) : real(complex.real), imag(complex.imag) {\n",
    "        std::cout << \"Complex(const Complex &)\\n\";\n",
    "    }\n",
    "};\n",
    "\n",
    "void print(Complex complex) {\n",
    "    std::cout << \"Real: \" << complex.real << \", Imag: \" << complex.imag << '\\n';\n",
    "}\n",
    "\n",
    "int main() {\n",
    "    Complex complex1(5);              /* Direct constructor call. */\n",
    "    Complex complex2 = 5;             /* Error: ... */\n",
    "    \n",
    "    Complex complex3(complex1);       /* Direct (copy) constructor call. */\n",
    "    Complex complex4 = complex2;      /* Error: ... */\n",
    "    \n",
    "    print(5);                         /* Error: ... */\n",
    "    print(Complex(5));                /* Direct constructor call. */\n",
    "    \n",
    "    print(complex1);                  /* Error: ... */\n",
    "    print(Complex(complex1));         /* Direct (copy) constructor call. */\n",
    "}"
   ]
  },
  {
   "cell_type": "markdown",
   "id": "816c33e2",
   "metadata": {},
   "source": [
    "### `const` Methods <a class=\"anchor\" id=\"const-methods\"></a>"
   ]
  },
  {
   "cell_type": "markdown",
   "id": "235e266a",
   "metadata": {},
   "source": [
    "When declaring a `const` object from a class, its public attributes become read-only. Additionally, only `const` methods may be called on it."
   ]
  },
  {
   "cell_type": "code",
   "execution_count": null,
   "id": "c740aa9f",
   "metadata": {},
   "outputs": [],
   "source": [
    "#include <iostream>\n",
    "\n",
    "class Complex {\n",
    "    float real, imag;      \n",
    "public:\n",
    "    Complex(float real, float imag) {\n",
    "        this->real = real, this->imag = imag;\n",
    "    }\n",
    "    \n",
    "    void print() {\n",
    "        std::cout << \"[Real]: \" << real << '\\n';\n",
    "        std::cout << \"[Imag]: \" << imag << '\\n';\n",
    "    }\n",
    "};\n",
    "\n",
    "int main() {\n",
    "    const Complex complex(5.6f, 7.4f);\n",
    "    complex.print();                          /* Error: 'print' may modify object declared 'const'. */\n",
    "}"
   ]
  },
  {
   "cell_type": "code",
   "execution_count": null,
   "id": "346ca1a4",
   "metadata": {},
   "outputs": [],
   "source": [
    "#include <iostream>\n",
    "\n",
    "class Complex {\n",
    "    float real, imag;      \n",
    "public:\n",
    "    Complex(float real, float imag) {\n",
    "        this->real = real, this->imag = imag;\n",
    "    }\n",
    "    \n",
    "    void print() const {                            /* 'const' method. */\n",
    "        std::cout << \"[Real]: \" << real << '\\n';\n",
    "        std::cout << \"[Imag]: \" << imag << '\\n';\n",
    "    }\n",
    "};\n",
    "\n",
    "int main() {\n",
    "    const Complex complex(5.6f, 7.4f);\n",
    "    complex.print();                                /* Legal call. */\n",
    "}"
   ]
  },
  {
   "cell_type": "markdown",
   "id": "146208f4",
   "metadata": {},
   "source": [
    "*Note:* Any attempt to modify private attributes within `const` methods results in an error."
   ]
  },
  {
   "cell_type": "markdown",
   "id": "e5c61ea9",
   "metadata": {},
   "source": [
    "### `mutable` Attributes <a class=\"anchor\" id=\"mutable-attributes\"></a>"
   ]
  },
  {
   "cell_type": "markdown",
   "id": "a80d4de9",
   "metadata": {},
   "source": [
    "A `mutable` attribute may be modified within `const` methods."
   ]
  },
  {
   "cell_type": "code",
   "execution_count": null,
   "id": "d8d406c3",
   "metadata": {},
   "outputs": [],
   "source": [
    "#include <iostream>\n",
    "\n",
    "class Complex {\n",
    "    float real, imag;\n",
    "    mutable float sum;\n",
    "public:\n",
    "    Complex(float real, float imag) {\n",
    "        this->real = real, this->imag = imag;\n",
    "    }\n",
    "    \n",
    "    void update_sum() const {                 /* 'const' method may modify 'mutable' attributes. */\n",
    "        sum = real + imag;\n",
    "        std::cout << sum;\n",
    "    }\n",
    "};\n",
    "\n",
    "int main() {\n",
    "    const Complex complex(5.6f, 7.7f);\n",
    "    complex.update_sum();            \n",
    "}"
   ]
  },
  {
   "cell_type": "markdown",
   "id": "a5bc715f",
   "metadata": {},
   "source": [
    "### The `static` keyword <a class=\"anchor\" id=\"the-static-keyword\"></a>"
   ]
  },
  {
   "cell_type": "markdown",
   "id": "c3efefcb",
   "metadata": {},
   "source": [
    "Within a class, the static keyword defines an attribute or method that belongs to the class and not a specific object."
   ]
  },
  {
   "cell_type": "code",
   "execution_count": null,
   "id": "12be3e5b",
   "metadata": {},
   "outputs": [],
   "source": [
    "#include <iostream>\n",
    "\n",
    "class Complex {\n",
    "    float real, imag;\n",
    "public:\n",
    "    static Complex default_value;                   /* Public static attribute declaration. */\n",
    "\n",
    "    Complex(float r, float i) : real(r), imag(i) {}\n",
    "    \n",
    "    void print() {\n",
    "        std::cout << \"[Real]: \" << real << '\\n';\n",
    "        std::cout << \"[Imag]: \" << imag << '\\n';\n",
    "    }\n",
    "};\n",
    "\n",
    "Complex Complex::default_value(0.5f, 0.6f);        /* Must be initialized once outside of class. */\n",
    "\n",
    "int main() {\n",
    "    Complex::default_value.print();\n",
    "}"
   ]
  },
  {
   "cell_type": "code",
   "execution_count": null,
   "id": "1ceb4273",
   "metadata": {},
   "outputs": [],
   "source": [
    "#include <iostream>\n",
    "\n",
    "class Complex {\n",
    "    float real, imag;\n",
    "    static Complex default_value;                    /* Private static attribute declaration. */            \n",
    "public:\n",
    "\n",
    "    Complex(float real, float imag) {\n",
    "        this->real = real, this->imag = imag;\n",
    "    }\n",
    "    \n",
    "    void print() {\n",
    "        std::cout << \"[Real]: \" << real << '\\n';\n",
    "        std::cout << \"[Imag]: \" << imag << '\\n';\n",
    "    }\n",
    "    \n",
    "    static void print_default() {                    /* Static method. */\n",
    "        default_value.print();\n",
    "    }\n",
    "};\n",
    "\n",
    "Complex Complex::default_value(0.5f, 0.6f);          /* Can be initialized, even though it is private. */\n",
    "\n",
    "int main() {\n",
    "    Complex::print_default();                        /* Static method call. */\n",
    "}"
   ]
  },
  {
   "cell_type": "markdown",
   "id": "b7769345",
   "metadata": {},
   "source": [
    "*Note:* Static attributes are accessible in any file, as long as the class outline, which includes the declarations of all static attributes, has been included beforehand."
   ]
  },
  {
   "cell_type": "markdown",
   "id": "c81185c0",
   "metadata": {},
   "source": [
    "*Note:* When initializing static attributes or defining static methods outside of a class, omit the `static` keyword."
   ]
  },
  {
   "cell_type": "markdown",
   "id": "5ec36597",
   "metadata": {},
   "source": [
    "*Note:* A `static const int` attribute may be initialized within class, directly in declaration. However, to be utilized as an object in memory with a unique address, it must be declared once outside of class as well, omitting the initializer. It is not recommended to utilize this feature."
   ]
  },
  {
   "cell_type": "markdown",
   "id": "8e4515f7",
   "metadata": {},
   "source": [
    "*Note:* Static variables, in general, are constructed in the order of definition, and not declaration. They are destructed in the reverse order of definition, after `main` exits."
   ]
  },
  {
   "cell_type": "markdown",
   "id": "c8931f5b",
   "metadata": {},
   "source": [
    "### Operator Overloading <a class=\"anchor\" id=\"operator-overloading\"></a>"
   ]
  },
  {
   "cell_type": "markdown",
   "id": "f40842ce",
   "metadata": {},
   "source": [
    "An operator may be *overloaded* with a non-static method of a class, or a non-member function.\n",
    "\n",
    "For a non-static method of a class, the first operand must be an object of the class, and is implicitly passed on through `this`. Otherwise, C++ enforces minimal constraints on the type of parameters to both non-static methods and non-member functions.\n",
    "\n",
    "However, C++ will enforce the number of parameters for binary and unary operators, respectively.\n",
    "\n",
    "Operands are passed onto an overloading function in left-to-right order."
   ]
  },
  {
   "cell_type": "markdown",
   "id": "19e9c1e8",
   "metadata": {},
   "source": [
    "| *Operator* |\n",
    "| --- |\n",
    "| `()` `[]` `->` |\n",
    "| (*Post*) `++` `--` |\n",
    "| `+` `-` `!` `~` *`(type)`* `*` `&` |\n",
    "| (*Pre*) `++` `--` |\n",
    "| `->*` |\n",
    "| `*` `/` `%` |\n",
    "| `+` `-` |\n",
    "| `<<` `>>` |\n",
    "| `<` `<=` `>` `>=` |\n",
    "| `==` `!=` |\n",
    "| `&` `^` `\\|` |\n",
    "| `&&` `\\|\\|` |\n",
    "| `=` |\n",
    "| `+=` `-=` `*=` `/=` `%=` `&=` `^=` `\\|=` `<<=` `>>=` |\n",
    "| `,` |"
   ]
  },
  {
   "cell_type": "markdown",
   "id": "5c7dc1db",
   "metadata": {},
   "source": [
    "*Note:* `()`, `[]`, `->`, and `=` may only be overloaded with a non-static method of a class."
   ]
  },
  {
   "cell_type": "markdown",
   "id": "2e60848a",
   "metadata": {},
   "source": [
    "*Note:* Only `=`, *(unary)* `&`, and `,` are implicitly defined for every class, in the absence of an explicit definition."
   ]
  },
  {
   "cell_type": "markdown",
   "id": "b6552823",
   "metadata": {},
   "source": [
    "*Note:* Except `()`, operator overloading functions cannot have default arguments."
   ]
  },
  {
   "cell_type": "markdown",
   "id": "66569439",
   "metadata": {},
   "source": [
    "*Note:* Operator overloading functions may be overloaded themselves, like any function in C++."
   ]
  },
  {
   "cell_type": "markdown",
   "id": "2050d36c",
   "metadata": {},
   "source": [
    "*Note:* Operator overloading functions with no user-defined types in their parameters are illegal."
   ]
  },
  {
   "cell_type": "markdown",
   "id": "de86bb61",
   "metadata": {},
   "source": [
    "#### Arithmetic, Relational, Equivalence, Bitwise, Logical <a class=\"anchor\" id=\"oo-most\"></a>"
   ]
  },
  {
   "cell_type": "markdown",
   "id": "770b990c",
   "metadata": {},
   "source": [
    "| *Operator* |\n",
    "| --- |\n",
    "| `*` `/` `%` |\n",
    "| `+` `-` |\n",
    "| `<<` `>>` |\n",
    "| `<` `<=` `>` `>=` |\n",
    "| `==` `!=` |\n",
    "| `&` `^` `\\|` |\n",
    "| `&&` `\\|\\|` |"
   ]
  },
  {
   "cell_type": "code",
   "execution_count": null,
   "id": "ea9baaa0",
   "metadata": {},
   "outputs": [],
   "source": [
    "#include <iostream>\n",
    "\n",
    "class Complex {\n",
    "    float real, imag;\n",
    "public:\n",
    "    Complex(float r=0, float i=0) : real(r), imag(i) {}\n",
    "    \n",
    "    Complex operator+(const Complex &complex) {                  /* Non-static method. */\n",
    "        return Complex(real + complex.real, imag + complex.imag);\n",
    "    }\n",
    "    \n",
    "    void print() {\n",
    "        std::cout << \"[Real]: \" << real << '\\n';\n",
    "        std::cout << \"[Imag]: \" << imag << '\\n';\n",
    "    }\n",
    "};\n",
    "\n",
    "int main() {\n",
    "    (Complex(5, 6) + Complex(4)).print();    /* Valid. */\n",
    "    (Complex(5, 6) + 4).print();             /* Valid. */\n",
    "    (4 + Complex(5, 6)).print();             /* Error: ... */\n",
    "}"
   ]
  },
  {
   "cell_type": "code",
   "execution_count": 327,
   "id": "a966f0ad",
   "metadata": {},
   "outputs": [
    {
     "name": "stdout",
     "output_type": "stream",
     "text": [
      "[Real]: 9\n",
      "[Imag]: 6\n",
      "[Real]: 9\n",
      "[Imag]: 6\n",
      "[Real]: 9\n",
      "[Imag]: 6\n"
     ]
    }
   ],
   "source": [
    "#include <iostream>\n",
    "\n",
    "class Complex {\n",
    "    float real, imag;\n",
    "public:\n",
    "    Complex(float r=0, float i=0) : real(r), imag(i) {}\n",
    "    \n",
    "    void print() {\n",
    "        std::cout << \"[Real]: \" << real << '\\n';\n",
    "        std::cout << \"[Imag]: \" << imag << '\\n';\n",
    "    }\n",
    "    \n",
    "    friend Complex operator+(const Complex &c1, const Complex &c2);\n",
    "};\n",
    "\n",
    "Complex operator+(const Complex &c1, const Complex &c2) {                  /* Non-member function. */\n",
    "    return Complex(c1.real + c2.real, c1.imag + c2.imag);\n",
    "}\n",
    "\n",
    "int main() {\n",
    "    (Complex(5, 6) + Complex(4)).print();    /* Valid. */\n",
    "    (Complex(5, 6) + 4).print();             /* Valid. */\n",
    "    (4 + Complex(5, 6)).print();             /* Valid. */\n",
    "}"
   ]
  },
  {
   "cell_type": "markdown",
   "id": "e59e5701",
   "metadata": {},
   "source": [
    "#### Assignment <a class=\"anchor\" id=\"oo-assignment\"></a>"
   ]
  },
  {
   "cell_type": "markdown",
   "id": "abc2f7a1",
   "metadata": {},
   "source": [
    "| *Operator* |\n",
    "| --- |\n",
    "| `=` |\n",
    "| `+=` `-=` `*=` `/=` `%=` `&=` `^=` `\\|=` `<<=` `>>=` |"
   ]
  },
  {
   "cell_type": "code",
   "execution_count": 333,
   "id": "c78bb5cc",
   "metadata": {},
   "outputs": [
    {
     "name": "stdout",
     "output_type": "stream",
     "text": [
      "Constructor.\n",
      "Constructor.\n",
      "Assignment operator.\n"
     ]
    }
   ],
   "source": [
    "#include <iostream>\n",
    "\n",
    "class Complex {\n",
    "    float real, imag;\n",
    "public:\n",
    "    Complex(float r=0, float i=0) : real(r), imag(i) {\n",
    "        std::cout << \"Constructor.\\n\";\n",
    "    }\n",
    "    \n",
    "    Complex & operator=(const Complex &complex) {                  /* Non-static method. */\n",
    "        real = complex.real;\n",
    "        imag = complex.imag;\n",
    "        std::cout << \"Assignment operator.\\n\";\n",
    "        return *this;\n",
    "    }\n",
    "    \n",
    "    void print() {\n",
    "        std::cout << \"[Real]: \" << real << '\\n';\n",
    "        std::cout << \"[Imag]: \" << imag << '\\n';\n",
    "    }\n",
    "};\n",
    "\n",
    "int main() {\n",
    "    Complex comp = 5;    /* Constructing Complex(5) (initialization). */\n",
    "    comp = 6;            /* Constructing Complex(6), then assignment. */\n",
    "}"
   ]
  },
  {
   "cell_type": "markdown",
   "id": "e4067141",
   "metadata": {},
   "source": [
    "#### Unary <a class=\"anchor\" id=\"oo-unary\"></a>"
   ]
  },
  {
   "cell_type": "markdown",
   "id": "b014491a",
   "metadata": {},
   "source": [
    "| *Operator* |\n",
    "| --- |\n",
    "| `+` `-` `!` `~` `*` `&` |"
   ]
  },
  {
   "cell_type": "code",
   "execution_count": 336,
   "id": "c46eb1ae",
   "metadata": {},
   "outputs": [
    {
     "name": "stdout",
     "output_type": "stream",
     "text": [
      "[Real]: -5\n",
      "[Imag]: -3\n"
     ]
    }
   ],
   "source": [
    "#include <iostream>\n",
    "\n",
    "class Complex {\n",
    "    float real, imag;\n",
    "public:\n",
    "    Complex(float r=0, float i=0) : real(r), imag(i) {}\n",
    "    \n",
    "    void print() {\n",
    "        std::cout << \"[Real]: \" << real << '\\n';\n",
    "        std::cout << \"[Imag]: \" << imag << '\\n';\n",
    "    }\n",
    "    \n",
    "    friend Complex operator-(const Complex &complex);\n",
    "};\n",
    "\n",
    "Complex operator-(const Complex &complex) {                                 /* Non-member function. */\n",
    "    return Complex(-complex.real, -complex.imag);\n",
    "}\n",
    "\n",
    "int main() {\n",
    "    (-Complex(5, 3)).print();\n",
    "}"
   ]
  },
  {
   "cell_type": "code",
   "execution_count": 390,
   "id": "21a0e9e0",
   "metadata": {},
   "outputs": [
    {
     "name": "stdout",
     "output_type": "stream",
     "text": [
      "[Real]: -5\n",
      "[Imag]: -3\n"
     ]
    }
   ],
   "source": [
    "#include <iostream>\n",
    "\n",
    "class Complex {\n",
    "    float real, imag;\n",
    "public:\n",
    "    Complex(float r=0, float i=0) : real(r), imag(i) {}\n",
    "    \n",
    "    void print() {\n",
    "        std::cout << \"[Real]: \" << real << '\\n';\n",
    "        std::cout << \"[Imag]: \" << imag << '\\n';\n",
    "    }\n",
    "    \n",
    "    friend Complex operator-(const Complex &complex);\n",
    "};\n",
    "\n",
    "Complex operator-(const Complex &complex) {                                 /* Non-member function. */\n",
    "    return Complex(-complex.real, -complex.imag);\n",
    "}\n",
    "\n",
    "int main() {\n",
    "    (-Complex(5, 3)).print();\n",
    "}"
   ]
  },
  {
   "cell_type": "markdown",
   "id": "21a85486",
   "metadata": {},
   "source": [
    "#### Type Conversion <a class=\"anchor\" id=\"oo-type-conversion\"></a>"
   ]
  },
  {
   "cell_type": "markdown",
   "id": "e6179175",
   "metadata": {},
   "source": [
    "| *Operator* |\n",
    "| --- |\n",
    "| *`(type)`* |"
   ]
  },
  {
   "cell_type": "code",
   "execution_count": 339,
   "id": "ff5cb96b",
   "metadata": {},
   "outputs": [
    {
     "name": "stdout",
     "output_type": "stream",
     "text": [
      "5.3"
     ]
    }
   ],
   "source": [
    "#include <iostream>\n",
    "\n",
    "class Complex {\n",
    "    float real, imag;\n",
    "public:\n",
    "    Complex(float r=0, float i=0) : real(r), imag(i) {}\n",
    "    \n",
    "    void print() {\n",
    "        std::cout << \"[Real]: \" << real << '\\n';\n",
    "        std::cout << \"[Imag]: \" << imag << '\\n';\n",
    "    }\n",
    "    \n",
    "    operator float() {\n",
    "        return real;\n",
    "    }\n",
    "};\n",
    "\n",
    "int main() {\n",
    "    float tmp = Complex(5.3, 4.5);\n",
    "    std::cout << tmp;\n",
    "}"
   ]
  },
  {
   "cell_type": "markdown",
   "id": "b97d909b",
   "metadata": {},
   "source": [
    "#### Increment, Decrement <a class=\"anchor\" id=\"oo-increment-decrement\"></a>"
   ]
  },
  {
   "cell_type": "markdown",
   "id": "1ef8c296",
   "metadata": {},
   "source": [
    "| *Operator* |\n",
    "| --- |\n",
    "| (*Post*) `++` `--` |\n",
    "| (*Pre*) `++` `--` |"
   ]
  },
  {
   "cell_type": "code",
   "execution_count": 348,
   "id": "ec705461",
   "metadata": {
    "scrolled": true
   },
   "outputs": [
    {
     "name": "stdout",
     "output_type": "stream",
     "text": [
      "[Real]: 5, [Imag]: 7\n",
      "[Real]: 6, [Imag]: 8\n",
      "[Real]: 7, [Imag]: 9\n",
      "[Real]: 7, [Imag]: 9\n"
     ]
    }
   ],
   "source": [
    "#include <iostream>\n",
    "\n",
    "class Complex {\n",
    "    float real, imag;\n",
    "public:\n",
    "    Complex(float r=0, float i=0) : real(r), imag(i) {}\n",
    "    \n",
    "    void print() {\n",
    "        std::cout << \"[Real]: \" << real << \", \";\n",
    "        std::cout << \"[Imag]: \" << imag << '\\n';\n",
    "    }\n",
    "    \n",
    "    Complex operator++(int dummy) {             /* Postfix. */\n",
    "        return Complex(real++, imag++);\n",
    "    }\n",
    "    \n",
    "    Complex & operator++() {                    /* Prefix. */\n",
    "        real++, imag++;\n",
    "        return *this;\n",
    "    }\n",
    "};\n",
    "\n",
    "int main() {\n",
    "    Complex complex(5, 7);\n",
    "    (complex++).print();\n",
    "    complex.print();\n",
    "    (++complex).print();\n",
    "    complex.print();\n",
    "}"
   ]
  },
  {
   "cell_type": "markdown",
   "id": "f6938bf7",
   "metadata": {},
   "source": [
    "*Note:* The *dummy* variable to a post-increment operator overloading function is never used."
   ]
  },
  {
   "cell_type": "markdown",
   "id": "a02917ab",
   "metadata": {},
   "source": [
    "#### Subscripting <a class=\"anchor\" id=\"oo-subscripting\"></a>"
   ]
  },
  {
   "cell_type": "markdown",
   "id": "a625b0d7",
   "metadata": {},
   "source": [
    "| *Operator* |\n",
    "| --- |\n",
    "| `[]` |"
   ]
  },
  {
   "cell_type": "code",
   "execution_count": 358,
   "id": "19b3df87",
   "metadata": {},
   "outputs": [
    {
     "name": "stdout",
     "output_type": "stream",
     "text": [
      "3.3\n",
      "4.4\n"
     ]
    }
   ],
   "source": [
    "#include <iostream>\n",
    "\n",
    "class Complex {\n",
    "    float real, imag;\n",
    "public:\n",
    "    Complex(float r=0, float i=0) : real(r), imag(i) {}\n",
    "    \n",
    "    void print() {\n",
    "        std::cout << \"[Real]: \" << real << \", \";\n",
    "        std::cout << \"[Imag]: \" << imag << '\\n';\n",
    "    }\n",
    "    \n",
    "    float operator[](int index) {\n",
    "        return index == 0 ? real : imag;\n",
    "    }\n",
    "};\n",
    "\n",
    "int main() {\n",
    "    Complex complex(3.3, 4.4);\n",
    "    std::cout << complex[0] << '\\n';\n",
    "    std::cout << complex[1] << '\\n';\n",
    "}"
   ]
  },
  {
   "cell_type": "markdown",
   "id": "bf612a76",
   "metadata": {},
   "source": [
    "*Note:* The subscripting operator must receive a single parameter."
   ]
  },
  {
   "cell_type": "markdown",
   "id": "dc359099",
   "metadata": {},
   "source": [
    "#### Function Call <a class=\"anchor\" id=\"oo-function-call\"></a>"
   ]
  },
  {
   "cell_type": "markdown",
   "id": "c5b5f2a2",
   "metadata": {},
   "source": [
    "| *Operator* |\n",
    "| --- |\n",
    "| `()` |"
   ]
  },
  {
   "cell_type": "code",
   "execution_count": 376,
   "id": "71dde86a",
   "metadata": {},
   "outputs": [
    {
     "name": "stdout",
     "output_type": "stream",
     "text": [
      "[0][5]\n",
      "[4][0]"
     ]
    }
   ],
   "source": [
    "#include <iostream>\n",
    "\n",
    "class Matrix {\n",
    "    int arr[4];\n",
    "    \n",
    "    void print_val(int i) {\n",
    "        std::cout << '[' << arr[i] << ']';\n",
    "    }\n",
    "public:\n",
    "    Matrix() {\n",
    "        for (int i = 0; i < 4; i++) { \n",
    "            arr[i] = 0;\n",
    "        }\n",
    "    }\n",
    "    \n",
    "    void print() {\n",
    "        print_val(0);\n",
    "        print_val(1);\n",
    "        std::cout << '\\n';\n",
    "        print_val(2);\n",
    "        print_val(3);\n",
    "    }\n",
    "    \n",
    "    int & operator() (int i=0, int j=0) {\n",
    "        return arr[i*2+j];\n",
    "    }\n",
    "};\n",
    "\n",
    "int main() {\n",
    "    Matrix matrix;\n",
    "    matrix(0, 1) = 5;\n",
    "    matrix(1) = 4;\n",
    "    matrix.print();\n",
    "}"
   ]
  },
  {
   "cell_type": "markdown",
   "id": "51a0135a",
   "metadata": {},
   "source": [
    "#### The `->` operator <a class=\"anchor\" id=\"oo-the-->-operator\"></a>"
   ]
  },
  {
   "cell_type": "markdown",
   "id": "cb873712",
   "metadata": {},
   "source": [
    "| *Operator* |\n",
    "| --- |\n",
    "| `->` |"
   ]
  },
  {
   "cell_type": "code",
   "execution_count": 387,
   "id": "67f81b11",
   "metadata": {},
   "outputs": [
    {
     "name": "stdout",
     "output_type": "stream",
     "text": [
      "[Real]: 3.3, [Imag]: 4.4\n"
     ]
    }
   ],
   "source": [
    "#include <iostream>\n",
    "\n",
    "class Complex {\n",
    "    float real, imag;\n",
    "public:\n",
    "    Complex(float r=0, float i=0) : real(r), imag(i) {}\n",
    "    \n",
    "    void print() {\n",
    "        std::cout << \"[Real]: \" << real << \", \";\n",
    "        std::cout << \"[Imag]: \" << imag << '\\n';\n",
    "    }\n",
    "    \n",
    "    Complex * operator->() {                  /* Must return pointer, and receive no parameters. */\n",
    "        return this;\n",
    "    }\n",
    "};\n",
    "\n",
    "int main() {\n",
    "    Complex complex(3.3, 4.4);\n",
    "    complex->print();\n",
    "}"
   ]
  },
  {
   "cell_type": "markdown",
   "id": "17e0dadc",
   "metadata": {},
   "source": [
    "*Note*: `->` overloading is primarily used to implement *smart pointers*. Those are objects that behave like pointers, with additional functionalities."
   ]
  }
 ],
 "metadata": {
  "kernelspec": {
   "display_name": "C",
   "language": "c",
   "name": "c"
  },
  "language_info": {
   "file_extension": ".cpp",
   "mimetype": "text/plain",
   "name": "c++"
  }
 },
 "nbformat": 4,
 "nbformat_minor": 5
}
