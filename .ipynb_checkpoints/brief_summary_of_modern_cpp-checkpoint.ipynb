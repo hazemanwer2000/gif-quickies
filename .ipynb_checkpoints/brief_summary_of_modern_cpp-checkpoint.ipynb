{
 "cells": [
  {
   "cell_type": "markdown",
   "id": "682e6274",
   "metadata": {},
   "source": [
    "# A brief summary of C++ (11, 14, 17, 20)\n",
    "<br>\n",
    "<div style=\"opacity: 0.8; font-family: Consolas, Monaco, Lucida Console, Liberation Mono, DejaVu Sans Mono, Bitstream Vera Sans Mono, Courier New; font-size: 12px; font-style: italic;\">\n",
    "    ────────\n",
    "    for more from the author, visit\n",
    "    <a href=\"https://github.com/hazemanwer2000\">github.com/hazemanwer2000</a>.\n",
    "    ────────\n",
    "</div>"
   ]
  },
  {
   "cell_type": "markdown",
   "id": "36c7c3ed",
   "metadata": {},
   "source": [
    "## Table of Contents\n",
    "* [C++11](#C++11)\n",
    "    * [Uniform Initialization](#uniform-initialization)\n",
    "    * [The `auto` keyword](#the-auto-keyword)\n",
    "    * [The `decltype` operator](#the-decltype-operator)\n",
    "    * [The range-based `for` loop](#the-range-based-for-loop)\n",
    "    * [The `nullptr` keyword](#the-nullptr-keyword)\n",
    "    * [Enumeration Classes](#enumeration-classes)\n",
    "* [C++14](#C++14)\n",
    "* [C++17](#C++17)\n",
    "* [C++20](#C++20)\n",
    "\n",
    "<hr>"
   ]
  },
  {
   "cell_type": "markdown",
   "id": "8b276c26",
   "metadata": {},
   "source": [
    "*Note:* This writing builds upon <a href=\"https://github.com/hazemanwer2000/gif-quickies/blob/main/brief_summary_of_cpp.ipynb\">*A brief summary of C++ (98)*</a>, and discusses feature introductions in modern standards of the C++ language."
   ]
  },
  {
   "cell_type": "markdown",
   "id": "24f1dd83",
   "metadata": {},
   "source": [
    "## C++11 <a class=\"anchor\" id=\"c++11\"></a>"
   ]
  },
  {
   "cell_type": "markdown",
   "id": "692ca08b",
   "metadata": {},
   "source": [
    "### Uniform Initialization <a class=\"anchor\" id=\"uniform-initialization\"></a>"
   ]
  },
  {
   "cell_type": "markdown",
   "id": "69733492",
   "metadata": {},
   "source": [
    "Direct initialization using parentheses, `()`, proved sometimes inconsistent. For example:"
   ]
  },
  {
   "cell_type": "code",
   "execution_count": null,
   "id": "b1c14fa0",
   "metadata": {},
   "outputs": [],
   "source": [
    "int x();           // Interpreted as a function declaration"
   ]
  },
  {
   "cell_type": "markdown",
   "id": "863cec02",
   "metadata": {},
   "source": [
    "C++11 introduces a more consistent form of initialization, called *uniform* initialization, using braces, *{}*."
   ]
  },
  {
   "cell_type": "code",
   "execution_count": null,
   "id": "794e99f5",
   "metadata": {},
   "outputs": [],
   "source": [
    "int x{};           // Default-initialized to '0'"
   ]
  },
  {
   "cell_type": "markdown",
   "id": "c3472bc3",
   "metadata": {},
   "source": [
    "*Note:* Unlike `()`, `{}` does not allow implicit narrowing of values. For example, implicit conversion of `double` to `float` is prohibted."
   ]
  },
  {
   "cell_type": "markdown",
   "id": "4090e5f4",
   "metadata": {},
   "source": [
    "Additionally, an immutable list, `initializer_list`, is defined in `<initializer_list>`.\n",
    "\n",
    "If a constructor that accepts an `initializer_list` object exists, then uniform (or, brace) initialization allows for the initialization of the list implicitly by comma-separated values between the opening and closing braces.\n",
    "\n",
    "This is similar in syntax to how C-style arrays are initialized."
   ]
  },
  {
   "cell_type": "code",
   "execution_count": 26,
   "id": "2508c445",
   "metadata": {},
   "outputs": [
    {
     "name": "stdout",
     "output_type": "stream",
     "text": [
      "1, 2, 3, \b\b  \n"
     ]
    }
   ],
   "source": [
    "//%cflags: -I.jupyter\n",
    "\n",
    "#include <iostream>\n",
    "#include <vector>\n",
    "#include <initializer_list>\n",
    "#include \"helpers.h\"\n",
    "\n",
    "template <class T>\n",
    "class Array {\n",
    "    std::vector<T> v;\n",
    "public:\n",
    "    Array(const std::initializer_list<T> &init) : v(init.begin(), init.end()) {}\n",
    "    Array(int size) : v(size) {}\n",
    "\n",
    "    void show() { forwardly(v.begin(), v.end()); }\n",
    "};\n",
    "\n",
    "int main() {\n",
    "    Array<int> arr{1, 2, 3};\n",
    "    arr.show();\n",
    "}"
   ]
  },
  {
   "cell_type": "code",
   "execution_count": null,
   "id": "52c81bb2",
   "metadata": {},
   "outputs": [],
   "source": [
    "Array<int> arr{1, 2, 3};               /* Equivalent syntax */\n",
    "\n",
    "Array<int> arr = {1, 2, 3};\n",
    "\n",
    "Array<int> arr({1, 2, 3});"
   ]
  },
  {
   "cell_type": "code",
   "execution_count": null,
   "id": "7bd50d6c",
   "metadata": {},
   "outputs": [],
   "source": [
    "Array<int> arr(5);                     /* Array of size '5', default-initialized 'int's to '0' */\n",
    "\n",
    "Array<int> arr{5};                     /* Array of size '1', consisting of {5} */"
   ]
  },
  {
   "cell_type": "markdown",
   "id": "ea734a3a",
   "metadata": {},
   "source": [
    "*Note:* When an `initializer_list` constructor is missing, `{}` behave similar to `()`."
   ]
  },
  {
   "cell_type": "markdown",
   "id": "48fc073e",
   "metadata": {},
   "source": [
    "### The `auto` keyword <a class=\"anchor\" id=\"the-auto-keyword\"></a>"
   ]
  },
  {
   "cell_type": "markdown",
   "id": "56d92589",
   "metadata": {},
   "source": [
    "C++11 introduces the `auto` keyword, that may be used as a type, to be implicitly resolved at compile-time."
   ]
  },
  {
   "cell_type": "code",
   "execution_count": 43,
   "id": "67cf3aba",
   "metadata": {},
   "outputs": [
    {
     "name": "stdout",
     "output_type": "stream",
     "text": [
      "5"
     ]
    }
   ],
   "source": [
    "#include <iostream>\n",
    "\n",
    "int main() {\n",
    "    auto x = 5;\n",
    "    \n",
    "    std::cout << x;\n",
    "}"
   ]
  },
  {
   "cell_type": "code",
   "execution_count": 45,
   "id": "9bc45b20",
   "metadata": {},
   "outputs": [
    {
     "name": "stdout",
     "output_type": "stream",
     "text": [
      "3"
     ]
    }
   ],
   "source": [
    "#include <iostream>\n",
    "\n",
    "auto add(int x, int y) {\n",
    "    return x + y;\n",
    "}\n",
    "\n",
    "int main() {\n",
    "    std::cout << add(1, 2);\n",
    "}"
   ]
  },
  {
   "cell_type": "markdown",
   "id": "60d41459",
   "metadata": {},
   "source": [
    "*Note:* Always use copy initialization with the `auto` keyword. In particular, brace initialization resolves `auto` into `initializer_list`."
   ]
  },
  {
   "cell_type": "markdown",
   "id": "14f8998c",
   "metadata": {},
   "source": [
    "The `auto` keyword ignores references and top-level constants, but retains low-level constants."
   ]
  },
  {
   "cell_type": "code",
   "execution_count": null,
   "id": "52f7be1f",
   "metadata": {},
   "outputs": [],
   "source": [
    "#include <iostream>\n",
    "\n",
    "int main() {\n",
    "    const int y = 6;       /* 'y' is a top-level constant ('const int') */\n",
    "\n",
    "    auto x = y;            /* auto resolved to 'int' */\n",
    "    \n",
    "    x = 7;                 /* Valid */\n",
    "}      "
   ]
  },
  {
   "cell_type": "code",
   "execution_count": null,
   "id": "5de87641",
   "metadata": {},
   "outputs": [],
   "source": [
    "#include <iostream>\n",
    "\n",
    "int main() {\n",
    "    const int y = 6;       /* '&y' is a low-level constant ('const int *') */\n",
    "\n",
    "    auto ptr = &y;         /* auto resolved to 'const int *' */\n",
    "    \n",
    "    *ptr = 7;              /* Error: Assignment of read-only location */\n",
    "}      "
   ]
  },
  {
   "cell_type": "markdown",
   "id": "24773c15",
   "metadata": {},
   "source": [
    "*Note:* As an example, `const int` and `int * const` are top-level constants, while `const int *` is a low-level constant."
   ]
  },
  {
   "cell_type": "markdown",
   "id": "734f1c21",
   "metadata": {},
   "source": [
    "### The `decltype` operator <a class=\"anchor\" id=\"the-decltype-operator\"></a>"
   ]
  },
  {
   "cell_type": "markdown",
   "id": "7fe5af36",
   "metadata": {},
   "source": [
    "C++11 introduces the `decltype` operator, that accepts an expression, and substitutes for its type at compile-time."
   ]
  },
  {
   "cell_type": "code",
   "execution_count": 48,
   "id": "a6eaa46f",
   "metadata": {},
   "outputs": [
    {
     "name": "stdout",
     "output_type": "stream",
     "text": [
      "8.2"
     ]
    }
   ],
   "source": [
    "#include <iostream>\n",
    "\n",
    "int main() {\n",
    "    decltype(5 + 3.2) val = (5 + 3.2);\n",
    "    \n",
    "    std::cout << val;\n",
    "}"
   ]
  },
  {
   "cell_type": "markdown",
   "id": "f189ed46",
   "metadata": {},
   "source": [
    "Unlike the `auto` keyword, the `decltype` operator retains all qualifiers, including references and top-level constants."
   ]
  },
  {
   "cell_type": "code",
   "execution_count": null,
   "id": "3443a4fd",
   "metadata": {},
   "outputs": [],
   "source": [
    "int main() {\n",
    "    const int x = 5;          /* 'x' is a top-level const */\n",
    "    \n",
    "    decltype(x) y = 6;        /* Resolves to 'const int' */\n",
    "    \n",
    "    y = 7;                    /* Error: Assignment to read-only variable. */\n",
    "}"
   ]
  },
  {
   "cell_type": "markdown",
   "id": "6eeec996",
   "metadata": {},
   "source": [
    "### The `constexpr` keyword <a class=\"anchor\" id=\"the-constexpr-keyword\"></a>"
   ]
  },
  {
   "cell_type": "markdown",
   "id": "1ab06ee9",
   "metadata": {},
   "source": [
    "C++11 introduces the `constexpr` keyword, placed before a variable declaration gurantees that it is evaluated at compile-time.\n",
    "\n",
    "When placed before a function, it gurantees that calls to this function are evaluated at compile-time."
   ]
  },
  {
   "cell_type": "code",
   "execution_count": 70,
   "id": "2a5ce6e8",
   "metadata": {},
   "outputs": [
    {
     "name": "stdout",
     "output_type": "stream",
     "text": [
      "11"
     ]
    }
   ],
   "source": [
    "#include <iostream>\n",
    "                                      /* Before Compilation */\n",
    "constexpr auto add(int x, int y) {\n",
    "    return x + y;\n",
    "}\n",
    "\n",
    "int main() {\n",
    "    constexpr int res = add(5, 6);\n",
    "    \n",
    "    std::cout << res;\n",
    "}"
   ]
  },
  {
   "cell_type": "code",
   "execution_count": 66,
   "id": "aaabb54c",
   "metadata": {},
   "outputs": [
    {
     "name": "stdout",
     "output_type": "stream",
     "text": [
      "11"
     ]
    }
   ],
   "source": [
    "#include <iostream>\n",
    "                                      /* After Compilation */\n",
    "int main() {\n",
    "    std::cout << 11;\n",
    "}"
   ]
  },
  {
   "cell_type": "markdown",
   "id": "6bf2f43c",
   "metadata": {},
   "source": [
    "A class with a `constexpr` constructor may be used as a literal."
   ]
  },
  {
   "cell_type": "code",
   "execution_count": 64,
   "id": "5862c88d",
   "metadata": {},
   "outputs": [
    {
     "name": "stdout",
     "output_type": "stream",
     "text": [
      "(1, 2)"
     ]
    }
   ],
   "source": [
    "#include <iostream>\n",
    "                                      /* Before Compilation */\n",
    "struct Point {\n",
    "    int x, y;\n",
    "    \n",
    "    constexpr Point(int x, int y) : x(x), y(y) {}\n",
    "};\n",
    "\n",
    "int main() {\n",
    "    constexpr Point p(1, 2);\n",
    "    \n",
    "    std::cout << \"(\" << p.x << \", \" << p.y << \")\";\n",
    "}"
   ]
  },
  {
   "cell_type": "code",
   "execution_count": 72,
   "id": "30e7e1ba",
   "metadata": {},
   "outputs": [
    {
     "name": "stdout",
     "output_type": "stream",
     "text": [
      "(1, 2)"
     ]
    }
   ],
   "source": [
    "#include <iostream>\n",
    "                                      /* After Compilation */\n",
    "int main() {\n",
    "    std::cout << \"(\" << 1 << \", \" << 2 << \")\";\n",
    "}"
   ]
  },
  {
   "cell_type": "markdown",
   "id": "d8fccc1e",
   "metadata": {},
   "source": [
    "### The range-based `for` loop <a class=\"anchor\" id=\"the-range-based-for-loop\"></a>"
   ]
  },
  {
   "cell_type": "markdown",
   "id": "3c1637c9",
   "metadata": {},
   "source": [
    "C++11 introduces a range-based `for` loop, that uses `begin` and `end` members of its post-colon argument."
   ]
  },
  {
   "cell_type": "code",
   "execution_count": 79,
   "id": "2ea96c61",
   "metadata": {},
   "outputs": [
    {
     "name": "stdout",
     "output_type": "stream",
     "text": [
      "1 2 3 4 5 "
     ]
    }
   ],
   "source": [
    "#include <iostream>\n",
    "#include <vector>\n",
    "\n",
    "int main() {\n",
    "    std::vector<int> v {1, 2, 3, 4, 5};\n",
    "\n",
    "    for (auto &val : v) {\n",
    "        std::cout << val << ' ';\n",
    "    }\n",
    "}"
   ]
  },
  {
   "cell_type": "markdown",
   "id": "05e125f1",
   "metadata": {},
   "source": [
    "*Note:* It is recommended to refrain from using a range-based `for` loop with a built-in array."
   ]
  },
  {
   "cell_type": "markdown",
   "id": "765e9f1b",
   "metadata": {},
   "source": [
    "### The `nullptr` keyword <a class=\"anchor\" id=\"the-nullptr-keyword\"></a>"
   ]
  },
  {
   "cell_type": "markdown",
   "id": "da5d50e4",
   "metadata": {},
   "source": [
    "C++11 defines the `nullptr` ke|yword, to replace the ambigious zero-defined `NULL` macro."
   ]
  },
  {
   "cell_type": "code",
   "execution_count": 98,
   "id": "8096db05",
   "metadata": {},
   "outputs": [
    {
     "name": "stdout",
     "output_type": "stream",
     "text": [
      "foo(long int)\n",
      "foo(long int *)\n"
     ]
    }
   ],
   "source": [
    "//%cflags: -w\n",
    "\n",
    "#include <iostream>\n",
    "\n",
    "void foo(long int x) {\n",
    "    std::cout << \"foo(long int)\\n\";\n",
    "}\n",
    "\n",
    "void foo(long int *x) {\n",
    "    std::cout << \"foo(long int *)\\n\";\n",
    "}\n",
    "\n",
    "int main() {\n",
    "    foo(NULL);\n",
    "    foo(nullptr);\n",
    "}"
   ]
  },
  {
   "cell_type": "markdown",
   "id": "455c9bea",
   "metadata": {},
   "source": [
    "### Enumeration Classes <a class=\"anchor\" id=\"enumeration-classes\"></a>"
   ]
  },
  {
   "cell_type": "markdown",
   "id": "bb554738",
   "metadata": {},
   "source": [
    "C++11 introduces *enumeration classes*, as a scoped alternative to plain enumerations."
   ]
  },
  {
   "cell_type": "code",
   "execution_count": 104,
   "id": "8ee88a8e",
   "metadata": {},
   "outputs": [
    {
     "name": "stdout",
     "output_type": "stream",
     "text": [
      "He got a really high grade!"
     ]
    }
   ],
   "source": [
    "#include <iostream>\n",
    "\n",
    "enum class Grade {High, Average, Low};\n",
    "\n",
    "void tell_me(Grade grade) {\n",
    "    switch (grade) {\n",
    "        case Grade::High:\n",
    "            std::cout << \"He got a really high grade!\";\n",
    "            break;\n",
    "        case Grade::Average:\n",
    "            std::cout << \"He's kind'a average.\";\n",
    "            break;\n",
    "        case Grade::Low:\n",
    "            std::cout << \"He needs to pass the corrective exam, first!\";\n",
    "            break;\n",
    "    }\n",
    "}\n",
    "\n",
    "int main() {\n",
    "    tell_me(Grade::High);\n",
    "}"
   ]
  },
  {
   "cell_type": "markdown",
   "id": "44494c36",
   "metadata": {},
   "source": [
    "You may specify a specific integral type to contain values from the `enum class` type, which is `int` by default."
   ]
  },
  {
   "cell_type": "code",
   "execution_count": null,
   "id": "20d4f139",
   "metadata": {
    "scrolled": true
   },
   "outputs": [],
   "source": [
    "enum class Grade : char {High, Average, Low};"
   ]
  },
  {
   "cell_type": "markdown",
   "id": "d705f083",
   "metadata": {},
   "source": [
    "*Note:* Implicit conversion from `int` to an `enum class` type, and vice versa, is prohibited."
   ]
  }
 ],
 "metadata": {
  "kernelspec": {
   "display_name": "C",
   "language": "c",
   "name": "c"
  },
  "language_info": {
   "file_extension": ".cpp",
   "mimetype": "text/plain",
   "name": "c++"
  }
 },
 "nbformat": 4,
 "nbformat_minor": 5
}
