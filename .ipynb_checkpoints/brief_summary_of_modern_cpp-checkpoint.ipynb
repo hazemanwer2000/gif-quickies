{
 "cells": [
  {
   "cell_type": "markdown",
   "id": "682e6274",
   "metadata": {},
   "source": [
    "# A brief summary of C++ (11, 14, 17, 20)\n",
    "<br>\n",
    "<div style=\"opacity: 0.8; font-family: Consolas, Monaco, Lucida Console, Liberation Mono, DejaVu Sans Mono, Bitstream Vera Sans Mono, Courier New; font-size: 12px; font-style: italic;\">\n",
    "    ────────\n",
    "    for more from the author, visit\n",
    "    <a href=\"https://github.com/hazemanwer2000\">github.com/hazemanwer2000</a>.\n",
    "    ────────\n",
    "</div>"
   ]
  },
  {
   "cell_type": "markdown",
   "id": "a81e5dbe",
   "metadata": {},
   "source": [
    "## Table of Contents\n",
    "* [C++11](#C++11)\n",
    "    * [Uniform Initialization](#uniform-initialization)\n",
    "    * [The `auto` keyword](#the-auto-keyword)\n",
    "    * [The `decltype` operator](#the-decltype-operator)\n",
    "    * [The range-based `for` loop](#the-range-based-for-loop)\n",
    "    * [The `nullptr` keyword](#the-nullptr-keyword)\n",
    "    * [Enumeration Classes](#enumeration-classes)\n",
    "    * [R-value References](#r-value-references)\n",
    "* [C++14](#C++14)\n",
    "* [C++17](#C++17)\n",
    "* [C++20](#C++20)\n",
    "\n",
    "<hr>"
   ]
  },
  {
   "cell_type": "markdown",
   "id": "ef5dc9d3",
   "metadata": {},
   "source": [
    "*Note:* This writing builds upon <a href=\"https://github.com/hazemanwer2000/gif-quickies/blob/main/brief_summary_of_cpp.ipynb\">*A brief summary of C++ (98)*</a>, and discusses feature introductions in modern standards of the C++ language."
   ]
  },
  {
   "cell_type": "markdown",
   "id": "2f6ad0fb",
   "metadata": {},
   "source": [
    "## C++11 <a class=\"anchor\" id=\"c++11\"></a>"
   ]
  },
  {
   "cell_type": "markdown",
   "id": "85918714",
   "metadata": {},
   "source": [
    "### Uniform Initialization <a class=\"anchor\" id=\"uniform-initialization\"></a>"
   ]
  },
  {
   "cell_type": "markdown",
   "id": "a295b4c7",
   "metadata": {},
   "source": [
    "Direct initialization using parentheses, `()`, proved sometimes inconsistent. For example:"
   ]
  },
  {
   "cell_type": "code",
   "execution_count": null,
   "id": "262c4de7",
   "metadata": {},
   "outputs": [],
   "source": [
    "int x();           // Interpreted as a function declaration"
   ]
  },
  {
   "cell_type": "markdown",
   "id": "68dd8a38",
   "metadata": {},
   "source": [
    "C++11 introduces a more consistent form of initialization, called *uniform* initialization, using braces, *{}*."
   ]
  },
  {
   "cell_type": "code",
   "execution_count": null,
   "id": "a770e450",
   "metadata": {},
   "outputs": [],
   "source": [
    "int x{};           // Default-initialized to '0'"
   ]
  },
  {
   "cell_type": "markdown",
   "id": "8ea8bc0b",
   "metadata": {},
   "source": [
    "*Note:* Unlike `()`, `{}` does not allow implicit narrowing of values. For example, implicit conversion of `double` to `float` is prohibted."
   ]
  },
  {
   "cell_type": "markdown",
   "id": "fb48ed06",
   "metadata": {},
   "source": [
    "Additionally, an immutable list, `initializer_list`, is defined in `<initializer_list>`.\n",
    "\n",
    "If a constructor that accepts an `initializer_list` object exists, then uniform (or, brace) initialization allows for the initialization of the list implicitly by comma-separated values between the opening and closing braces.\n",
    "\n",
    "This is similar in syntax to how C-style arrays are initialized."
   ]
  },
  {
   "cell_type": "code",
   "execution_count": 26,
   "id": "ae1e7607",
   "metadata": {},
   "outputs": [
    {
     "name": "stdout",
     "output_type": "stream",
     "text": [
      "1, 2, 3, \b\b  \n"
     ]
    }
   ],
   "source": [
    "//%cflags: -I.jupyter\n",
    "\n",
    "#include <iostream>\n",
    "#include <vector>\n",
    "#include <initializer_list>\n",
    "#include \"helpers.h\"\n",
    "\n",
    "template <class T>\n",
    "class Array {\n",
    "    std::vector<T> v;\n",
    "public:\n",
    "    Array(const std::initializer_list<T> &init) : v(init.begin(), init.end()) {}\n",
    "    Array(int size) : v(size) {}\n",
    "\n",
    "    void show() { forwardly(v.begin(), v.end()); }\n",
    "};\n",
    "\n",
    "int main() {\n",
    "    Array<int> arr{1, 2, 3};\n",
    "    arr.show();\n",
    "}"
   ]
  },
  {
   "cell_type": "code",
   "execution_count": null,
   "id": "3b3e8b4c",
   "metadata": {},
   "outputs": [],
   "source": [
    "Array<int> arr{1, 2, 3};               /* Equivalent syntax */\n",
    "\n",
    "Array<int> arr = {1, 2, 3};\n",
    "\n",
    "Array<int> arr({1, 2, 3});"
   ]
  },
  {
   "cell_type": "code",
   "execution_count": null,
   "id": "3c093842",
   "metadata": {},
   "outputs": [],
   "source": [
    "Array<int> arr(5);                     /* Array of size '5', default-initialized 'int's to '0' */\n",
    "\n",
    "Array<int> arr{5};                     /* Array of size '1', consisting of {5} */"
   ]
  },
  {
   "cell_type": "markdown",
   "id": "ff0acdeb",
   "metadata": {},
   "source": [
    "*Note:* When an `initializer_list` constructor is missing, `{}` behave similar to `()`."
   ]
  },
  {
   "cell_type": "markdown",
   "id": "b316e392",
   "metadata": {},
   "source": [
    "### The `auto` keyword <a class=\"anchor\" id=\"the-auto-keyword\"></a>"
   ]
  },
  {
   "cell_type": "markdown",
   "id": "1a44aad7",
   "metadata": {},
   "source": [
    "C++11 introduces the `auto` keyword, that may be used as a type, to be implicitly resolved at compile-time."
   ]
  },
  {
   "cell_type": "code",
   "execution_count": 43,
   "id": "9f5ed3e3",
   "metadata": {},
   "outputs": [
    {
     "name": "stdout",
     "output_type": "stream",
     "text": [
      "5"
     ]
    }
   ],
   "source": [
    "#include <iostream>\n",
    "\n",
    "int main() {\n",
    "    auto x = 5;\n",
    "    \n",
    "    std::cout << x;\n",
    "}"
   ]
  },
  {
   "cell_type": "code",
   "execution_count": 45,
   "id": "65087131",
   "metadata": {},
   "outputs": [
    {
     "name": "stdout",
     "output_type": "stream",
     "text": [
      "3"
     ]
    }
   ],
   "source": [
    "#include <iostream>\n",
    "\n",
    "auto add(int x, int y) {\n",
    "    return x + y;\n",
    "}\n",
    "\n",
    "int main() {\n",
    "    std::cout << add(1, 2);\n",
    "}"
   ]
  },
  {
   "cell_type": "markdown",
   "id": "2cd23c1a",
   "metadata": {},
   "source": [
    "*Note:* Always use copy initialization with the `auto` keyword. In particular, brace initialization resolves `auto` into `initializer_list`."
   ]
  },
  {
   "cell_type": "markdown",
   "id": "b5aa5e96",
   "metadata": {},
   "source": [
    "The `auto` keyword ignores references and top-level constants, but retains low-level constants."
   ]
  },
  {
   "cell_type": "code",
   "execution_count": null,
   "id": "b32562cd",
   "metadata": {},
   "outputs": [],
   "source": [
    "#include <iostream>\n",
    "\n",
    "int main() {\n",
    "    const int y = 6;       /* 'y' is a top-level constant ('const int') */\n",
    "\n",
    "    auto x = y;            /* auto resolved to 'int' */\n",
    "    \n",
    "    x = 7;                 /* Valid */\n",
    "}      "
   ]
  },
  {
   "cell_type": "code",
   "execution_count": null,
   "id": "0df2de1a",
   "metadata": {},
   "outputs": [],
   "source": [
    "#include <iostream>\n",
    "\n",
    "int main() {\n",
    "    const int y = 6;       /* '&y' is a low-level constant ('const int *') */\n",
    "\n",
    "    auto ptr = &y;         /* auto resolved to 'const int *' */\n",
    "    \n",
    "    *ptr = 7;              /* Error: Assignment of read-only location */\n",
    "}      "
   ]
  },
  {
   "cell_type": "markdown",
   "id": "12e77986",
   "metadata": {},
   "source": [
    "*Note:* As an example, `const int` and `int * const` are top-level constants, while `const int *` is a low-level constant."
   ]
  },
  {
   "cell_type": "markdown",
   "id": "33464a36",
   "metadata": {},
   "source": [
    "### The `decltype` operator <a class=\"anchor\" id=\"the-decltype-operator\"></a>"
   ]
  },
  {
   "cell_type": "markdown",
   "id": "69a9c857",
   "metadata": {},
   "source": [
    "C++11 introduces the `decltype` operator, that accepts an expression, and substitutes for its type at compile-time."
   ]
  },
  {
   "cell_type": "code",
   "execution_count": 48,
   "id": "569905e5",
   "metadata": {},
   "outputs": [
    {
     "name": "stdout",
     "output_type": "stream",
     "text": [
      "8.2"
     ]
    }
   ],
   "source": [
    "#include <iostream>\n",
    "\n",
    "int main() {\n",
    "    decltype(5 + 3.2) val = (5 + 3.2);\n",
    "    \n",
    "    std::cout << val;\n",
    "}"
   ]
  },
  {
   "cell_type": "markdown",
   "id": "b5afad84",
   "metadata": {},
   "source": [
    "Unlike the `auto` keyword, the `decltype` operator retains all qualifiers, including references and top-level constants."
   ]
  },
  {
   "cell_type": "code",
   "execution_count": null,
   "id": "b11769cd",
   "metadata": {},
   "outputs": [],
   "source": [
    "int main() {\n",
    "    const int x = 5;          /* 'x' is a top-level const */\n",
    "    \n",
    "    decltype(x) y = 6;        /* Resolves to 'const int' */\n",
    "    \n",
    "    y = 7;                    /* Error: Assignment to read-only variable. */\n",
    "}"
   ]
  },
  {
   "cell_type": "markdown",
   "id": "31d08dbc",
   "metadata": {},
   "source": [
    "### The `constexpr` keyword <a class=\"anchor\" id=\"the-constexpr-keyword\"></a>"
   ]
  },
  {
   "cell_type": "markdown",
   "id": "34754943",
   "metadata": {},
   "source": [
    "C++11 introduces the `constexpr` keyword, placed before a variable declaration gurantees that it is evaluated at compile-time.\n",
    "\n",
    "When placed before a function, it gurantees that calls to this function are evaluated at compile-time."
   ]
  },
  {
   "cell_type": "code",
   "execution_count": 70,
   "id": "b7c65155",
   "metadata": {},
   "outputs": [
    {
     "name": "stdout",
     "output_type": "stream",
     "text": [
      "11"
     ]
    }
   ],
   "source": [
    "#include <iostream>\n",
    "                                      /* Before Compilation */\n",
    "constexpr auto add(int x, int y) {\n",
    "    return x + y;\n",
    "}\n",
    "\n",
    "int main() {\n",
    "    constexpr int res = add(5, 6);\n",
    "    \n",
    "    std::cout << res;\n",
    "}"
   ]
  },
  {
   "cell_type": "code",
   "execution_count": 66,
   "id": "f04eb7e4",
   "metadata": {},
   "outputs": [
    {
     "name": "stdout",
     "output_type": "stream",
     "text": [
      "11"
     ]
    }
   ],
   "source": [
    "#include <iostream>\n",
    "                                      /* After Compilation */\n",
    "int main() {\n",
    "    std::cout << 11;\n",
    "}"
   ]
  },
  {
   "cell_type": "markdown",
   "id": "b30f91f9",
   "metadata": {},
   "source": [
    "A class with a `constexpr` constructor may be used as a literal."
   ]
  },
  {
   "cell_type": "code",
   "execution_count": 64,
   "id": "ce41bfb4",
   "metadata": {},
   "outputs": [
    {
     "name": "stdout",
     "output_type": "stream",
     "text": [
      "(1, 2)"
     ]
    }
   ],
   "source": [
    "#include <iostream>\n",
    "                                      /* Before Compilation */\n",
    "struct Point {\n",
    "    int x, y;\n",
    "    \n",
    "    constexpr Point(int x, int y) : x(x), y(y) {}\n",
    "};\n",
    "\n",
    "int main() {\n",
    "    constexpr Point p(1, 2);\n",
    "    \n",
    "    std::cout << \"(\" << p.x << \", \" << p.y << \")\";\n",
    "}"
   ]
  },
  {
   "cell_type": "code",
   "execution_count": 72,
   "id": "72e39cf0",
   "metadata": {},
   "outputs": [
    {
     "name": "stdout",
     "output_type": "stream",
     "text": [
      "(1, 2)"
     ]
    }
   ],
   "source": [
    "#include <iostream>\n",
    "                                      /* After Compilation */\n",
    "int main() {\n",
    "    std::cout << \"(\" << 1 << \", \" << 2 << \")\";\n",
    "}"
   ]
  },
  {
   "cell_type": "markdown",
   "id": "2fb838e6",
   "metadata": {},
   "source": [
    "### The range-based `for` loop <a class=\"anchor\" id=\"the-range-based-for-loop\"></a>"
   ]
  },
  {
   "cell_type": "markdown",
   "id": "3f4280e8",
   "metadata": {},
   "source": [
    "C++11 introduces a range-based `for` loop, that uses `begin` and `end` members of its post-colon argument."
   ]
  },
  {
   "cell_type": "code",
   "execution_count": 79,
   "id": "35904c8c",
   "metadata": {},
   "outputs": [
    {
     "name": "stdout",
     "output_type": "stream",
     "text": [
      "1 2 3 4 5 "
     ]
    }
   ],
   "source": [
    "#include <iostream>\n",
    "#include <vector>\n",
    "\n",
    "int main() {\n",
    "    std::vector<int> v {1, 2, 3, 4, 5};\n",
    "\n",
    "    for (auto &val : v) {\n",
    "        std::cout << val << ' ';\n",
    "    }\n",
    "}"
   ]
  },
  {
   "cell_type": "markdown",
   "id": "29d75e20",
   "metadata": {},
   "source": [
    "*Note:* It is recommended to refrain from using a range-based `for` loop with a built-in array."
   ]
  },
  {
   "cell_type": "markdown",
   "id": "adde8c59",
   "metadata": {},
   "source": [
    "### The `nullptr` keyword <a class=\"anchor\" id=\"the-nullptr-keyword\"></a>"
   ]
  },
  {
   "cell_type": "markdown",
   "id": "f560eb7c",
   "metadata": {},
   "source": [
    "C++11 defines the `nullptr` ke|yword, to replace the ambigious zero-defined `NULL` macro."
   ]
  },
  {
   "cell_type": "code",
   "execution_count": 98,
   "id": "1e550eb5",
   "metadata": {},
   "outputs": [
    {
     "name": "stdout",
     "output_type": "stream",
     "text": [
      "foo(long int)\n",
      "foo(long int *)\n"
     ]
    }
   ],
   "source": [
    "//%cflags: -w\n",
    "\n",
    "#include <iostream>\n",
    "\n",
    "void foo(long int x) {\n",
    "    std::cout << \"foo(long int)\\n\";\n",
    "}\n",
    "\n",
    "void foo(long int *x) {\n",
    "    std::cout << \"foo(long int *)\\n\";\n",
    "}\n",
    "\n",
    "int main() {\n",
    "    foo(NULL);\n",
    "    foo(nullptr);\n",
    "}"
   ]
  },
  {
   "cell_type": "markdown",
   "id": "0b22c714",
   "metadata": {},
   "source": [
    "*Note:* The statement `delete nullptr;` is harmless."
   ]
  },
  {
   "cell_type": "markdown",
   "id": "3afc182b",
   "metadata": {},
   "source": [
    "### Enumeration Classes <a class=\"anchor\" id=\"enumeration-classes\"></a>"
   ]
  },
  {
   "cell_type": "markdown",
   "id": "4a9648df",
   "metadata": {},
   "source": [
    "C++11 introduces *enumeration classes*, as a scoped alternative to plain enumerations."
   ]
  },
  {
   "cell_type": "code",
   "execution_count": 104,
   "id": "10f71dac",
   "metadata": {},
   "outputs": [
    {
     "name": "stdout",
     "output_type": "stream",
     "text": [
      "He got a really high grade!"
     ]
    }
   ],
   "source": [
    "#include <iostream>\n",
    "\n",
    "enum class Grade {High, Average, Low};\n",
    "\n",
    "void tell_me(Grade grade) {\n",
    "    switch (grade) {\n",
    "        case Grade::High:\n",
    "            std::cout << \"He got a really high grade!\";\n",
    "            break;\n",
    "        case Grade::Average:\n",
    "            std::cout << \"He's kind'a average.\";\n",
    "            break;\n",
    "        case Grade::Low:\n",
    "            std::cout << \"He needs to pass the corrective exam, first!\";\n",
    "            break;\n",
    "    }\n",
    "}\n",
    "\n",
    "int main() {\n",
    "    tell_me(Grade::High);\n",
    "}"
   ]
  },
  {
   "cell_type": "markdown",
   "id": "e21a1aa7",
   "metadata": {},
   "source": [
    "You may specify a specific integral type to contain values from the `enum class` type, which is `int` by default."
   ]
  },
  {
   "cell_type": "code",
   "execution_count": null,
   "id": "d4bb3c17",
   "metadata": {
    "scrolled": true
   },
   "outputs": [],
   "source": [
    "enum class Grade : char {High, Average, Low};"
   ]
  },
  {
   "cell_type": "markdown",
   "id": "45bf2adb",
   "metadata": {},
   "source": [
    "*Note:* Implicit conversion from `int` to an `enum class` type, and vice versa, is prohibited."
   ]
  },
  {
   "cell_type": "markdown",
   "id": "ae977d6b",
   "metadata": {},
   "source": [
    "### R-value References <a class=\"anchor\" id=\"r-value-references\"></a>"
   ]
  },
  {
   "cell_type": "markdown",
   "id": "02350c8a",
   "metadata": {},
   "source": [
    "C++11 introduces another type of reference, an *rvalue reference*, as opposed to an *lvalue reference*."
   ]
  },
  {
   "cell_type": "code",
   "execution_count": null,
   "id": "80ba1024",
   "metadata": {},
   "outputs": [],
   "source": [
    "int x = 5;\n",
    "\n",
    "int &l_ref = x;        /* Reference to an l-value */\n",
    "\n",
    "int &&r_ref = 6;       /* Reference to an r-value */"
   ]
  },
  {
   "cell_type": "code",
   "execution_count": 150,
   "id": "55ce4151",
   "metadata": {},
   "outputs": [
    {
     "name": "stdout",
     "output_type": "stream",
     "text": [
      "Constructor()\n",
      "Constructor(const Foo&)\n",
      "Destructor()\n",
      "Destructor()\n"
     ]
    }
   ],
   "source": [
    "#include <iostream>\n",
    "\n",
    "struct Foo {\n",
    "    Foo() { \n",
    "        std::cout << \"Constructor()\\n\";\n",
    "    }\n",
    "    \n",
    "    Foo(const Foo &foo) {\n",
    "        std::cout << \"Constructor(const Foo&)\\n\";\n",
    "    }\n",
    "    \n",
    "    ~Foo() { \n",
    "        std::cout << \"Destructor()\\n\"; \n",
    "    }\n",
    "    \n",
    "    Foo & boo() {\n",
    "        return *this;\n",
    "    }\n",
    "};\n",
    "\n",
    "int main() {\n",
    "    Foo foo1 = Foo().boo();\n",
    "}"
   ]
  },
  {
   "cell_type": "code",
   "execution_count": 150,
   "id": "dbb82700",
   "metadata": {},
   "outputs": [
    {
     "name": "stdout",
     "output_type": "stream",
     "text": [
      "Constructor()\n",
      "Constructor(const Foo&)\n",
      "Destructor()\n",
      "Destructor()\n"
     ]
    }
   ],
   "source": [
    "#include <iostream>\n",
    "\n",
    "struct Foo {\n",
    "    Foo() { \n",
    "        std::cout << \"Constructor()\\n\";\n",
    "    }\n",
    "    \n",
    "    Foo(const Foo &foo) {\n",
    "        std::cout << \"Constructor(const Foo&)\\n\";\n",
    "    }\n",
    "    \n",
    "    ~Foo() { \n",
    "        std::cout << \"Destructor()\\n\"; \n",
    "    }\n",
    "    \n",
    "    Foo & boo() {\n",
    "        return *this;\n",
    "    }\n",
    "};\n",
    "\n",
    "int main() {\n",
    "    Foo foo1 = Foo().boo();\n",
    "}"
   ]
  },
  {
   "cell_type": "markdown",
   "id": "8c6dd00a",
   "metadata": {},
   "source": []
  },
  {
   "cell_type": "code",
   "execution_count": 134,
   "id": "40537366",
   "metadata": {},
   "outputs": [
    {
     "name": "stdout",
     "output_type": "stream",
     "text": [
      "(1): Constructor (Normal)\n",
      "(2): Constructor (Move)\n",
      "(2): Destructor (non-null)\n",
      "(1): Destructor (nullptr)\n"
     ]
    }
   ],
   "source": [
    "#include <iostream>\n",
    "#include <string>\n",
    "#include <utility>\n",
    "\n",
    "template <class T>\n",
    "class Pointer {\n",
    "    static int id;\n",
    "    int pid;\n",
    "    \n",
    "    T *ptr;\n",
    "\n",
    "public:\n",
    "    Pointer (T *c_ptr) : ptr(c_ptr), pid(++id) {\n",
    "        msg(\"Constructor (Normal)\");\n",
    "    }\n",
    "    \n",
    "    Pointer (Pointer &&ptr_obj) : ptr(ptr_obj.ptr), pid(++id) {\n",
    "        ptr_obj.ptr = nullptr;\n",
    "        msg(\"Constructor (Move)\");\n",
    "    }\n",
    "    \n",
    "    ~Pointer () {\n",
    "        if (ptr != nullptr) {\n",
    "            delete ptr;\n",
    "            msg(\"Destructor (non-null)\");\n",
    "        } else {\n",
    "            msg(\"Destructor (nullptr)\");\n",
    "        }\n",
    "    }\n",
    "    \n",
    "    T & operator*() {\n",
    "        return *ptr;\n",
    "    }\n",
    "    \n",
    "    void msg(const std::string &m) {\n",
    "        std::cout << '(' << pid << \"): \" << m << '\\n';\n",
    "    }\n",
    "};\n",
    "\n",
    "template <class T>\n",
    "int Pointer<T>::id = 0;\n",
    "\n",
    "int main() {\n",
    "    Pointer<int> ptr_obj1{new int(5)};\n",
    "    \n",
    "    auto ptr_obj2{std::move(ptr_obj1)};\n",
    "}"
   ]
  },
  {
   "cell_type": "code",
   "execution_count": null,
   "id": "62ad53d9",
   "metadata": {},
   "outputs": [],
   "source": []
  }
 ],
 "metadata": {
  "kernelspec": {
   "display_name": "C",
   "language": "c",
   "name": "c"
  },
  "language_info": {
   "file_extension": ".cpp",
   "mimetype": "text/plain",
   "name": "c++"
  }
 },
 "nbformat": 4,
 "nbformat_minor": 5
}
