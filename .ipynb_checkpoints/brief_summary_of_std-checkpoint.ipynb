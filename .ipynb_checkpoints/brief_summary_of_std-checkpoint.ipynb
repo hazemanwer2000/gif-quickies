{
 "cells": [
  {
   "cell_type": "code",
   "execution_count": 1,
   "id": "32ea6403",
   "metadata": {},
   "outputs": [],
   "source": [
    "#include <iostream>\n",
    "\n",
    "template<class T>\n",
    "class A {\n",
    "public:\n",
    "    T bitch;\n",
    "};\n",
    "\n",
    "template<>\n",
    "class A<void *> {\n",
    "public:\n",
    "    void *ptr;\n",
    "};\n",
    "\n",
    "int main() {\n",
    "    A<int *> a;\n",
    "    a.bitch;\n",
    "}"
   ]
  },
  {
   "cell_type": "code",
   "execution_count": 4,
   "id": "5fe91525",
   "metadata": {},
   "outputs": [
    {
     "name": "stdout",
     "output_type": "stream",
     "text": [
      "Hello."
     ]
    }
   ],
   "source": [
    "#include <iostream>\n",
    "\n",
    "int main() {\n",
    "    std::cout << \"Hello.\";\n",
    "}"
   ]
  },
  {
   "cell_type": "code",
   "execution_count": null,
   "id": "8b0d222a",
   "metadata": {},
   "outputs": [],
   "source": []
  }
 ],
 "metadata": {
  "kernelspec": {
   "display_name": "C",
   "language": "c",
   "name": "c"
  },
  "language_info": {
   "file_extension": ".cpp",
   "mimetype": "text/plain",
   "name": "c++"
  }
 },
 "nbformat": 4,
 "nbformat_minor": 5
}
