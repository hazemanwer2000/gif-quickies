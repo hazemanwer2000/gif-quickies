{
 "cells": [
  {
   "cell_type": "code",
   "execution_count": 10,
   "id": "32ea6403",
   "metadata": {},
   "outputs": [],
   "source": [
    "#include <iostream>\n",
    "\n",
    "template<class T>\n",
    "class A {\n",
    "public:\n",
    "    T bitch;\n",
    "};\n",
    "\n",
    "template<>\n",
    "class A<void *> {\n",
    "public:\n",
    "    void *ptr;\n",
    "};\n",
    "\n",
    "int main() {\n",
    "    A<int *> a;\n",
    "    a.bitch;\n",
    "}"
   ]
  },
  {
   "cell_type": "code",
   "execution_count": null,
   "id": "5fe91525",
   "metadata": {},
   "outputs": [],
   "source": []
  }
 ],
 "metadata": {
  "kernelspec": {
   "display_name": "C",
   "language": "c",
   "name": "c"
  },
  "language_info": {
   "file_extension": ".cpp",
   "mimetype": "text/plain",
   "name": "c++"
  }
 },
 "nbformat": 4,
 "nbformat_minor": 5
}
