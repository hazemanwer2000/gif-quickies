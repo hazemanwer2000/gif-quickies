{
 "cells": [
  {
   "cell_type": "markdown",
   "id": "57a5dd54",
   "metadata": {},
   "source": [
    "# A brief summary of the Standard Library in C++ (98)\n",
    "<br>\n",
    "<div style=\"opacity: 0.8; font-family: Consolas, Monaco, Lucida Console, Liberation Mono, DejaVu Sans Mono, Bitstream Vera Sans Mono, Courier New; font-size: 12px; font-style: italic;\">\n",
    "    ────────\n",
    "    for more from the author, visit\n",
    "    <a href=\"https://github.com/hazemanwer2000\">github.com/hazemanwer2000</a>.\n",
    "    ────────\n",
    "</div>"
   ]
  },
  {
   "cell_type": "markdown",
   "id": "d5d19f27",
   "metadata": {},
   "source": [
    "## Table of Contents\n",
    "* [Containers](#containers)\n",
    "    * [`vector`](#vector)\n",
    "<hr>"
   ]
  },
  {
   "cell_type": "markdown",
   "id": "549a905a",
   "metadata": {},
   "source": [
    "The C++ standard library resides in the namespace `std`.\n",
    "\n",
    "* Header files are included as `<header-name>`, omitting the `.h` extension. For example, `<vector>`.\n",
    "\n",
    "* Header files from the C standard library may be included as `<c-header-name>`. For example, `<cstdio>`.\n",
    "\n",
    "* Header files from the C standard library may be included directly into the global namespace as `<header-name.h>`. For example, `<stdio.h>`.\n",
    "\n",
    "* User-defined header files may be included as `\"header-name.h\"`. For example, `\"myvector.h\"`."
   ]
  },
  {
   "cell_type": "markdown",
   "id": "198c2867",
   "metadata": {},
   "source": [
    "## Containers <a class=\"anchor\" id=\"containers\"></a>"
   ]
  },
  {
   "cell_type": "markdown",
   "id": "549e484e",
   "metadata": {},
   "source": [
    "A *container* is an object that stores a collection of other objects. They are implemented as class templates.\n",
    "\n",
    "Containers share some standard methods, though with no derivation from a common base. This is to enable inlining of most method calls, while still allowing for the implementation of pieces of code that deal with containers generically, and not a particular type of container, through the use of templates. This comes, ofcourse, at the expense of inflated code size."
   ]
  },
  {
   "cell_type": "markdown",
   "id": "3699ba01",
   "metadata": {},
   "source": [
    "### `vector` <a class=\"anchor\" id=\"vector\"></a>"
   ]
  },
  {
   "cell_type": "markdown",
   "id": "46dbf0db",
   "metadata": {},
   "source": [
    "A `vector` is an array, that is able to grow dynamically and implicitly."
   ]
  },
  {
   "cell_type": "code",
   "execution_count": null,
   "id": "a6771d45",
   "metadata": {},
   "outputs": [],
   "source": [
    "std::vector<int> vec1;          /* 0 elements */"
   ]
  },
  {
   "cell_type": "code",
   "execution_count": null,
   "id": "41a9f9bd",
   "metadata": {},
   "outputs": [],
   "source": [
    "std::vector<int> vec2(5);       /* 5 elements, copy-initialized with a default-initialized object */"
   ]
  },
  {
   "cell_type": "code",
   "execution_count": null,
   "id": "7c78ac9f",
   "metadata": {},
   "outputs": [],
   "source": [
    "std::vector<int> vec3(5, 3);    /* 5 elements, copy-initialized with a passed object */"
   ]
  },
  {
   "cell_type": "markdown",
   "id": "3d0f1e72",
   "metadata": {},
   "source": [
    "Growth involves possible re-allocation of elements, similar to how a function like `realloc` operates. Hence, growth should not occur with every append to its content. Therefore, `vector` defines both methods `size`, that returns the number of elements in the `vector`, and `capacity`, that returns the maximum number of elements that a `vector` can currently withstand without incurring a growth overhead."
   ]
  },
  {
   "cell_type": "markdown",
   "id": "c02af3c5",
   "metadata": {},
   "source": [
    "*Note:* A `vector` never shrinks in capacity."
   ]
  },
  {
   "cell_type": "code",
   "execution_count": 42,
   "id": "1f2947cc",
   "metadata": {},
   "outputs": [
    {
     "name": "stdout",
     "output_type": "stream",
     "text": [
      "Size: 0, Capacity: 0\n",
      "Size: 5, Capacity: 5\n"
     ]
    }
   ],
   "source": [
    "#include <vector>\n",
    "#include <iostream>\n",
    "\n",
    "template<class T>\n",
    "void summary(std::vector<T> &vec) {\n",
    "    std::cout << \"Size: \" << vec.size() << \", Capacity: \" << vec.capacity() << '\\n';\n",
    "}\n",
    "\n",
    "int main() {\n",
    "    std::vector<int> vec1;\n",
    "    summary(vec1);\n",
    "    \n",
    "    std::vector<int> vec2(5);\n",
    "    summary(vec2);\n",
    "}"
   ]
  },
  {
   "cell_type": "markdown",
   "id": "c0cd19fc",
   "metadata": {},
   "source": [
    "`vector` defines the method `reserve`, that accepts the number of elements to set the capacity of the `vector` to. If the argument is less than the current capacity of the `vector`, nothing happens."
   ]
  },
  {
   "cell_type": "markdown",
   "id": "4fba8da5",
   "metadata": {},
   "source": [
    "*Note:* `reserve` merely allocates memory to avoid a growth overhead later on. It does not construct any objects."
   ]
  },
  {
   "cell_type": "markdown",
   "id": "28c3c240",
   "metadata": {},
   "source": [
    "`vector` also defines the method `resize`, that accepts the number of elements to set the size of the `vector` to. The argument may be less than the current size of the `vector`."
   ]
  },
  {
   "cell_type": "markdown",
   "id": "c66b94d4",
   "metadata": {},
   "source": [
    "*Note:* Unlike `reserve`, `resize` initializes memory with copy-initialized objects, copied from a default-initialized object, or an optionally passed object."
   ]
  },
  {
   "cell_type": "code",
   "execution_count": 48,
   "id": "4d5698d0",
   "metadata": {
    "scrolled": true
   },
   "outputs": [
    {
     "name": "stdout",
     "output_type": "stream",
     "text": [
      "Size: 5, Capacity: 5, [1, 1, 1, 1, 1, \b\b]\n",
      "Size: 5, Capacity: 10, [1, 1, 1, 1, 1, \b\b]\n",
      "Size: 5, Capacity: 10, [1, 1, 1, 1, 1, \b\b]\n",
      "Size: 8, Capacity: 10, [1, 1, 1, 1, 1, 2, 2, 2, \b\b]\n",
      "Size: 7, Capacity: 10, [1, 1, 1, 1, 1, 2, 2, \b\b]\n"
     ]
    }
   ],
   "source": [
    "#include <vector>\n",
    "#include <iostream>\n",
    "\n",
    "template<class T>\n",
    "void summary(std::vector<T> &vec) {\n",
    "    std::cout << \"Size: \" << vec.size();\n",
    "    std::cout << \", Capacity: \" << vec.capacity();\n",
    "    std::cout << \", [\";\n",
    "    for (int i = 0; i < vec.size(); i++) {\n",
    "        std::cout << vec[i] << \", \";\n",
    "    }\n",
    "    std::cout << \"\\b\\b]\\n\";\n",
    "}\n",
    "\n",
    "template<class T>\n",
    "void print_vec(std::vector<T> &vec) {\n",
    "    for (int i = 0; i < vec.size(); i++) {\n",
    "        std::cout << vec[i] << \", \";\n",
    "    }\n",
    "    std::cout << \"\\b\\b \\n\";\n",
    "}\n",
    "\n",
    "int main() {\n",
    "    std::vector<int> vec(5, 1);        /* 5 elements, copy-initialized with '1' */\n",
    "    summary(vec);\n",
    "    \n",
    "    vec.reserve(10);                   /* capacity guranteed to be at least '10' */\n",
    "    summary(vec);\n",
    "    \n",
    "    vec.reserve(8);                    /* capacity guranteed to be at least '8' (already '10') */\n",
    "    summary(vec);\n",
    "    \n",
    "    vec.resize(8, 2);                  /* enlarged to 8 elements, last three initialized with '2' */\n",
    "    summary(vec);\n",
    "    \n",
    "    vec.resize(7);                     /* shrinked to 7 elements */\n",
    "    summary(vec);\n",
    "}"
   ]
  },
  {
   "cell_type": "markdown",
   "id": "bfbea234",
   "metadata": {},
   "source": [
    "`vector` defines the method `max_size`, that returns the maximum number of elements that `vector` can withstand."
   ]
  },
  {
   "cell_type": "code",
   "execution_count": 52,
   "id": "3837fd66",
   "metadata": {},
   "outputs": [
    {
     "name": "stdout",
     "output_type": "stream",
     "text": [
      "2305843009213693951\n",
      "1152921504606846975\n"
     ]
    }
   ],
   "source": [
    "#include <iostream>\n",
    "#include <vector>\n",
    "\n",
    "int main() {\n",
    "    std::vector<float> vfloat;\n",
    "    std::cout << vfloat.max_size() << '\\n';\n",
    "    \n",
    "    std::vector<double> vdouble;\n",
    "    std::cout << vdouble.max_size() << '\\n';\n",
    "}"
   ]
  },
  {
   "cell_type": "markdown",
   "id": "345338c8",
   "metadata": {},
   "source": [
    "*Note:* Since, usually, `double` occupies double the number of bytes of `float`, the maximum size of `vector<double>` is half the maximum size of `vector<float>`."
   ]
  },
  {
   "cell_type": "markdown",
   "id": "619a80df",
   "metadata": {},
   "source": [
    "`vector` defines the method `empty`, that evaluates and returns `size() == 0`, as a `bool`."
   ]
  },
  {
   "cell_type": "code",
   "execution_count": 62,
   "id": "08569e11",
   "metadata": {},
   "outputs": [
    {
     "name": "stdout",
     "output_type": "stream",
     "text": [
      "0\n",
      "1\n"
     ]
    }
   ],
   "source": [
    "#include <iostream>\n",
    "#include <vector>\n",
    "\n",
    "int main() {\n",
    "    std::vector<int> vec(5);\n",
    "    std::cout << vec.empty() << '\\n';\n",
    "    \n",
    "    vec.resize(0);\n",
    "    std::cout << vec.empty() << '\\n';\n",
    "}"
   ]
  },
  {
   "cell_type": "markdown",
   "id": "8f048f18",
   "metadata": {},
   "source": [
    "`vector` defines the operator `[]` for unchecked access to elements. It also defines the method `at` for checked access."
   ]
  },
  {
   "cell_type": "code",
   "execution_count": 73,
   "id": "66b818f4",
   "metadata": {},
   "outputs": [
    {
     "name": "stdout",
     "output_type": "stream",
     "text": [
      "Size: 3, Capacity: 3, [1, 2, 3, \b\b]\n"
     ]
    }
   ],
   "source": [
    "#include <iostream>\n",
    "#include <vector>\n",
    "\n",
    "template<class T>\n",
    "void summary(std::vector<T> &vec) {\n",
    "    std::cout << \"Size: \" << vec.size();\n",
    "    std::cout << \", Capacity: \" << vec.capacity();\n",
    "    std::cout << \", [\";\n",
    "    for (int i = 0; i < vec.size(); i++) {\n",
    "        std::cout << vec[i] << \", \";\n",
    "    }\n",
    "    std::cout << \"\\b\\b]\\n\";\n",
    "}\n",
    "\n",
    "int main() {\n",
    "    std::vector<int> vec(3);\n",
    "    \n",
    "    vec[0] = 1;\n",
    "    vec[1] = 2;\n",
    "    vec[2] = 3;\n",
    "    vec[3] = 4;           /* Unchecked out-of-range access */\n",
    "                          /*   Possible memory corruption, or segmentation-fault error */\n",
    "    \n",
    "    summary(vec);\n",
    "}"
   ]
  },
  {
   "cell_type": "code",
   "execution_count": 79,
   "id": "8864315d",
   "metadata": {},
   "outputs": [
    {
     "name": "stdout",
     "output_type": "stream",
     "text": [
      "[Error] Out-of-range access.\n",
      "Size: 3, Capacity: 3, [1, 2, 3, \b\b]\n"
     ]
    }
   ],
   "source": [
    "#include <iostream>\n",
    "#include <vector>\n",
    "\n",
    "template<class T>\n",
    "void summary(std::vector<T> &vec) {\n",
    "    std::cout << \"Size: \" << vec.size();\n",
    "    std::cout << \", Capacity: \" << vec.capacity();\n",
    "    std::cout << \", [\";\n",
    "    for (int i = 0; i < vec.size(); i++) {\n",
    "        std::cout << vec[i] << \", \";\n",
    "    }\n",
    "    std::cout << \"\\b\\b]\\n\";\n",
    "}\n",
    "\n",
    "int main() {\n",
    "    std::vector<int> vec(3);\n",
    "    \n",
    "    try {\n",
    "        vec.at(0) = 1;\n",
    "        vec.at(1) = 2;\n",
    "        vec.at(2) = 3;\n",
    "        vec.at(3) = 4;           /* Checked out-of-range access */\n",
    "                                 /*   'std::out_of_range' exception thrown */\n",
    "    } catch (std::out_of_range &e) {\n",
    "        std::cout << \"[Error] Out-of-range access.\\n\";\n",
    "    }\n",
    "    \n",
    "    summary(vec);\n",
    "}"
   ]
  },
  {
   "cell_type": "markdown",
   "id": "bded447a",
   "metadata": {},
   "source": [
    "*Note:* Since `vector` is basically an array, element access has $O(1)$ worst-case complexity."
   ]
  },
  {
   "cell_type": "markdown",
   "id": "2f8836de",
   "metadata": {},
   "source": [
    "*Note:* Naturally, the `at` method incurs a constant overhead, compared to `[]`."
   ]
  },
  {
   "cell_type": "markdown",
   "id": "b108d320",
   "metadata": {},
   "source": [
    "`vector` defines the `front` and `back` methods, that return the first and last elements, respectively."
   ]
  },
  {
   "cell_type": "code",
   "execution_count": 85,
   "id": "902d3721",
   "metadata": {},
   "outputs": [
    {
     "name": "stdout",
     "output_type": "stream",
     "text": [
      "Front: 1\n",
      "Back: 5\n"
     ]
    }
   ],
   "source": [
    "#include <iostream>\n",
    "#include <vector>\n",
    "\n",
    "int main() {\n",
    "    std::vector<int> vec(5);\n",
    "    \n",
    "    for (int i = 0; i < vec.size(); i++) {\n",
    "        vec[i] = i + 1;                      /* 1, 2, 3, ... */\n",
    "    }\n",
    "\n",
    "    std::cout << \"Front: \" << vec.front() << '\\n';\n",
    "    std::cout << \"Back: \" << vec.back() << '\\n';\n",
    "}"
   ]
  },
  {
   "cell_type": "markdown",
   "id": "d5382a1b",
   "metadata": {},
   "source": [
    "`vector` defines the `push_back`, `back` and `pop_back` methods.\n",
    "\n",
    "* `push_back` accepts a passed object to add to the end of a `vector`, incrementing its size.\n",
    "* `back` returns the last element of a `vector`, without removing it.\n",
    "* `pop_back` removes the last element of a `vector`, decrementing its size, and returns `void`.\n",
    "\n",
    "In this way, `vector` may be used as a stack, with $O(1)$ worst-case complexity of stack operations, ignoring the possible growth overhead."
   ]
  },
  {
   "cell_type": "code",
   "execution_count": 91,
   "id": "2bae4669",
   "metadata": {
    "scrolled": true
   },
   "outputs": [
    {
     "name": "stdout",
     "output_type": "stream",
     "text": [
      "Size: 5, Capacity: 5, [1, 2, 3, 4, 5, \b\b]\n",
      "Top of stack: 5\n",
      "Size: 4, Capacity: 5, [1, 2, 3, 4, \b\b]\n"
     ]
    }
   ],
   "source": [
    "#include <iostream>\n",
    "#include <vector>\n",
    "\n",
    "template<class T>\n",
    "void summary(std::vector<T> &vec) {\n",
    "    std::cout << \"Size: \" << vec.size();\n",
    "    std::cout << \", Capacity: \" << vec.capacity();\n",
    "    std::cout << \", [\";\n",
    "    for (int i = 0; i < vec.size(); i++) {\n",
    "        std::cout << vec[i] << \", \";\n",
    "    }\n",
    "    std::cout << \"\\b\\b]\\n\";\n",
    "}\n",
    "\n",
    "int main() {\n",
    "    std::vector<int> vec;\n",
    "    \n",
    "    vec.reserve(5);\n",
    "\n",
    "    for (int i = 0; i < vec.capacity(); i++) {\n",
    "        vec.push_back(i+1);                               /* Pushing onto stack */\n",
    "    }\n",
    "    \n",
    "    summary(vec);\n",
    "    \n",
    "    std::cout << \"Top of stack: \" << vec.back() << '\\n';    /* Peaking top-of-stack */\n",
    "    \n",
    "    vec.pop_back();                                       /* Popping off stack */\n",
    "    \n",
    "    summary(vec);\n",
    "}"
   ]
  },
  {
   "cell_type": "markdown",
   "id": "343c90f7",
   "metadata": {},
   "source": [
    "`vector` defines `begin` and `end` methods, that return iterators to the first and one after the last elements, respectively.\n",
    "\n",
    "An *iterator* is a pointer-like object to an element. Iterators can be used to navigate containers, without knowledge of the actual type used to identify elements.\n",
    "\n",
    "`vector` also defines the type `iterator`, that is the type of iterator it deals with."
   ]
  },
  {
   "cell_type": "code",
   "execution_count": 107,
   "id": "dd7fdfc3",
   "metadata": {},
   "outputs": [
    {
     "name": "stdout",
     "output_type": "stream",
     "text": [
      "3\n",
      "5\n"
     ]
    }
   ],
   "source": [
    "#include <iostream>\n",
    "#include <vector>\n",
    "\n",
    "int main() {\n",
    "    std::vector<int> vec(5);\n",
    "    \n",
    "    for (int i = 0; i < vec.capacity(); i++) {\n",
    "        vec[i] = i + 1;\n",
    "    }\n",
    "    \n",
    "    std::cout << *(vec.begin() + 2) << '\\n';         /* equivalent to vec[2]      */\n",
    "    std::cout << *(vec.end() - 1) << '\\n';           /* equivalent to vec.front() */ \n",
    "}"
   ]
  },
  {
   "cell_type": "code",
   "execution_count": 117,
   "id": "9ba86463",
   "metadata": {},
   "outputs": [
    {
     "name": "stdout",
     "output_type": "stream",
     "text": [
      "1, 2, 3, 4, 5, \b\b \n"
     ]
    }
   ],
   "source": [
    "#include <iostream>\n",
    "#include <vector>\n",
    "\n",
    "template<class T>\n",
    "void forwardly(std::vector<T> &vec) {\n",
    "    typename std::vector<T>::iterator iter = vec.begin();\n",
    "    while (iter != vec.end()) {\n",
    "        std::cout << *iter++ << \", \";\n",
    "    }\n",
    "    std::cout << \"\\b\\b \\n\";\n",
    "}\n",
    "\n",
    "int main() {\n",
    "    std::vector<int> vec(5);\n",
    "    \n",
    "    for (int i = 0; i < vec.capacity(); i++) {\n",
    "        vec[i] = i + 1;\n",
    "    }\n",
    "    \n",
    "    forwardly(vec);\n",
    "}"
   ]
  },
  {
   "cell_type": "markdown",
   "id": "807abc57",
   "metadata": {},
   "source": [
    "`vector` defines `rbegin` and `rend` methods, that return reverse iterators to the last and one before the first elements, respectively.\n",
    "\n",
    "`vector` also defines the type `reverse_iterator`, that is the type of reverse iterator it deals with.\n",
    "\n",
    "The `base` method of a reverse iterator, returns an iterator to the next element."
   ]
  },
  {
   "cell_type": "code",
   "execution_count": 115,
   "id": "cbdd4875",
   "metadata": {},
   "outputs": [
    {
     "name": "stdout",
     "output_type": "stream",
     "text": [
      "5\n",
      "3\n",
      "1\n"
     ]
    }
   ],
   "source": [
    "#include <iostream>\n",
    "#include <vector>\n",
    "\n",
    "int main() {\n",
    "    std::vector<int> vec(5);\n",
    "    \n",
    "    for (int i = 0; i < vec.capacity(); i++) {\n",
    "        vec[i] = i + 1;\n",
    "    }\n",
    "    \n",
    "    std::cout << *(vec.rbegin()) << '\\n';             /* equivalent to vec.back() */\n",
    "    std::cout << *(vec.rbegin() + 2) << '\\n';         /* equivalent to vec[vec.size() - 1 - 2] */\n",
    "    std::cout << *(vec.rend().base()) << '\\n';        /* equivalent to vec.front() or *(vec.rbegin()) */\n",
    "}"
   ]
  },
  {
   "cell_type": "code",
   "execution_count": 116,
   "id": "241f7054",
   "metadata": {},
   "outputs": [
    {
     "name": "stdout",
     "output_type": "stream",
     "text": [
      "5, 4, 3, 2, 1 \n"
     ]
    }
   ],
   "source": [
    "#include <iostream>\n",
    "#include <vector>\n",
    "\n",
    "template<class T>\n",
    "void backwardly(std::vector<T> &vec) {\n",
    "    typename std::vector<T>::reverse_iterator iter = vec.rbegin();\n",
    "    while (iter != vec.rend()) {\n",
    "        std::cout << *iter++ << \", \";\n",
    "    }\n",
    "    std::cout << \"\\b\\b \\n\";\n",
    "}\n",
    "\n",
    "int main() {\n",
    "    std::vector<int> vec(5);\n",
    "    \n",
    "    for (int i = 0; i < vec.capacity(); i++) {\n",
    "        vec[i] = i + 1;\n",
    "    }\n",
    "    \n",
    "    backwardly(vec);\n",
    "}"
   ]
  },
  {
   "cell_type": "markdown",
   "id": "2d2acca4",
   "metadata": {},
   "source": [
    "*Note:* Iterators in `vector` are random-access. That is, `ITERATOR + CONSTANT` is always of $O(1)$ worst-case complexity."
   ]
  },
  {
   "cell_type": "markdown",
   "id": "a3de8988",
   "metadata": {},
   "source": [
    "*Note:* Beware, with changes to a `vector`, previously defined iterators may become undefined."
   ]
  },
  {
   "cell_type": "markdown",
   "id": "0058f346",
   "metadata": {},
   "source": [
    "*Note:* `vector` also defines types `const_iterator` and `const_reverse_iterator` for read-access only."
   ]
  },
  {
   "cell_type": "markdown",
   "id": "431f664d",
   "metadata": {},
   "source": [
    "`vector` defines a copy constructor, that accepts a reference to the same type of `vector`."
   ]
  },
  {
   "cell_type": "code",
   "execution_count": 124,
   "id": "7f039e93",
   "metadata": {},
   "outputs": [
    {
     "name": "stdout",
     "output_type": "stream",
     "text": [
      "1, 1, 1, 1, 1, \b\b \n",
      "3, 1, 1, 1, 1, \b\b \n"
     ]
    }
   ],
   "source": [
    "#include <iostream>\n",
    "#include <vector>\n",
    "\n",
    "template<class T>\n",
    "void forwardly(std::vector<T> &vec) {\n",
    "    typename std::vector<T>::iterator iter = vec.begin();\n",
    "    while (iter != vec.end()) {\n",
    "        std::cout << *iter++ << \", \";\n",
    "    }\n",
    "    std::cout << \"\\b\\b \\n\";\n",
    "}\n",
    "\n",
    "int main() {\n",
    "    std::vector v1(5, 1);\n",
    "    std::vector v2(v1);\n",
    "    \n",
    "    v2[0] = 3;\n",
    "    \n",
    "    forwardly(v1);\n",
    "    forwardly(v2);\n",
    "}"
   ]
  },
  {
   "cell_type": "markdown",
   "id": "985285ca",
   "metadata": {},
   "source": [
    "`vector` defines a templated constructor, that accepts two objects, defining the beginning and end (exclusive) from which to copy. These objects must match in type, and must allow for dereferencing and incremening operations."
   ]
  },
  {
   "cell_type": "code",
   "execution_count": 134,
   "id": "d6379d29",
   "metadata": {},
   "outputs": [
    {
     "name": "stdout",
     "output_type": "stream",
     "text": [
      "1, 2, 3, 4, 5, \b\b \n",
      "2, 3, 4, \b\b \n",
      "H, E, L, L, O, \b\b \n"
     ]
    }
   ],
   "source": [
    "#include <iostream>\n",
    "#include <vector>\n",
    "\n",
    "template<class T>\n",
    "void forwardly(std::vector<T> &vec) {\n",
    "    typename std::vector<T>::iterator iter = vec.begin();\n",
    "    while (iter != vec.end()) {\n",
    "        std::cout << *iter++ << \", \";\n",
    "    }\n",
    "    std::cout << \"\\b\\b \\n\";\n",
    "}\n",
    "\n",
    "int main() {\n",
    "    std::vector<int> v1(5);\n",
    "    \n",
    "    for (int i = 0; i < v1.size(); i++) {\n",
    "        v1[i] = i + 1;\n",
    "    }\n",
    "    \n",
    "    std::vector<int> v2(v1.begin() + 1, v1.end() - 1);\n",
    "    \n",
    "    char s[] = \"HELLO\";\n",
    "    \n",
    "    std::vector<char> v3(s, s + 5);\n",
    "    \n",
    "    forwardly(v1);\n",
    "    forwardly(v2);\n",
    "    forwardly(v3);\n",
    "}"
   ]
  },
  {
   "cell_type": "markdown",
   "id": "67dde211",
   "metadata": {},
   "source": [
    "In addition, `vector` overloads the assignment operator, and provides two additional `assign` methods."
   ]
  },
  {
   "cell_type": "code",
   "execution_count": 137,
   "id": "d081010c",
   "metadata": {},
   "outputs": [
    {
     "name": "stdout",
     "output_type": "stream",
     "text": [
      "1, 2, 3, 4, 5, \b\b \n",
      "1, 2, 3, 4, 5, \b\b \n",
      "3, 4, 5, \b\b \n",
      "0, 0, 0, 0, 0, \b\b \n"
     ]
    }
   ],
   "source": [
    "#include <iostream>\n",
    "#include <vector>\n",
    "\n",
    "template<class T>\n",
    "void forwardly(std::vector<T> &vec) {\n",
    "    typename std::vector<T>::iterator iter = vec.begin();\n",
    "    while (iter != vec.end()) {\n",
    "        std::cout << *iter++ << \", \";\n",
    "    }\n",
    "    std::cout << \"\\b\\b \\n\";\n",
    "}\n",
    "\n",
    "int main() {\n",
    "    std::vector<int> v1(5);\n",
    "    \n",
    "    for (int i = 0; i < v1.size(); i++) {\n",
    "        v1[i] = i + 1;\n",
    "    }\n",
    "    \n",
    "    std::vector<int> v2;\n",
    "    v2 = v1;                                  /* Copies 'v1' into 'v2' (grows implicitly) */\n",
    "    \n",
    "    std::vector<int> v3;\n",
    "    v3.assign(v1.begin() + 2, v1.end());      /* Copies from 'A' to 'B - 1' */\n",
    "    \n",
    "    std::vector<int> v4;\n",
    "    v4.assign(5, 0);                          /* Copies '0' five times (Second parameter is non-optional) */\n",
    "    \n",
    "    forwardly(v1);\n",
    "    forwardly(v2);\n",
    "    forwardly(v3);\n",
    "    forwardly(v4);\n",
    "}"
   ]
  },
  {
   "cell_type": "markdown",
   "id": "f8d72e07",
   "metadata": {},
   "source": [
    "`vector` defines the method `insert`, to insert elements into a vector, in $O(n)$ worst-case complexity."
   ]
  },
  {
   "cell_type": "code",
   "execution_count": 142,
   "id": "240b7d21",
   "metadata": {},
   "outputs": [
    {
     "name": "stdout",
     "output_type": "stream",
     "text": [
      "0, 1, 2, 3, 4, 5, \b\b \n",
      "1, 2, 3, 4, 5, 0, 0, 0, \b\b \n",
      "0, 0, 1, 2, 3, 4, 5, 0, 0, \b\b \n"
     ]
    }
   ],
   "source": [
    "#include <iostream>\n",
    "#include <vector>\n",
    "\n",
    "template<class T>\n",
    "void forwardly(std::vector<T> &vec) {\n",
    "    typename std::vector<T>::iterator iter = vec.begin();\n",
    "    while (iter != vec.end()) {\n",
    "        std::cout << *iter++ << \", \";\n",
    "    }\n",
    "    std::cout << \"\\b\\b \\n\";\n",
    "}\n",
    "\n",
    "int main() {\n",
    "    std::vector<int> v1(5);\n",
    "    \n",
    "    for (int i = 0; i < v1.size(); i++) {\n",
    "        v1[i] = i + 1;\n",
    "    }\n",
    "    \n",
    "    std::vector<int> v2(v1);\n",
    "    v2.insert(v2.begin(), 0);                             /* Insert '0' at beginning */\n",
    "    \n",
    "    std::vector<int> v3(v1);\n",
    "    v3.insert(v3.end(), 3, 0);                            /* Insert three '0' at end */\n",
    "    \n",
    "    std::vector<int> v4(4, 0);\n",
    "    v4.insert(v4.begin() + 2, v1.begin(), v1.end());      /* Insert at index '2', from 'A' to 'B - 1' */\n",
    "                                                          /* 'A' and 'B' must allow deref. and inc.   */\n",
    "    \n",
    "    forwardly(v2);\n",
    "    forwardly(v3);\n",
    "    forwardly(v4);\n",
    "}"
   ]
  },
  {
   "cell_type": "markdown",
   "id": "574c95f8",
   "metadata": {},
   "source": [
    "`vector` defines the method `erase`, to remove elements from a vector, in $O(n)$ worse-case complexity."
   ]
  },
  {
   "cell_type": "code",
   "execution_count": 150,
   "id": "00773ede",
   "metadata": {},
   "outputs": [
    {
     "name": "stdout",
     "output_type": "stream",
     "text": [
      "1, 2, 3, 4, 5, \b\b \n",
      "2, 3, 4, 5, \b\b \n",
      "4, 5, \b\b \n"
     ]
    }
   ],
   "source": [
    "#include <iostream>\n",
    "#include <vector>\n",
    "\n",
    "template<class T>\n",
    "void forwardly(std::vector<T> &vec) {\n",
    "    typename std::vector<T>::iterator iter = vec.begin();\n",
    "    while (iter != vec.end()) {\n",
    "        std::cout << *iter++ << \", \";\n",
    "    }\n",
    "    std::cout << \"\\b\\b \\n\";\n",
    "}\n",
    "\n",
    "int main() {\n",
    "    std::vector<int> v(5);\n",
    "    \n",
    "    for (int i = 0; i < v.size(); i++) {\n",
    "        v[i] = i + 1;\n",
    "    }\n",
    "    \n",
    "    forwardly(v);\n",
    "    \n",
    "    v.erase(v.begin());                      /* Remove at iterator 'A' */\n",
    "    forwardly(v);\n",
    "    \n",
    "    v.erase(v.begin(), v.begin() + 2);       /* Remove at iterator 'A' to 'B - 1' */\n",
    "    forwardly(v);\n",
    "}"
   ]
  },
  {
   "cell_type": "markdown",
   "id": "b0c0fbfc",
   "metadata": {},
   "source": [
    "`vector` defines the method `clear`, that removes all elements from a vector, with $O(n)$ complexity."
   ]
  },
  {
   "cell_type": "code",
   "execution_count": 153,
   "id": "b961ed00",
   "metadata": {},
   "outputs": [
    {
     "name": "stdout",
     "output_type": "stream",
     "text": [
      "Size: 5, Capacity: 5\n",
      "Size: 0, Capacity: 5\n"
     ]
    }
   ],
   "source": [
    "#include <iostream>\n",
    "#include <vector>\n",
    "\n",
    "template<class T>\n",
    "void summary(std::vector<T> &vec) {\n",
    "    std::cout << \"Size: \" << vec.size() << \", Capacity: \" << vec.capacity() << '\\n';\n",
    "}\n",
    "\n",
    "int main() {\n",
    "    std::vector<int> v(5);\n",
    "    \n",
    "    summary(v);\n",
    "    \n",
    "    v.clear();\n",
    "    \n",
    "    summary(v);\n",
    "}"
   ]
  },
  {
   "cell_type": "markdown",
   "id": "db05515c",
   "metadata": {},
   "source": [
    "`vector` defines the method `swap`, that swaps the contents of two vectors, in $O(1)$ worse-case time complexity."
   ]
  },
  {
   "cell_type": "code",
   "execution_count": 158,
   "id": "a3531c6c",
   "metadata": {},
   "outputs": [
    {
     "name": "stdout",
     "output_type": "stream",
     "text": [
      "Vector [1]:: 1, 1, 1, 1, 1, \b\b \n",
      "Vector [2]:: 2, 2, 2, \b\b \n",
      "After swapping...\n",
      "Vector [1]:: 2, 2, 2, \b\b \n",
      "Vector [2]:: 1, 1, 1, 1, 1, \b\b \n"
     ]
    }
   ],
   "source": [
    "#include <iostream>\n",
    "#include <vector>\n",
    "\n",
    "template<class T>\n",
    "void forwardly(const char * const label, std::vector<T> &vec) {\n",
    "    std::cout << label << \": \";\n",
    "    typename std::vector<T>::iterator iter = vec.begin();\n",
    "    while (iter != vec.end()) {\n",
    "        std::cout << *iter++ << \", \";\n",
    "    }\n",
    "    std::cout << \"\\b\\b \\n\";\n",
    "}\n",
    "\n",
    "int main() {\n",
    "    std::vector<int> v1(5, 1);\n",
    "    std::vector<int> v2(3, 2);\n",
    "    \n",
    "    forwardly(\"Vector [1]:\", v1);\n",
    "    forwardly(\"Vector [2]:\", v2);\n",
    "    \n",
    "    v1.swap(v2);\n",
    "    std::cout << \"After swapping...\\n\";\n",
    "    \n",
    "    forwardly(\"Vector [1]:\", v1);\n",
    "    forwardly(\"Vector [2]:\", v2);\n",
    "}"
   ]
  },
  {
   "cell_type": "markdown",
   "id": "bb58e7ce",
   "metadata": {},
   "source": [
    "To compare two `vector` objects, the type of objects the two vectors contain must define the `<` and `==` operators between them."
   ]
  },
  {
   "cell_type": "code",
   "execution_count": null,
   "id": "53812d12",
   "metadata": {},
   "outputs": [],
   "source": [
    "std::vector<A> v_a(...);\n",
    "std::vector<B> v_b(...);\n",
    "\n",
    "v_a < v_b;                /* 'A' < 'B' must be defined  */\n",
    "\n",
    "v_a == v_b;               /* 'A' == 'B' must be defined */\n",
    "\n",
    "v_a > v_b;                /* !('A' < 'B' || 'A' == 'B') */\n",
    "\n",
    "v_a != v_b;               /* !('A' == 'B')              */\n",
    "\n",
    "v_a >= v_b;               /* !('A' < 'B')               */\n",
    "\n",
    "v_a <= v_b;               /* 'A' < 'B' || 'A' == 'B'    */"
   ]
  },
  {
   "cell_type": "markdown",
   "id": "d22a938f",
   "metadata": {},
   "source": [
    "*Note:* The implementation of `<` and `==` operators must be `const`."
   ]
  },
  {
   "cell_type": "markdown",
   "id": "1e209bf4",
   "metadata": {},
   "source": [
    "*Note:* For two `vector` objects, `x` and `y`, `x` is less than `y`: \n",
    "* If for the first non-equal elements at index `i`, `x[i] < y[i]` evaluates to true.\n",
    "* If `x[i] == y[i]` evaluates to true for all elements in `x`, and `x.size() < y.size()` evaluates to true."
   ]
  },
  {
   "cell_type": "markdown",
   "id": "1b7b41ec",
   "metadata": {},
   "source": [
    "`vector` defines the type `value_type`, that is the type of the objects contained within. This can be used to define functions that deal with `vector` objects generically."
   ]
  },
  {
   "cell_type": "code",
   "execution_count": 195,
   "id": "1485d1a5",
   "metadata": {},
   "outputs": [
    {
     "name": "stdout",
     "output_type": "stream",
     "text": [
      "FOUND (5)"
     ]
    }
   ],
   "source": [
    "#include <iostream>\n",
    "#include <vector>\n",
    "\n",
    "template<class T>\n",
    "typename std::vector<T>::iterator search(std::vector<T> &vec, const typename std::vector<T>::value_type &value) {\n",
    "    typename std::vector<T>::iterator iter(vec.begin());\n",
    "    while (iter != vec.end()) {\n",
    "        if (*iter == value) {\n",
    "            break;\n",
    "        }\n",
    "        iter++;\n",
    "    }\n",
    "    return iter;\n",
    "}\n",
    "\n",
    "int main() {\n",
    "    std::vector<int> v(5);\n",
    "    \n",
    "    for (int i = 0; i < v.size(); i++) {\n",
    "        v[i] = i+1;\n",
    "    }\n",
    "    \n",
    "    std::vector<int>::iterator iter = search(v, 5);\n",
    "    \n",
    "    if (iter != v.end()) {\n",
    "        std::cout << \"FOUND (\" << *iter << ')';\n",
    "    } else {\n",
    "        std::cout << \"NOT FOUND\";\n",
    "    }\n",
    "}"
   ]
  },
  {
   "cell_type": "markdown",
   "id": "fb36dceb",
   "metadata": {},
   "source": [
    "The `vector` template defines a specialization `vector<bool>` that stores `bool` values as bits, to save memory."
   ]
  },
  {
   "cell_type": "code",
   "execution_count": 205,
   "id": "ce0417ab",
   "metadata": {},
   "outputs": [
    {
     "name": "stdout",
     "output_type": "stream",
     "text": [
      "64\n",
      "128\n"
     ]
    }
   ],
   "source": [
    "#include <iostream>\n",
    "#include <vector>\n",
    "\n",
    "int main() {\n",
    "    std::vector<bool> v(1);          /* Capacity rounds up to multiples of an implementation-dependent value */\n",
    "    \n",
    "    std::cout << v.capacity() << '\\n';   \n",
    "    \n",
    "    v.reserve(65);\n",
    "    \n",
    "    std::cout << v.capacity() << '\\n';\n",
    "}"
   ]
  }
 ],
 "metadata": {
  "kernelspec": {
   "display_name": "C",
   "language": "c",
   "name": "c"
  },
  "language_info": {
   "file_extension": ".cpp",
   "mimetype": "text/plain",
   "name": "c++"
  }
 },
 "nbformat": 4,
 "nbformat_minor": 5
}
