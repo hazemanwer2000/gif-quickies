{
 "cells": [
  {
   "cell_type": "markdown",
   "id": "57a5dd54",
   "metadata": {},
   "source": [
    "# A brief summary of the Standard Library in C++ (98)\n",
    "<br>\n",
    "<div style=\"opacity: 0.8; font-family: Consolas, Monaco, Lucida Console, Liberation Mono, DejaVu Sans Mono, Bitstream Vera Sans Mono, Courier New; font-size: 12px; font-style: italic;\">\n",
    "    ────────\n",
    "    for more from the author, visit\n",
    "    <a href=\"https://github.com/hazemanwer2000\">github.com/hazemanwer2000</a>.\n",
    "    ────────\n",
    "</div>"
   ]
  },
  {
   "cell_type": "markdown",
   "id": "d5d19f27",
   "metadata": {},
   "source": [
    "## Table of Contents\n",
    "* [Containers](#containers)\n",
    "    * [Sequences](#sequences)\n",
    "        * [`vector`](#vector)\n",
    "        * [`list`](#list)\n",
    "        * [`deque`](#deque)\n",
    "<hr>"
   ]
  },
  {
   "cell_type": "markdown",
   "id": "549a905a",
   "metadata": {},
   "source": [
    "The C++ standard library resides in the namespace `std`.\n",
    "\n",
    "* Header files are included as `<header-name>`, omitting the `.h` extension. For example, `<vector>`.\n",
    "\n",
    "* Header files from the C standard library may be included as `<c-header-name>`. For example, `<cstdio>`.\n",
    "\n",
    "* Header files from the C standard library may be included directly into the global namespace as `<header-name.h>`. For example, `<stdio.h>`.\n",
    "\n",
    "* User-defined header files may be included as `\"header-name.h\"`. For example, `\"myvector.h\"`."
   ]
  },
  {
   "cell_type": "markdown",
   "id": "198c2867",
   "metadata": {},
   "source": [
    "## Containers <a class=\"anchor\" id=\"containers\"></a>"
   ]
  },
  {
   "cell_type": "markdown",
   "id": "549e484e",
   "metadata": {},
   "source": [
    "A *container* is an object that stores a collection of other objects. They are implemented as class templates.\n",
    "\n",
    "Containers share some standard methods, though with no derivation from a common base. This is to enable inlining of most method calls, while still allowing for the implementation of pieces of code that deal with containers generically, and not a particular type of container, through the use of templates. This comes, ofcourse, at the expense of inflated code size."
   ]
  },
  {
   "cell_type": "markdown",
   "id": "f74e30e2",
   "metadata": {},
   "source": [
    "### Sequences <a class=\"anchor\" id=\"sequences\"></a>"
   ]
  },
  {
   "cell_type": "markdown",
   "id": "3699ba01",
   "metadata": {},
   "source": [
    "#### `vector` <a class=\"anchor\" id=\"vector\"></a>"
   ]
  },
  {
   "cell_type": "markdown",
   "id": "46dbf0db",
   "metadata": {},
   "source": [
    "A `vector` is an array, that is able to grow dynamically and implicitly."
   ]
  },
  {
   "cell_type": "code",
   "execution_count": null,
   "id": "a6771d45",
   "metadata": {},
   "outputs": [],
   "source": [
    "std::vector<int> vec1;          /* 0 elements */"
   ]
  },
  {
   "cell_type": "code",
   "execution_count": null,
   "id": "41a9f9bd",
   "metadata": {},
   "outputs": [],
   "source": [
    "std::vector<int> vec2(5);       /* 5 elements, copy-initialized with a default-initialized object */"
   ]
  },
  {
   "cell_type": "code",
   "execution_count": null,
   "id": "7c78ac9f",
   "metadata": {},
   "outputs": [],
   "source": [
    "std::vector<int> vec3(5, 3);    /* 5 elements, copy-initialized with a passed object */"
   ]
  },
  {
   "cell_type": "markdown",
   "id": "3d0f1e72",
   "metadata": {},
   "source": [
    "Growth involves possible re-allocation of elements, similar to how a function like `realloc` operates. Hence, growth should not occur with every append to its content. Therefore, `vector` defines both methods `size`, that returns the number of elements in the `vector`, and `capacity`, that returns the maximum number of elements that a `vector` can currently withstand without incurring a growth overhead."
   ]
  },
  {
   "cell_type": "markdown",
   "id": "c02af3c5",
   "metadata": {},
   "source": [
    "*Note:* A `vector` never shrinks in capacity."
   ]
  },
  {
   "cell_type": "code",
   "execution_count": 42,
   "id": "1f2947cc",
   "metadata": {},
   "outputs": [
    {
     "name": "stdout",
     "output_type": "stream",
     "text": [
      "Size: 0, Capacity: 0\n",
      "Size: 5, Capacity: 5\n"
     ]
    }
   ],
   "source": [
    "#include <vector>\n",
    "#include <iostream>\n",
    "\n",
    "template<class T>\n",
    "void summary(std::vector<T> &vec) {\n",
    "    std::cout << \"Size: \" << vec.size() << \", Capacity: \" << vec.capacity() << '\\n';\n",
    "}\n",
    "\n",
    "int main() {\n",
    "    std::vector<int> vec1;\n",
    "    summary(vec1);\n",
    "    \n",
    "    std::vector<int> vec2(5);\n",
    "    summary(vec2);\n",
    "}"
   ]
  },
  {
   "cell_type": "markdown",
   "id": "c0cd19fc",
   "metadata": {},
   "source": [
    "`vector` defines the method `reserve`, that accepts the number of elements to set the capacity of the `vector` to. If the argument is less than the current capacity of the `vector`, nothing happens."
   ]
  },
  {
   "cell_type": "markdown",
   "id": "4fba8da5",
   "metadata": {},
   "source": [
    "*Note:* `reserve` merely allocates memory to avoid a growth overhead later on. It does not construct any objects."
   ]
  },
  {
   "cell_type": "markdown",
   "id": "28c3c240",
   "metadata": {},
   "source": [
    "`vector` also defines the method `resize`, that accepts the number of elements to set the size of the `vector` to. The argument may be less than the current size of the `vector`."
   ]
  },
  {
   "cell_type": "markdown",
   "id": "c66b94d4",
   "metadata": {},
   "source": [
    "*Note:* Unlike `reserve`, `resize` initializes memory with copy-initialized objects, copied from a default-initialized object, or an optionally passed object."
   ]
  },
  {
   "cell_type": "code",
   "execution_count": 48,
   "id": "4d5698d0",
   "metadata": {
    "scrolled": true
   },
   "outputs": [
    {
     "name": "stdout",
     "output_type": "stream",
     "text": [
      "Size: 5, Capacity: 5, [1, 1, 1, 1, 1, \b\b]\n",
      "Size: 5, Capacity: 10, [1, 1, 1, 1, 1, \b\b]\n",
      "Size: 5, Capacity: 10, [1, 1, 1, 1, 1, \b\b]\n",
      "Size: 8, Capacity: 10, [1, 1, 1, 1, 1, 2, 2, 2, \b\b]\n",
      "Size: 7, Capacity: 10, [1, 1, 1, 1, 1, 2, 2, \b\b]\n"
     ]
    }
   ],
   "source": [
    "#include <vector>\n",
    "#include <iostream>\n",
    "\n",
    "template<class T>\n",
    "void summary(std::vector<T> &vec) {\n",
    "    std::cout << \"Size: \" << vec.size();\n",
    "    std::cout << \", Capacity: \" << vec.capacity();\n",
    "    std::cout << \", [\";\n",
    "    for (int i = 0; i < vec.size(); i++) {\n",
    "        std::cout << vec[i] << \", \";\n",
    "    }\n",
    "    std::cout << \"\\b\\b]\\n\";\n",
    "}\n",
    "\n",
    "template<class T>\n",
    "void print_vec(std::vector<T> &vec) {\n",
    "    for (int i = 0; i < vec.size(); i++) {\n",
    "        std::cout << vec[i] << \", \";\n",
    "    }\n",
    "    std::cout << \"\\b\\b \\n\";\n",
    "}\n",
    "\n",
    "int main() {\n",
    "    std::vector<int> vec(5, 1);        /* 5 elements, copy-initialized with '1' */\n",
    "    summary(vec);\n",
    "    \n",
    "    vec.reserve(10);                   /* capacity guranteed to be at least '10' */\n",
    "    summary(vec);\n",
    "    \n",
    "    vec.reserve(8);                    /* capacity guranteed to be at least '8' (already '10') */\n",
    "    summary(vec);\n",
    "    \n",
    "    vec.resize(8, 2);                  /* enlarged to 8 elements, last three initialized with '2' */\n",
    "    summary(vec);\n",
    "    \n",
    "    vec.resize(7);                     /* shrinked to 7 elements */\n",
    "    summary(vec);\n",
    "}"
   ]
  },
  {
   "cell_type": "markdown",
   "id": "bfbea234",
   "metadata": {},
   "source": [
    "`vector` defines the method `max_size`, that returns the maximum number of elements that `vector` can withstand."
   ]
  },
  {
   "cell_type": "code",
   "execution_count": 52,
   "id": "3837fd66",
   "metadata": {},
   "outputs": [
    {
     "name": "stdout",
     "output_type": "stream",
     "text": [
      "2305843009213693951\n",
      "1152921504606846975\n"
     ]
    }
   ],
   "source": [
    "#include <iostream>\n",
    "#include <vector>\n",
    "\n",
    "int main() {\n",
    "    std::vector<float> vfloat;\n",
    "    std::cout << vfloat.max_size() << '\\n';\n",
    "    \n",
    "    std::vector<double> vdouble;\n",
    "    std::cout << vdouble.max_size() << '\\n';\n",
    "}"
   ]
  },
  {
   "cell_type": "markdown",
   "id": "345338c8",
   "metadata": {},
   "source": [
    "*Note:* Since, usually, `double` occupies double the number of bytes of `float`, the maximum size of `vector<double>` is half the maximum size of `vector<float>`. This is because `vector` is an array-like structure, and uses pointers to provide constant element access. As the size of the offset between each pointer increases, the number of objects that can be represented by a given pointer size decreases."
   ]
  },
  {
   "cell_type": "markdown",
   "id": "619a80df",
   "metadata": {},
   "source": [
    "`vector` defines the method `empty`, that evaluates and returns `size() == 0`, as a `bool`."
   ]
  },
  {
   "cell_type": "code",
   "execution_count": 62,
   "id": "08569e11",
   "metadata": {},
   "outputs": [
    {
     "name": "stdout",
     "output_type": "stream",
     "text": [
      "0\n",
      "1\n"
     ]
    }
   ],
   "source": [
    "#include <iostream>\n",
    "#include <vector>\n",
    "\n",
    "int main() {\n",
    "    std::vector<int> vec(5);\n",
    "    std::cout << vec.empty() << '\\n';\n",
    "    \n",
    "    vec.resize(0);\n",
    "    std::cout << vec.empty() << '\\n';\n",
    "}"
   ]
  },
  {
   "cell_type": "markdown",
   "id": "8f048f18",
   "metadata": {},
   "source": [
    "`vector` defines the operator `[]` for unchecked access to elements. It also defines the method `at` for checked access."
   ]
  },
  {
   "cell_type": "code",
   "execution_count": 73,
   "id": "66b818f4",
   "metadata": {},
   "outputs": [
    {
     "name": "stdout",
     "output_type": "stream",
     "text": [
      "Size: 3, Capacity: 3, [1, 2, 3, \b\b]\n"
     ]
    }
   ],
   "source": [
    "#include <iostream>\n",
    "#include <vector>\n",
    "\n",
    "template<class T>\n",
    "void summary(std::vector<T> &vec) {\n",
    "    std::cout << \"Size: \" << vec.size();\n",
    "    std::cout << \", Capacity: \" << vec.capacity();\n",
    "    std::cout << \", [\";\n",
    "    for (int i = 0; i < vec.size(); i++) {\n",
    "        std::cout << vec[i] << \", \";\n",
    "    }\n",
    "    std::cout << \"\\b\\b]\\n\";\n",
    "}\n",
    "\n",
    "int main() {\n",
    "    std::vector<int> vec(3);\n",
    "    \n",
    "    vec[0] = 1;\n",
    "    vec[1] = 2;\n",
    "    vec[2] = 3;\n",
    "    vec[3] = 4;           /* Unchecked out-of-range access */\n",
    "                          /*   Possible memory corruption, or segmentation-fault error */\n",
    "    \n",
    "    summary(vec);\n",
    "}"
   ]
  },
  {
   "cell_type": "code",
   "execution_count": 79,
   "id": "8864315d",
   "metadata": {},
   "outputs": [
    {
     "name": "stdout",
     "output_type": "stream",
     "text": [
      "[Error] Out-of-range access.\n",
      "Size: 3, Capacity: 3, [1, 2, 3, \b\b]\n"
     ]
    }
   ],
   "source": [
    "#include <iostream>\n",
    "#include <vector>\n",
    "\n",
    "template<class T>\n",
    "void summary(std::vector<T> &vec) {\n",
    "    std::cout << \"Size: \" << vec.size();\n",
    "    std::cout << \", Capacity: \" << vec.capacity();\n",
    "    std::cout << \", [\";\n",
    "    for (int i = 0; i < vec.size(); i++) {\n",
    "        std::cout << vec[i] << \", \";\n",
    "    }\n",
    "    std::cout << \"\\b\\b]\\n\";\n",
    "}\n",
    "\n",
    "int main() {\n",
    "    std::vector<int> vec(3);\n",
    "    \n",
    "    try {\n",
    "        vec.at(0) = 1;\n",
    "        vec.at(1) = 2;\n",
    "        vec.at(2) = 3;\n",
    "        vec.at(3) = 4;           /* Checked out-of-range access */\n",
    "                                 /*   'std::out_of_range' exception thrown */\n",
    "    } catch (std::out_of_range &e) {\n",
    "        std::cout << \"[Error] Out-of-range access.\\n\";\n",
    "    }\n",
    "    \n",
    "    summary(vec);\n",
    "}"
   ]
  },
  {
   "cell_type": "markdown",
   "id": "bded447a",
   "metadata": {},
   "source": [
    "*Note:* Since `vector` is basically an array, element access has $O(1)$ worst-case complexity."
   ]
  },
  {
   "cell_type": "markdown",
   "id": "2f8836de",
   "metadata": {},
   "source": [
    "*Note:* Naturally, the `at` method incurs a constant overhead, compared to `[]`."
   ]
  },
  {
   "cell_type": "markdown",
   "id": "b108d320",
   "metadata": {},
   "source": [
    "`vector` defines the `front` and `back` methods, that return the first and last elements, respectively."
   ]
  },
  {
   "cell_type": "code",
   "execution_count": 85,
   "id": "902d3721",
   "metadata": {},
   "outputs": [
    {
     "name": "stdout",
     "output_type": "stream",
     "text": [
      "Front: 1\n",
      "Back: 5\n"
     ]
    }
   ],
   "source": [
    "#include <iostream>\n",
    "#include <vector>\n",
    "\n",
    "int main() {\n",
    "    std::vector<int> vec(5);\n",
    "    \n",
    "    for (int i = 0; i < vec.size(); i++) {\n",
    "        vec[i] = i + 1;                      /* 1, 2, 3, ... */\n",
    "    }\n",
    "\n",
    "    std::cout << \"Front: \" << vec.front() << '\\n';\n",
    "    std::cout << \"Back: \" << vec.back() << '\\n';\n",
    "}"
   ]
  },
  {
   "cell_type": "markdown",
   "id": "d5382a1b",
   "metadata": {},
   "source": [
    "`vector` defines the `push_back` and `pop_back` methods.\n",
    "\n",
    "* `push_back` accepts a passed object to add to the end of a `vector`, incrementing its size.\n",
    "* `pop_back` removes the last element of a `vector`, decrementing its size, and returns `void`.\n",
    "\n",
    "In this way, `vector` may be used as a stack, with $O(1)$ worst-case complexity of stack operations, ignoring the possible growth overhead."
   ]
  },
  {
   "cell_type": "code",
   "execution_count": 91,
   "id": "2bae4669",
   "metadata": {
    "scrolled": true
   },
   "outputs": [
    {
     "name": "stdout",
     "output_type": "stream",
     "text": [
      "Size: 5, Capacity: 5, [1, 2, 3, 4, 5, \b\b]\n",
      "Top of stack: 5\n",
      "Size: 4, Capacity: 5, [1, 2, 3, 4, \b\b]\n"
     ]
    }
   ],
   "source": [
    "#include <iostream>\n",
    "#include <vector>\n",
    "\n",
    "template<class T>\n",
    "void summary(std::vector<T> &vec) {\n",
    "    std::cout << \"Size: \" << vec.size();\n",
    "    std::cout << \", Capacity: \" << vec.capacity();\n",
    "    std::cout << \", [\";\n",
    "    for (int i = 0; i < vec.size(); i++) {\n",
    "        std::cout << vec[i] << \", \";\n",
    "    }\n",
    "    std::cout << \"\\b\\b]\\n\";\n",
    "}\n",
    "\n",
    "int main() {\n",
    "    std::vector<int> vec;\n",
    "    \n",
    "    vec.reserve(5);\n",
    "\n",
    "    for (int i = 0; i < vec.capacity(); i++) {\n",
    "        vec.push_back(i+1);                               /* Pushing onto stack */\n",
    "    }\n",
    "    \n",
    "    summary(vec);\n",
    "    \n",
    "    std::cout << \"Top of stack: \" << vec.back() << '\\n';    /* Peaking top-of-stack */\n",
    "    \n",
    "    vec.pop_back();                                       /* Popping off stack */\n",
    "    \n",
    "    summary(vec);\n",
    "}"
   ]
  },
  {
   "cell_type": "markdown",
   "id": "343c90f7",
   "metadata": {},
   "source": [
    "`vector` defines `begin` and `end` methods, that return iterators to the first and one after the last elements, respectively.\n",
    "\n",
    "An *iterator* is a pointer-like object to an element. Iterators can be used to navigate containers, without knowledge of the actual type used to identify elements.\n",
    "\n",
    "`vector` also defines the type `iterator`, that is the type of iterator it deals with."
   ]
  },
  {
   "cell_type": "code",
   "execution_count": 107,
   "id": "465d2c0a",
   "metadata": {},
   "outputs": [
    {
     "name": "stdout",
     "output_type": "stream",
     "text": [
      "3\n",
      "5\n"
     ]
    }
   ],
   "source": [
    "#include <iostream>\n",
    "#include <vector>\n",
    "\n",
    "int main() {\n",
    "    std::vector<int> vec(5);\n",
    "    \n",
    "    for (int i = 0; i < vec.capacity(); i++) {\n",
    "        vec[i] = i + 1;\n",
    "    }\n",
    "    \n",
    "    std::cout << *(vec.begin() + 2) << '\\n';         /* equivalent to vec[2]      */\n",
    "    std::cout << *(vec.end() - 1) << '\\n';           /* equivalent to vec.front() */ \n",
    "}"
   ]
  },
  {
   "cell_type": "code",
   "execution_count": 117,
   "id": "9ba86463",
   "metadata": {},
   "outputs": [
    {
     "name": "stdout",
     "output_type": "stream",
     "text": [
      "1, 2, 3, 4, 5, \b\b \n"
     ]
    }
   ],
   "source": [
    "#include <iostream>\n",
    "#include <vector>\n",
    "\n",
    "template<class T>\n",
    "void forwardly(std::vector<T> &vec) {\n",
    "    typename std::vector<T>::iterator iter = vec.begin();\n",
    "    while (iter != vec.end()) {\n",
    "        std::cout << *iter++ << \", \";\n",
    "    }\n",
    "    std::cout << \"\\b\\b \\n\";\n",
    "}\n",
    "\n",
    "int main() {\n",
    "    std::vector<int> vec(5);\n",
    "    \n",
    "    for (int i = 0; i < vec.capacity(); i++) {\n",
    "        vec[i] = i + 1;\n",
    "    }\n",
    "    \n",
    "    forwardly(vec);\n",
    "}"
   ]
  },
  {
   "cell_type": "markdown",
   "id": "34fb2054",
   "metadata": {},
   "source": [
    "`vector` defines `rbegin` and `rend` methods, that return reverse iterators to the last and one before the first elements, respectively.\n",
    "\n",
    "`vector` also defines the type `reverse_iterator`, that is the type of reverse iterator it deals with.\n",
    "\n",
    "The `base` method of a reverse iterator, returns an iterator to the next element."
   ]
  },
  {
   "cell_type": "code",
   "execution_count": 115,
   "id": "1c769be0",
   "metadata": {},
   "outputs": [
    {
     "name": "stdout",
     "output_type": "stream",
     "text": [
      "5\n",
      "3\n",
      "1\n"
     ]
    }
   ],
   "source": [
    "#include <iostream>\n",
    "#include <vector>\n",
    "\n",
    "int main() {\n",
    "    std::vector<int> vec(5);\n",
    "    \n",
    "    for (int i = 0; i < vec.capacity(); i++) {\n",
    "        vec[i] = i + 1;\n",
    "    }\n",
    "    \n",
    "    std::cout << *(vec.rbegin()) << '\\n';             /* equivalent to vec.back() */\n",
    "    std::cout << *(vec.rbegin() + 2) << '\\n';         /* equivalent to vec[vec.size() - 1 - 2] */\n",
    "    std::cout << *(vec.rend().base()) << '\\n';        /* equivalent to vec.front() or *(vec.rbegin()) */\n",
    "}"
   ]
  },
  {
   "cell_type": "code",
   "execution_count": 116,
   "id": "d99c1c83",
   "metadata": {},
   "outputs": [
    {
     "name": "stdout",
     "output_type": "stream",
     "text": [
      "5, 4, 3, 2, 1 \n"
     ]
    }
   ],
   "source": [
    "#include <iostream>\n",
    "#include <vector>\n",
    "\n",
    "template<class T>\n",
    "void backwardly(std::vector<T> &vec) {\n",
    "    typename std::vector<T>::reverse_iterator iter = vec.rbegin();\n",
    "    while (iter != vec.rend()) {\n",
    "        std::cout << *iter++ << \", \";\n",
    "    }\n",
    "    std::cout << \"\\b\\b \\n\";\n",
    "}\n",
    "\n",
    "int main() {\n",
    "    std::vector<int> vec(5);\n",
    "    \n",
    "    for (int i = 0; i < vec.capacity(); i++) {\n",
    "        vec[i] = i + 1;\n",
    "    }\n",
    "    \n",
    "    backwardly(vec);\n",
    "}"
   ]
  },
  {
   "cell_type": "markdown",
   "id": "fd755aa2",
   "metadata": {},
   "source": [
    "*Note:* Iterators in `vector` are random-access. That is, `ITERATOR + CONSTANT` is always of $O(1)$ worst-case complexity."
   ]
  },
  {
   "cell_type": "markdown",
   "id": "11884622",
   "metadata": {},
   "source": [
    "*Note:* Beware, with changes to a `vector`, previously defined iterators may become undefined."
   ]
  },
  {
   "cell_type": "markdown",
   "id": "3d3568e1",
   "metadata": {},
   "source": [
    "*Note:* `vector` also defines types `const_iterator` and `const_reverse_iterator` for read-access only."
   ]
  },
  {
   "cell_type": "markdown",
   "id": "8f9dfa2a",
   "metadata": {},
   "source": [
    "`vector` defines a copy constructor, that accepts a reference to the same type of `vector`."
   ]
  },
  {
   "cell_type": "code",
   "execution_count": 124,
   "id": "42a1fa23",
   "metadata": {},
   "outputs": [
    {
     "name": "stdout",
     "output_type": "stream",
     "text": [
      "1, 1, 1, 1, 1, \b\b \n",
      "3, 1, 1, 1, 1, \b\b \n"
     ]
    }
   ],
   "source": [
    "#include <iostream>\n",
    "#include <vector>\n",
    "\n",
    "template<class T>\n",
    "void forwardly(std::vector<T> &vec) {\n",
    "    typename std::vector<T>::iterator iter = vec.begin();\n",
    "    while (iter != vec.end()) {\n",
    "        std::cout << *iter++ << \", \";\n",
    "    }\n",
    "    std::cout << \"\\b\\b \\n\";\n",
    "}\n",
    "\n",
    "int main() {\n",
    "    std::vector v1(5, 1);\n",
    "    std::vector v2(v1);\n",
    "    \n",
    "    v2[0] = 3;\n",
    "    \n",
    "    forwardly(v1);\n",
    "    forwardly(v2);\n",
    "}"
   ]
  },
  {
   "cell_type": "markdown",
   "id": "ca204f65",
   "metadata": {},
   "source": [
    "`vector` defines a templated constructor, that accepts two objects, defining the beginning and end (exclusive) from which to copy. These objects must match in type, and must allow for dereferencing and incremening operations."
   ]
  },
  {
   "cell_type": "code",
   "execution_count": 134,
   "id": "1995bab9",
   "metadata": {},
   "outputs": [
    {
     "name": "stdout",
     "output_type": "stream",
     "text": [
      "1, 2, 3, 4, 5, \b\b \n",
      "2, 3, 4, \b\b \n",
      "H, E, L, L, O, \b\b \n"
     ]
    }
   ],
   "source": [
    "#include <iostream>\n",
    "#include <vector>\n",
    "\n",
    "template<class T>\n",
    "void forwardly(std::vector<T> &vec) {\n",
    "    typename std::vector<T>::iterator iter = vec.begin();\n",
    "    while (iter != vec.end()) {\n",
    "        std::cout << *iter++ << \", \";\n",
    "    }\n",
    "    std::cout << \"\\b\\b \\n\";\n",
    "}\n",
    "\n",
    "int main() {\n",
    "    std::vector<int> v1(5);\n",
    "    \n",
    "    for (int i = 0; i < v1.size(); i++) {\n",
    "        v1[i] = i + 1;\n",
    "    }\n",
    "    \n",
    "    std::vector<int> v2(v1.begin() + 1, v1.end() - 1);\n",
    "    \n",
    "    char s[] = \"HELLO\";\n",
    "    \n",
    "    std::vector<char> v3(s, s + 5);\n",
    "    \n",
    "    forwardly(v1);\n",
    "    forwardly(v2);\n",
    "    forwardly(v3);\n",
    "}"
   ]
  },
  {
   "cell_type": "markdown",
   "id": "746bba4d",
   "metadata": {},
   "source": [
    "In addition, `vector` overloads the assignment operator, and provides two additional `assign` methods."
   ]
  },
  {
   "cell_type": "code",
   "execution_count": 137,
   "id": "e3a4109d",
   "metadata": {},
   "outputs": [
    {
     "name": "stdout",
     "output_type": "stream",
     "text": [
      "1, 2, 3, 4, 5, \b\b \n",
      "1, 2, 3, 4, 5, \b\b \n",
      "3, 4, 5, \b\b \n",
      "0, 0, 0, 0, 0, \b\b \n"
     ]
    }
   ],
   "source": [
    "#include <iostream>\n",
    "#include <vector>\n",
    "\n",
    "template<class T>\n",
    "void forwardly(std::vector<T> &vec) {\n",
    "    typename std::vector<T>::iterator iter = vec.begin();\n",
    "    while (iter != vec.end()) {\n",
    "        std::cout << *iter++ << \", \";\n",
    "    }\n",
    "    std::cout << \"\\b\\b \\n\";\n",
    "}\n",
    "\n",
    "int main() {\n",
    "    std::vector<int> v1(5);\n",
    "    \n",
    "    for (int i = 0; i < v1.size(); i++) {\n",
    "        v1[i] = i + 1;\n",
    "    }\n",
    "    \n",
    "    std::vector<int> v2;\n",
    "    v2 = v1;                                  /* Copies 'v1' into 'v2' (grows implicitly) */\n",
    "    \n",
    "    std::vector<int> v3;\n",
    "    v3.assign(v1.begin() + 2, v1.end());      /* Copies from 'A' to 'B - 1' */\n",
    "    \n",
    "    std::vector<int> v4;\n",
    "    v4.assign(5, 0);                          /* Copies '0' five times (Second parameter is non-optional) */\n",
    "    \n",
    "    forwardly(v1);\n",
    "    forwardly(v2);\n",
    "    forwardly(v3);\n",
    "    forwardly(v4);\n",
    "}"
   ]
  },
  {
   "cell_type": "markdown",
   "id": "27dc0ac8",
   "metadata": {},
   "source": [
    "`vector` defines the method `insert`, to insert elements into a vector, in $O(n)$ worst-case complexity."
   ]
  },
  {
   "cell_type": "code",
   "execution_count": 142,
   "id": "a67c6873",
   "metadata": {},
   "outputs": [
    {
     "name": "stdout",
     "output_type": "stream",
     "text": [
      "0, 1, 2, 3, 4, 5, \b\b \n",
      "1, 2, 3, 4, 5, 0, 0, 0, \b\b \n",
      "0, 0, 1, 2, 3, 4, 5, 0, 0, \b\b \n"
     ]
    }
   ],
   "source": [
    "#include <iostream>\n",
    "#include <vector>\n",
    "\n",
    "template<class T>\n",
    "void forwardly(std::vector<T> &vec) {\n",
    "    typename std::vector<T>::iterator iter = vec.begin();\n",
    "    while (iter != vec.end()) {\n",
    "        std::cout << *iter++ << \", \";\n",
    "    }\n",
    "    std::cout << \"\\b\\b \\n\";\n",
    "}\n",
    "\n",
    "int main() {\n",
    "    std::vector<int> v1(5);\n",
    "    \n",
    "    for (int i = 0; i < v1.size(); i++) {\n",
    "        v1[i] = i + 1;\n",
    "    }\n",
    "    \n",
    "    std::vector<int> v2(v1);\n",
    "    v2.insert(v2.begin(), 0);                             /* Insert '0' at beginning */\n",
    "    \n",
    "    std::vector<int> v3(v1);\n",
    "    v3.insert(v3.end(), 3, 0);                            /* Insert three '0' at end */\n",
    "    \n",
    "    std::vector<int> v4(4, 0);\n",
    "    v4.insert(v4.begin() + 2, v1.begin(), v1.end());      /* Insert at index '2', from 'A' to 'B - 1' */\n",
    "                                                          /* 'A' and 'B' must allow deref. and inc.   */\n",
    "    \n",
    "    forwardly(v2);\n",
    "    forwardly(v3);\n",
    "    forwardly(v4);\n",
    "}"
   ]
  },
  {
   "cell_type": "markdown",
   "id": "95dd66ff",
   "metadata": {},
   "source": [
    "`vector` defines the method `erase`, to remove elements from a vector, in $O(n)$ worse-case complexity."
   ]
  },
  {
   "cell_type": "code",
   "execution_count": 150,
   "id": "c2090b5f",
   "metadata": {},
   "outputs": [
    {
     "name": "stdout",
     "output_type": "stream",
     "text": [
      "1, 2, 3, 4, 5, \b\b \n",
      "2, 3, 4, 5, \b\b \n",
      "4, 5, \b\b \n"
     ]
    }
   ],
   "source": [
    "#include <iostream>\n",
    "#include <vector>\n",
    "\n",
    "template<class T>\n",
    "void forwardly(std::vector<T> &vec) {\n",
    "    typename std::vector<T>::iterator iter = vec.begin();\n",
    "    while (iter != vec.end()) {\n",
    "        std::cout << *iter++ << \", \";\n",
    "    }\n",
    "    std::cout << \"\\b\\b \\n\";\n",
    "}\n",
    "\n",
    "int main() {\n",
    "    std::vector<int> v(5);\n",
    "    \n",
    "    for (int i = 0; i < v.size(); i++) {\n",
    "        v[i] = i + 1;\n",
    "    }\n",
    "    \n",
    "    forwardly(v);\n",
    "    \n",
    "    v.erase(v.begin());                      /* Remove at iterator 'A' */\n",
    "    forwardly(v);\n",
    "    \n",
    "    v.erase(v.begin(), v.begin() + 2);       /* Remove at iterator 'A' to 'B - 1' */\n",
    "    forwardly(v);\n",
    "}"
   ]
  },
  {
   "cell_type": "markdown",
   "id": "d54fa8df",
   "metadata": {},
   "source": [
    "`vector` defines the method `clear`, that removes all elements from a vector, with $O(n)$ complexity."
   ]
  },
  {
   "cell_type": "code",
   "execution_count": 153,
   "id": "0275a5b2",
   "metadata": {},
   "outputs": [
    {
     "name": "stdout",
     "output_type": "stream",
     "text": [
      "Size: 5, Capacity: 5\n",
      "Size: 0, Capacity: 5\n"
     ]
    }
   ],
   "source": [
    "#include <iostream>\n",
    "#include <vector>\n",
    "\n",
    "template<class T>\n",
    "void summary(std::vector<T> &vec) {\n",
    "    std::cout << \"Size: \" << vec.size() << \", Capacity: \" << vec.capacity() << '\\n';\n",
    "}\n",
    "\n",
    "int main() {\n",
    "    std::vector<int> v(5);\n",
    "    \n",
    "    summary(v);\n",
    "    \n",
    "    v.clear();\n",
    "    \n",
    "    summary(v);\n",
    "}"
   ]
  },
  {
   "cell_type": "markdown",
   "id": "8c8824c7",
   "metadata": {},
   "source": [
    "`vector` defines the method `swap`, that swaps the contents of two vectors, in $O(1)$ worse-case time complexity."
   ]
  },
  {
   "cell_type": "code",
   "execution_count": 158,
   "id": "2c43088f",
   "metadata": {},
   "outputs": [
    {
     "name": "stdout",
     "output_type": "stream",
     "text": [
      "Vector [1]:: 1, 1, 1, 1, 1, \b\b \n",
      "Vector [2]:: 2, 2, 2, \b\b \n",
      "After swapping...\n",
      "Vector [1]:: 2, 2, 2, \b\b \n",
      "Vector [2]:: 1, 1, 1, 1, 1, \b\b \n"
     ]
    }
   ],
   "source": [
    "#include <iostream>\n",
    "#include <vector>\n",
    "\n",
    "template<class T>\n",
    "void forwardly(const char * const label, std::vector<T> &vec) {\n",
    "    std::cout << label << \": \";\n",
    "    typename std::vector<T>::iterator iter = vec.begin();\n",
    "    while (iter != vec.end()) {\n",
    "        std::cout << *iter++ << \", \";\n",
    "    }\n",
    "    std::cout << \"\\b\\b \\n\";\n",
    "}\n",
    "\n",
    "int main() {\n",
    "    std::vector<int> v1(5, 1);\n",
    "    std::vector<int> v2(3, 2);\n",
    "    \n",
    "    forwardly(\"Vector [1]:\", v1);\n",
    "    forwardly(\"Vector [2]:\", v2);\n",
    "    \n",
    "    v1.swap(v2);\n",
    "    std::cout << \"After swapping...\\n\";\n",
    "    \n",
    "    forwardly(\"Vector [1]:\", v1);\n",
    "    forwardly(\"Vector [2]:\", v2);\n",
    "}"
   ]
  },
  {
   "cell_type": "markdown",
   "id": "99b39cc2",
   "metadata": {},
   "source": [
    "To compare two `vector` objects, the type of objects the two vectors contain must define the `<` and `==` operators between them."
   ]
  },
  {
   "cell_type": "code",
   "execution_count": null,
   "id": "7ee688fc",
   "metadata": {},
   "outputs": [],
   "source": [
    "std::vector<A> v_a(...);\n",
    "std::vector<B> v_b(...);\n",
    "\n",
    "v_a < v_b;                /* 'A' < 'B' must be defined  */\n",
    "\n",
    "v_a == v_b;               /* 'A' == 'B' must be defined */\n",
    "\n",
    "v_a != v_b;               /* !('A' == 'B')              */\n",
    "\n",
    "v_a > v_b;                /* B' < 'A'                   */\n",
    "\n",
    "v_a <= v_b;               /* !('B' < 'A')               */\n",
    "\n",
    "v_a >= v_b;               /* !('A' < 'B')               */"
   ]
  },
  {
   "cell_type": "markdown",
   "id": "178ef4cb",
   "metadata": {},
   "source": [
    "*Note:* The implementation of `<` and `==` operators must be `const`."
   ]
  },
  {
   "cell_type": "markdown",
   "id": "9bf2f7a4",
   "metadata": {},
   "source": [
    "*Note:* The implementation of `<` and `==` must be transitive."
   ]
  },
  {
   "cell_type": "markdown",
   "id": "cdfe1ee0",
   "metadata": {},
   "source": [
    "*Note:* For two `vector` objects, `x` and `y`, `x` is less than `y`: \n",
    "* If for the first non-equal elements at index `i`, `x[i] < y[i]` evaluates to true.\n",
    "* If `x[i] == y[i]` evaluates to true for all elements in `x`, and `x.size() < y.size()` evaluates to true."
   ]
  },
  {
   "cell_type": "markdown",
   "id": "efced9ea",
   "metadata": {},
   "source": [
    "`vector` defines the type `value_type`, that is the type of the objects contained within. This can be used to define functions that deal with `vector` objects generically."
   ]
  },
  {
   "cell_type": "code",
   "execution_count": 195,
   "id": "a79e6cfa",
   "metadata": {},
   "outputs": [
    {
     "name": "stdout",
     "output_type": "stream",
     "text": [
      "FOUND (5)"
     ]
    }
   ],
   "source": [
    "#include <iostream>\n",
    "#include <vector>\n",
    "\n",
    "template<class T>\n",
    "typename std::vector<T>::iterator search(std::vector<T> &vec, const typename std::vector<T>::value_type &value) {\n",
    "    typename std::vector<T>::iterator iter(vec.begin());\n",
    "    while (iter != vec.end()) {\n",
    "        if (*iter == value) {\n",
    "            break;\n",
    "        }\n",
    "        iter++;\n",
    "    }\n",
    "    return iter;\n",
    "}\n",
    "\n",
    "int main() {\n",
    "    std::vector<int> v(5);\n",
    "    \n",
    "    for (int i = 0; i < v.size(); i++) {\n",
    "        v[i] = i+1;\n",
    "    }\n",
    "    \n",
    "    std::vector<int>::iterator iter = search(v, 5);\n",
    "    \n",
    "    if (iter != v.end()) {\n",
    "        std::cout << \"FOUND (\" << *iter << ')';\n",
    "    } else {\n",
    "        std::cout << \"NOT FOUND\";\n",
    "    }\n",
    "}"
   ]
  },
  {
   "cell_type": "markdown",
   "id": "9f9789c7",
   "metadata": {},
   "source": [
    "The `vector` template defines a specialization `vector<bool>` that stores `bool` values as bits, to save memory."
   ]
  },
  {
   "cell_type": "code",
   "execution_count": 205,
   "id": "d095a1ea",
   "metadata": {},
   "outputs": [
    {
     "name": "stdout",
     "output_type": "stream",
     "text": [
      "64\n",
      "128\n"
     ]
    }
   ],
   "source": [
    "#include <iostream>\n",
    "#include <vector>\n",
    "                            /* Capacity rounds up to multiples of an implementation-dependent value */\n",
    "int main() {\n",
    "    std::vector<bool> v(1);        \n",
    "    \n",
    "    std::cout << v.capacity() << '\\n';   \n",
    "    \n",
    "    v.reserve(65);\n",
    "    \n",
    "    std::cout << v.capacity() << '\\n';\n",
    "}"
   ]
  },
  {
   "cell_type": "markdown",
   "id": "0aa6bd74",
   "metadata": {},
   "source": [
    "#### Summary of `vector` <a class=\"anchor\" id=\"summary-of-vector\"></a>"
   ]
  },
  {
   "cell_type": "markdown",
   "id": "0db37520",
   "metadata": {},
   "source": [
    "| *Method* |\n",
    "| :--- |\n",
    "| `vector()` |\n",
    "| `vector(N)` |\n",
    "| `vector(N, OBJ)` |\n",
    "| `vector(ITER_BEGIN, ITER_END)` |\n",
    "| `vector(VECTOR)` |\n",
    "| ㅤ |\n",
    "| `assign(N, OBJ)` |\n",
    "| `assign(ITER_BEGIN, ITER_END)` |\n",
    "| `=` |\n",
    "| ㅤ |\n",
    "| `size()` |\n",
    "| `resize(N)` |\n",
    "| `max_size()` |\n",
    "| `empty()` |\n",
    "| ㅤ |\n",
    "| `capacity()` |\n",
    "| `reserve(N)` |\n",
    "| ㅤ |\n",
    "| `[]` |\n",
    "| `at(INDEX)` |\n",
    "| `front()` |\n",
    "| `back()` |\n",
    "| ㅤ |\n",
    "| `push_back(OBJ)` |\n",
    "| `pop_back()` |\n",
    "| ㅤ |\n",
    "| `begin()` |\n",
    "| `end()` |\n",
    "| `rbegin()` |\n",
    "| `rend()` |\n",
    "| ㅤ |\n",
    "| `insert(ITER_POS, OBJ)` |\n",
    "| `insert(ITER_POS, N, OBJ)` |\n",
    "| `insert(ITER_POS, ITER_BEGIN, ITER_END)` |\n",
    "| ㅤ |\n",
    "| `erase(ITER_POS)` |\n",
    "| `erase(ITER_START, ITER_STOP)` |\n",
    "| `clear()` |\n",
    "| ㅤ |\n",
    "| `swap(VECTOR)` |"
   ]
  },
  {
   "cell_type": "markdown",
   "id": "ae7d8df6",
   "metadata": {},
   "source": [
    "#### `list` <a class=\"anchor\" id=\"list\"></a>"
   ]
  },
  {
   "cell_type": "markdown",
   "id": "b719a14f",
   "metadata": {},
   "source": [
    "A `list` is, most frequently, an implementation of a doubly linked list."
   ]
  },
  {
   "cell_type": "markdown",
   "id": "ba4d93b4",
   "metadata": {},
   "source": [
    "*Note:* `list` is optimized for `insert` and `erase` operations."
   ]
  },
  {
   "cell_type": "markdown",
   "id": "6f89e265",
   "metadata": {},
   "source": [
    "Compared to `vector`, some methods are missing from `list`."
   ]
  },
  {
   "cell_type": "markdown",
   "id": "ba207229",
   "metadata": {},
   "source": [
    "| *Missing Method* |\n",
    "| --- |\n",
    "| `capacity` |\n",
    "| `reserve` |\n",
    "| `[]` |\n",
    "| `at` |"
   ]
  },
  {
   "cell_type": "markdown",
   "id": "312197fe",
   "metadata": {},
   "source": [
    "Compared to `vector`, new methods, that push and pop from the front, are added to `list`."
   ]
  },
  {
   "cell_type": "markdown",
   "id": "31cda8ed",
   "metadata": {},
   "source": [
    "| *Added Method* | *Worst-case Time Complexity* |\n",
    "| --- | --- |\n",
    "| `push_front` | $O(1)$ |\n",
    "| `pop_front` | $O(1)$ |"
   ]
  },
  {
   "cell_type": "markdown",
   "id": "82642b83",
   "metadata": {},
   "source": [
    "The maximum size of a `list` is limited only by the data type of the variable tracking the size."
   ]
  },
  {
   "cell_type": "code",
   "execution_count": 207,
   "id": "30128a88",
   "metadata": {},
   "outputs": [
    {
     "name": "stdout",
     "output_type": "stream",
     "text": [
      "384307168202282325\n",
      "384307168202282325\n"
     ]
    }
   ],
   "source": [
    "#include <iostream>\n",
    "#include <list>\n",
    "\n",
    "int main() {\n",
    "    std::list<float> ll_float;\n",
    "    std::list<double> ll_double;\n",
    "    \n",
    "    std::cout << ll_float.max_size() << '\\n';\n",
    "    std::cout << ll_double.max_size() << '\\n';\n",
    "}"
   ]
  },
  {
   "cell_type": "markdown",
   "id": "7b84f665",
   "metadata": {},
   "source": [
    "Iterators in `list` are bi-directional. That is, they may be incremented and decremented only."
   ]
  },
  {
   "cell_type": "code",
   "execution_count": 239,
   "id": "85eb7eb0",
   "metadata": {},
   "outputs": [
    {
     "name": "stdout",
     "output_type": "stream",
     "text": [
      "1\n",
      "2\n"
     ]
    }
   ],
   "source": [
    "#include <iostream>\n",
    "#include <list>\n",
    "\n",
    "int main() {\n",
    "    int arr[] = {1, 2, 3, 4, 5};\n",
    "\n",
    "    std::list<int> ll_int(arr, arr + 5);\n",
    "    \n",
    "    std::cout << *ll_int.begin() << '\\n';\n",
    "    std::cout << *++ll_int.begin() << '\\n';\n",
    "}"
   ]
  },
  {
   "cell_type": "markdown",
   "id": "a75ad358",
   "metadata": {},
   "source": [
    "`list` also defines the `splice` method, that moves elements from one `list` to another, without copying."
   ]
  },
  {
   "cell_type": "code",
   "execution_count": null,
   "id": "aa866599",
   "metadata": {},
   "outputs": [],
   "source": [
    "std::list<int> ls1(...);\n",
    "\n",
    "std::list<int> ls2(...);"
   ]
  },
  {
   "cell_type": "code",
   "execution_count": null,
   "id": "3d8c6b50",
   "metadata": {},
   "outputs": [],
   "source": [
    "                                                         /* Moves elements from 'ls2' to 'ls1' */\n",
    "                                                         /* DEST: Before 'ITER_LS1' */\n",
    "                                                         \n",
    "ls1.splice(ITER_LS1, ls2);                               /* SRC: All elements */\n",
    "                                                        \n",
    "ls1.splice(ITER_LS1, ls2, ITER_LS2);                     /* SRC: Element at 'ITER_LS2' */\n",
    "\n",
    "ls1.splice(ITER_LS1, ls2, ITER_LS2_A, ITER_LS2_B);       /* SRC: Elements from 'ITER_LS2_A' to before */\n",
    "                                                         /*      'ITER_LS2_B'                         */"
   ]
  },
  {
   "cell_type": "markdown",
   "id": "e59d2b9f",
   "metadata": {},
   "source": [
    "`list` also defines the `merge` method, that merges elements from one `list` into another, without copying.\n",
    "\n",
    "* If the two lists are initially sorted, the merged list is sorted.\n",
    "* If the two lists are unsorted, the merged list is unsorted.\n",
    "\n",
    "*Note:* The algorithm used to `merge` two sorted lists is stable. That is, it gurantees the same relative order of equal elements before and after merging."
   ]
  },
  {
   "cell_type": "code",
   "execution_count": 249,
   "id": "83f5603e",
   "metadata": {},
   "outputs": [
    {
     "name": "stdout",
     "output_type": "stream",
     "text": [
      "[List-1]: 1, 3, 4, 5, 8, \b\b \n",
      "[List-2]: 0, 2, 6, 7, 9, \b\b \n",
      "\n",
      "After merging 'ls2' into 'ls1'\n",
      "\n",
      "[List-1]: 0, 1, 2, 3, 4, 5, 6, 7, 8, 9, \b\b \n",
      "[List-2]: \b\b \n"
     ]
    }
   ],
   "source": [
    "#include <iostream>\n",
    "#include <list>\n",
    "\n",
    "template<class T>\n",
    "void show(const char *label, T cont) {\n",
    "    std::cout << '[' << label << \"]: \";\n",
    "    typename T::iterator iter(cont.begin());\n",
    "    while (iter != cont.end()) {\n",
    "        std::cout << *iter << \", \";\n",
    "        iter++;\n",
    "    }\n",
    "    std::cout << \"\\b\\b \\n\";\n",
    "}\n",
    "\n",
    "int main() {\n",
    "    int arr[] = {1, 3, 4, 5, 8, 0, 2, 6, 7, 9};\n",
    "\n",
    "    std::list<int> ls1(arr, arr + 5);\n",
    "    std::list<int> ls2(arr + 5, arr + 10);\n",
    "    \n",
    "    show(\"List-1\", ls1);\n",
    "    show(\"List-2\", ls2);\n",
    "    \n",
    "    std::cout << \"\\nAfter merging 'ls2' into 'ls1'\\n\\n\";\n",
    "    \n",
    "    ls1.merge(ls2);\n",
    "    \n",
    "    show(\"List-1\", ls1);\n",
    "    show(\"List-2\", ls2);\n",
    "}"
   ]
  },
  {
   "cell_type": "markdown",
   "id": "33dd3d5b",
   "metadata": {},
   "source": [
    "By default, the `merge` method uses the `<` operator to compare elements. Alternatively, it may be passed a *comparator* function object that returns `true` if its first argument should preceed its second argument in ordering.\n",
    "\n",
    "A *function object* is an object that overloads the function call operator, `()`.\n",
    "\n",
    "*Note:* A function object is preferred over a function pointer, because the compiler can much more easily inline its call"
   ]
  },
  {
   "cell_type": "code",
   "execution_count": 253,
   "id": "efaaeb42",
   "metadata": {},
   "outputs": [
    {
     "name": "stdout",
     "output_type": "stream",
     "text": [
      "[List-1]: 1, 3, 4, 5, 8, \b\b \n",
      "[List-2]: 0, 2, 6, 7, 9, \b\b \n",
      "\n",
      "After merging 'ls2' into 'ls1'\n",
      "\n",
      "[List-1]: 0, 1, 2, 3, 4, 5, 6, 7, 8, 9, \b\b \n",
      "[List-2]: \b\b \n"
     ]
    }
   ],
   "source": [
    "#include <iostream>\n",
    "#include <list>\n",
    "\n",
    "template<class T>\n",
    "void show(const char *label, T cont) {\n",
    "    std::cout << '[' << label << \"]: \";\n",
    "    typename T::iterator iter(cont.begin());\n",
    "    while (iter != cont.end()) {\n",
    "        std::cout << *iter << \", \";\n",
    "        iter++;\n",
    "    }\n",
    "    std::cout << \"\\b\\b \\n\";\n",
    "}\n",
    "\n",
    "class Comparator {\n",
    "public:\n",
    "    bool operator () (int a, int b) {\n",
    "        return a < b;\n",
    "    }\n",
    "};\n",
    "\n",
    "int main() {\n",
    "    int arr[] = {1, 3, 4, 5, 8, 0, 2, 6, 7, 9};\n",
    "\n",
    "    std::list<int> ls1(arr, arr + 5);\n",
    "    std::list<int> ls2(arr + 5, arr + 10);\n",
    "    \n",
    "    show(\"List-1\", ls1);\n",
    "    show(\"List-2\", ls2);\n",
    "    \n",
    "    std::cout << \"\\nAfter merging 'ls2' into 'ls1'\\n\\n\";\n",
    "    \n",
    "    ls1.merge(ls2, Comparator());\n",
    "    \n",
    "    show(\"List-1\", ls1);\n",
    "    show(\"List-2\", ls2);\n",
    "}"
   ]
  },
  {
   "cell_type": "markdown",
   "id": "f1027093",
   "metadata": {},
   "source": [
    "`list` also defines the `sort` method."
   ]
  },
  {
   "cell_type": "code",
   "execution_count": 296,
   "id": "aa4bd73f",
   "metadata": {},
   "outputs": [
    {
     "name": "stdout",
     "output_type": "stream",
     "text": [
      "[List]: 1.1  2.2  1.3  1.2  4.5  2.1  \b\b \n",
      "\n",
      "After sorting...\n",
      "\n",
      "[List]: 1.1  1.2  1.3  2.1  2.2  4.5  \b\b \n"
     ]
    }
   ],
   "source": [
    "#include <iostream>\n",
    "#include <list>\n",
    "\n",
    "template<class T>\n",
    "void show(const char *label, T cont) {\n",
    "    std::cout << '[' << label << \"]: \";\n",
    "    typename T::iterator iter(cont.begin());\n",
    "    while (iter != cont.end()) {\n",
    "        std::cout << *iter << \"  \";\n",
    "        iter++;\n",
    "    }\n",
    "    std::cout << \"\\b\\b \\n\";\n",
    "}\n",
    "\n",
    "class Comparator {\n",
    "public:\n",
    "    bool operator () (int a, int b) {\n",
    "        return a < b;\n",
    "    }\n",
    "};\n",
    "\n",
    "int main() {\n",
    "    double arr[] = {1.1, 2.2, 1.3, 1.2, 4.5, 2.1};\n",
    "\n",
    "    std::list<double> ls(arr, arr + 6);\n",
    "    \n",
    "    show(\"List\", ls);\n",
    "    \n",
    "    std::cout << \"\\nAfter sorting...\\n\\n\";\n",
    "    \n",
    "    ls.sort(Comparator());                /* sorts, neglecting the fraction part */\n",
    "                                            /* 'sort()' also possible (doesn't ignore fraction) */\n",
    "    \n",
    "    show(\"List\", ls);\n",
    "}"
   ]
  },
  {
   "cell_type": "markdown",
   "id": "c2453819",
   "metadata": {},
   "source": [
    "*Note:* The algorithm used to `sort` a `list` is stable. That is, it gurantees the same relative order of equal elements before and after sorting."
   ]
  },
  {
   "cell_type": "markdown",
   "id": "837e754d",
   "metadata": {},
   "source": [
    "`list` also defines the `remove` method, that removes elements from a list, equal to a passed object, using `==` to test for equality."
   ]
  },
  {
   "cell_type": "code",
   "execution_count": 260,
   "id": "df50cb6a",
   "metadata": {
    "scrolled": true
   },
   "outputs": [
    {
     "name": "stdout",
     "output_type": "stream",
     "text": [
      "[List]: 1  2  2  3  3  3  4  \b\b \n",
      "\n",
      "After removing (3)...\n",
      "\n",
      "[List]: 1  2  2  4  \b\b \n"
     ]
    }
   ],
   "source": [
    "#include <iostream>\n",
    "#include <list>\n",
    "\n",
    "template<class T>\n",
    "void show(const char *label, T cont) {\n",
    "    std::cout << '[' << label << \"]: \";\n",
    "    typename T::iterator iter(cont.begin());\n",
    "    while (iter != cont.end()) {\n",
    "        std::cout << *iter << \"  \";\n",
    "        iter++;\n",
    "    }\n",
    "    std::cout << \"\\b\\b \\n\";\n",
    "}\n",
    "\n",
    "int main() {\n",
    "    int arr[] = {1, 2, 2, 3, 3, 3, 4};\n",
    "\n",
    "    std::list<int> ls(arr, arr + 7);\n",
    "    \n",
    "    show(\"List\", ls);\n",
    "    \n",
    "    ls.remove(3);\n",
    "    \n",
    "    std::cout << \"\\nAfter removing (3) ...\\n\\n\";\n",
    "    \n",
    "    show(\"List\", ls);\n",
    "}"
   ]
  },
  {
   "cell_type": "markdown",
   "id": "6d85ef89",
   "metadata": {},
   "source": [
    "`list` also defines the `remove_if` method, that accepts a function object instead, that returns `true` if the passed element is to be removed."
   ]
  },
  {
   "cell_type": "code",
   "execution_count": 270,
   "id": "e7b1d723",
   "metadata": {},
   "outputs": [
    {
     "name": "stdout",
     "output_type": "stream",
     "text": [
      "[List]: 1  2  3  4  5  6  7  8  9  \b\b \n",
      "\n",
      "After removing range (3, 6) all-inclusive ...\n",
      "\n",
      "[List]: 1  2  7  8  9  \b\b \n"
     ]
    }
   ],
   "source": [
    "#include <iostream>\n",
    "#include <list>\n",
    "\n",
    "template<class T>\n",
    "void show(const char *label, T cont) {\n",
    "    std::cout << '[' << label << \"]: \";\n",
    "    typename T::iterator iter(cont.begin());\n",
    "    while (iter != cont.end()) {\n",
    "        std::cout << *iter << \"  \";\n",
    "        iter++;\n",
    "    }\n",
    "    std::cout << \"\\b\\b \\n\";\n",
    "}\n",
    "\n",
    "template<class T>\n",
    "class Remove_Range {\n",
    "private:\n",
    "    T lower, upper;\n",
    "public:\n",
    "    Remove_Range(T lower, T upper) : lower(lower), upper(upper) {}\n",
    "\n",
    "    bool operator () (const T &elem) {\n",
    "        return elem >= lower && elem <= upper;\n",
    "    }\n",
    "};\n",
    "\n",
    "int main() {\n",
    "    int arr[] = {1, 2, 3, 4, 5, 6, 7, 8, 9};\n",
    "\n",
    "    std::list<int> ls(arr, arr + 9);\n",
    "    \n",
    "    show(\"List\", ls);\n",
    "    \n",
    "    ls.remove_if(Remove_Range<int>(3, 6));\n",
    "    \n",
    "    std::cout << \"\\nAfter removing range (3, 6) all-inclusive ...\\n\\n\";\n",
    "    \n",
    "    show(\"List\", ls);\n",
    "}"
   ]
  },
  {
   "cell_type": "markdown",
   "id": "cd2527dc",
   "metadata": {},
   "source": [
    "`list` also defines the `unique` method, that removes repetitions of objects in a `list`.\n",
    "\n",
    "*Note:* The `unique` method removes only consecutive repetitions of an object."
   ]
  },
  {
   "cell_type": "code",
   "execution_count": 292,
   "id": "e2a56169",
   "metadata": {},
   "outputs": [
    {
     "name": "stdout",
     "output_type": "stream",
     "text": [
      "[List-1]: 1  1  2  2  3  3  3  4  5  \b\b \n",
      "\n",
      "After 'unique()'\n",
      "\n",
      "[List-1]: 1  2  3  4  5  \b\b \n",
      "\n",
      "--------------------------------------\n",
      "\n",
      "[List]: 1  1  2  2  3  3  3  4  5  \b\b \n",
      "\n",
      "After 'unique(Equality<int>())'\n",
      "\n",
      "[List]: 1  2  3  4  5  \b\b \n"
     ]
    }
   ],
   "source": [
    "#include <iostream>\n",
    "#include <list>\n",
    "\n",
    "template<class T>\n",
    "void show(const char *label, T cont) {\n",
    "    std::cout << '[' << label << \"]: \";\n",
    "    typename T::iterator iter(cont.begin());\n",
    "    while (iter != cont.end()) {\n",
    "        std::cout << *iter << \"  \";\n",
    "        iter++;\n",
    "    }\n",
    "    std::cout << \"\\b\\b \\n\";\n",
    "}\n",
    "\n",
    "template<class T>\n",
    "class Equality {\n",
    "public:\n",
    "    bool operator () (const T &a, const T &b) {\n",
    "        return a == b;\n",
    "    }\n",
    "};\n",
    "\n",
    "int main() {\n",
    "    int arr[] = {1, 1, 2, 2, 3, 3, 3, 4, 5};\n",
    "\n",
    "    std::list<int> ls1(arr, arr + 9);\n",
    "    show(\"List-1\", ls1);\n",
    "    ls1.unique();                                           /* Remove repetitions using '==' operator */\n",
    "    std::cout << \"\\nAfter 'unique()'\\n\\n\";\n",
    "    show(\"List-1\", ls1);\n",
    "    \n",
    "    std::cout << \"\\n--------------------------------------\\n\\n\";\n",
    "    \n",
    "    std::list<int> ls2(arr, arr + 9);\n",
    "    show(\"List\", ls2);\n",
    "    ls2.unique(Equality<int>());                            /* Remove repetitions using func. obj. */\n",
    "    std::cout << \"\\nAfter 'unique(Equality<int>())'\\n\\n\";\n",
    "    show(\"List\", ls2);\n",
    "}"
   ]
  },
  {
   "cell_type": "markdown",
   "id": "8cc92f8e",
   "metadata": {},
   "source": [
    "`list` also defines the `reverse` method, that reverses the order of elements in a `list`."
   ]
  },
  {
   "cell_type": "code",
   "execution_count": 295,
   "id": "00da2753",
   "metadata": {},
   "outputs": [
    {
     "name": "stdout",
     "output_type": "stream",
     "text": [
      "[List]: 1  2  3  4  5  \b\b \n",
      "\n",
      "After 'reverse()'\n",
      "\n",
      "[List]: 5  4  3  2  1  \b\b \n"
     ]
    }
   ],
   "source": [
    "#include <iostream>\n",
    "#include <list>\n",
    "\n",
    "template<class T>\n",
    "void show(const char *label, T cont) {\n",
    "    std::cout << '[' << label << \"]: \";\n",
    "    typename T::iterator iter(cont.begin());\n",
    "    while (iter != cont.end()) {\n",
    "        std::cout << *iter << \"  \";\n",
    "        iter++;\n",
    "    }\n",
    "    std::cout << \"\\b\\b \\n\";\n",
    "}\n",
    "\n",
    "int main() {\n",
    "    int arr[] = {1, 2, 3, 4, 5};\n",
    "\n",
    "    std::list<int> ls1(arr, arr + 5);\n",
    "    show(\"List\", ls1);\n",
    "    ls1.reverse();\n",
    "    std::cout << \"\\nAfter 'reverse()'\\n\\n\";\n",
    "    show(\"List\", ls1);\n",
    "}"
   ]
  },
  {
   "cell_type": "markdown",
   "id": "9f876fbf",
   "metadata": {},
   "source": [
    "#### Summary of `list` <a class=\"anchor\" id=\"summary-of-list\"></a>"
   ]
  },
  {
   "cell_type": "markdown",
   "id": "bce2635a",
   "metadata": {},
   "source": [
    "| *Method* |\n",
    "| :--- |\n",
    "| `list()` |\n",
    "| `list(N)` |\n",
    "| `list(N, OBJ)` |\n",
    "| `list(ITER_BEGIN, ITER_END)` |\n",
    "| `list(LIST)` |\n",
    "| ㅤ |\n",
    "| `assign(N, OBJ)` |\n",
    "| `assign(ITER_BEGIN, ITER_END)` |\n",
    "| `=` |\n",
    "| ㅤ |\n",
    "| `size()` |\n",
    "| `resize(N)` |\n",
    "| `max_size()` |\n",
    "| `empty()` |\n",
    "| ㅤ |\n",
    "| `front()` |\n",
    "| `back()` |\n",
    "| ㅤ |\n",
    "| `push_back(OBJ)` |\n",
    "| `pop_back()` |\n",
    "| `push_front(OBJ)` |\n",
    "| `pop_front()` |\n",
    "| ㅤ |\n",
    "| `begin()` |\n",
    "| `end()` |\n",
    "| `rbegin()` |\n",
    "| `rend()` |\n",
    "| ㅤ |\n",
    "| `insert(ITER_POS, OBJ)` |\n",
    "| `insert(ITER_POS, N, OBJ)` |\n",
    "| `insert(ITER_POS, ITER_BEGIN, ITER_END)` |\n",
    "| ㅤ |\n",
    "| `erase(ITER_POS)` |\n",
    "| `erase(ITER_START, ITER_STOP)` |\n",
    "| `clear()` |\n",
    "| ㅤ |\n",
    "| `swap(LIST)` |\n",
    "| ㅤ |\n",
    "| `splice(ITER_POS, LIST)` |\n",
    "| `splice(ITER_POS, LIST, ITER_LOC)` |\n",
    "| `splice(ITER_POS, LIST), ITER_BEGIN, ITER_END)` |\n",
    "| ㅤ |\n",
    "| `merge(LIST)` |\n",
    "| `merge(LIST, FUNC_OBJ)` |\n",
    "| ㅤ |\n",
    "| `sort()` |\n",
    "| ㅤ`sort(FUNC_OBJ)` |\n",
    "| ㅤ |\n",
    "| `remove(OBJ)` |\n",
    "| `remove_if(FUNC_OBJ)` |\n",
    "| ㅤ |\n",
    "| `unique()` |\n",
    "| ㅤ`unique(FUNC_OBJ)` |\n",
    "| ㅤ |\n",
    "| `reverse()` |"
   ]
  },
  {
   "cell_type": "markdown",
   "id": "bb7e3767",
   "metadata": {},
   "source": [
    "#### `deque` <a class=\"anchor\" id=\"deque\"></a>"
   ]
  },
  {
   "cell_type": "markdown",
   "id": "b8124471",
   "metadata": {},
   "source": [
    "A `deque` is a double-ended queue. It supports all operations in a `vector`, in addition to `push_front` and `pop_front`.\n",
    "\n",
    "It is optimized so that operations at both ends are about as efficient as for a `list`, whereas subscripting approaches the efficiency of a `vector`."
   ]
  },
  {
   "cell_type": "code",
   "execution_count": null,
   "id": "4ef2ebe0",
   "metadata": {},
   "outputs": [],
   "source": []
  }
 ],
 "metadata": {
  "kernelspec": {
   "display_name": "C",
   "language": "c",
   "name": "c"
  },
  "language_info": {
   "file_extension": ".cpp",
   "mimetype": "text/plain",
   "name": "c++"
  }
 },
 "nbformat": 4,
 "nbformat_minor": 5
}
