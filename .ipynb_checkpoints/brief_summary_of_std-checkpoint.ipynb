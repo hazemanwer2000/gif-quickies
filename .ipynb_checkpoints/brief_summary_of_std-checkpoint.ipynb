{
 "cells": [
  {
   "cell_type": "markdown",
   "id": "57a5dd54",
   "metadata": {},
   "source": [
    "# A brief summary of the Standard Library in C++ (98)\n",
    "<br>\n",
    "<div style=\"opacity: 0.8; font-family: Consolas, Monaco, Lucida Console, Liberation Mono, DejaVu Sans Mono, Bitstream Vera Sans Mono, Courier New; font-size: 12px; font-style: italic;\">\n",
    "    ────────\n",
    "    for more from the author, visit\n",
    "    <a href=\"https://github.com/hazemanwer2000\">github.com/hazemanwer2000</a>.\n",
    "    ────────\n",
    "</div>"
   ]
  },
  {
   "cell_type": "markdown",
   "id": "d5d19f27",
   "metadata": {},
   "source": [
    "## Table of Contents\n",
    "* [Containers](#containers)\n",
    "    * [`vector`](#vector)\n",
    "<hr>"
   ]
  },
  {
   "cell_type": "markdown",
   "id": "549a905a",
   "metadata": {},
   "source": [
    "The C++ standard library resides in the namespace `std`.\n",
    "\n",
    "* Header files are included as `<header-name>`, omitting the `.h` extension. For example, `<vector>`.\n",
    "\n",
    "* Header files from the C standard library may be included as `<c-header-name>`. For example, `<cstdio>`.\n",
    "\n",
    "* Header files from the C standard library may be included directly into the global namespace as `<header-name.h>`. For example, `<stdio.h>`.\n",
    "\n",
    "* User-defined header files may be included as `\"header-name.h\"`. For example, `\"myvector.h\"`."
   ]
  },
  {
   "cell_type": "markdown",
   "id": "198c2867",
   "metadata": {},
   "source": [
    "## Containers <a class=\"anchor\" id=\"containers\"></a>"
   ]
  },
  {
   "cell_type": "markdown",
   "id": "549e484e",
   "metadata": {},
   "source": [
    "A *container* is an object that stores a collection of other objects. They are implemented as class templates.\n",
    "\n",
    "Containers share some standard methods, though with no derivation from a common base. This is to enable inlining of most method calls, while still allowing for the implementation of pieces of code that deal with containers generically, and not a particular type of container, through the use of templates. This comes, ofcourse, at the expense of inflated code size."
   ]
  },
  {
   "cell_type": "markdown",
   "id": "3699ba01",
   "metadata": {},
   "source": [
    "### `vector` <a class=\"anchor\" id=\"vector\"></a>"
   ]
  },
  {
   "cell_type": "markdown",
   "id": "46dbf0db",
   "metadata": {},
   "source": [
    "A `vector` is a dynamic array, that is able to grow dynamically and implicitly."
   ]
  },
  {
   "cell_type": "code",
   "execution_count": null,
   "id": "a6771d45",
   "metadata": {},
   "outputs": [],
   "source": [
    "std::vector<int> vec1;          /* 0 elements */"
   ]
  },
  {
   "cell_type": "code",
   "execution_count": null,
   "id": "41a9f9bd",
   "metadata": {},
   "outputs": [],
   "source": [
    "std::vector<int> vec2(5);       /* 5 elements, copy-initialized with a default-initialized object */"
   ]
  },
  {
   "cell_type": "code",
   "execution_count": null,
   "id": "7c78ac9f",
   "metadata": {},
   "outputs": [],
   "source": [
    "std::vector<int> vec3(5, 3);    /* 5 elements, copy-initialized with a passed object */"
   ]
  },
  {
   "cell_type": "markdown",
   "id": "3d0f1e72",
   "metadata": {},
   "source": [
    "Growth involves possible re-allocation of elements, similar to how a function like `realloc` operates. Hence, growth should not occur with every append to its content. Therefore, `vector` defines both methods `size`, that returns the number of elements in the `vector`, and `capacity`, that returns the maximum number of elements that a `vector` can currently withstand without incurring a growth overhead."
   ]
  },
  {
   "cell_type": "markdown",
   "id": "c02af3c5",
   "metadata": {},
   "source": [
    "*Note:* A `vector` never shrinks in capacity."
   ]
  },
  {
   "cell_type": "markdown",
   "id": "d00ffce7",
   "metadata": {},
   "source": [
    "`vector` also defines the method `reserve`, that accepts the number of elements to set the capacity of the `vector` to. If the argument is less than the current capacity of the `vector`, nothing happens."
   ]
  },
  {
   "cell_type": "markdown",
   "id": "7f8a2231",
   "metadata": {},
   "source": [
    "*Note:* `reserve` merely allocates memory to avoid a growth overhead later on. It does not construct any objects."
   ]
  },
  {
   "cell_type": "code",
   "execution_count": 30,
   "id": "da3a3064",
   "metadata": {},
   "outputs": [
    {
     "name": "stdout",
     "output_type": "stream",
     "text": [
      "Size: 10, Capacity: 10\n",
      "Size: 10, Capacity: 15\n"
     ]
    }
   ],
   "source": [
    "#include <vector>\n",
    "#include <iostream>\n",
    "\n",
    "int main() {\n",
    "    std::vector<int> vec(10);\n",
    "    std::cout << \"Size: \" << vec.size() << \", Capacity: \" << vec.capacity() << '\\n';\n",
    "    \n",
    "    vec.reserve(15);\n",
    "    std::cout << \"Size: \" << vec.size() << \", Capacity: \" << vec.capacity() << '\\n';\n",
    "}"
   ]
  },
  {
   "cell_type": "code",
   "execution_count": null,
   "id": "d82f6b43",
   "metadata": {},
   "outputs": [],
   "source": []
  }
 ],
 "metadata": {
  "kernelspec": {
   "display_name": "C",
   "language": "c",
   "name": "c"
  },
  "language_info": {
   "file_extension": ".cpp",
   "mimetype": "text/plain",
   "name": "c++"
  }
 },
 "nbformat": 4,
 "nbformat_minor": 5
}
