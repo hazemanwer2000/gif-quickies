{
 "cells": [
  {
   "cell_type": "markdown",
   "id": "57a5dd54",
   "metadata": {},
   "source": [
    "# A brief summary of the Standard Library in C++ (98)\n",
    "<br>\n",
    "<div style=\"opacity: 0.8; font-family: Consolas, Monaco, Lucida Console, Liberation Mono, DejaVu Sans Mono, Bitstream Vera Sans Mono, Courier New; font-size: 12px; font-style: italic;\">\n",
    "    ────────\n",
    "    for more from the author, visit\n",
    "    <a href=\"https://github.com/hazemanwer2000\">github.com/hazemanwer2000</a>.\n",
    "    ────────\n",
    "</div>"
   ]
  },
  {
   "cell_type": "markdown",
   "id": "d5d19f27",
   "metadata": {},
   "source": [
    "## Table of Contents\n",
    "* [Containers](#containers)\n",
    "    * [`vector`](#vector)\n",
    "<hr>"
   ]
  },
  {
   "cell_type": "markdown",
   "id": "549a905a",
   "metadata": {},
   "source": [
    "The C++ standard library resides in the namespace `std`.\n",
    "\n",
    "* Header files are included as `<header-name>`, omitting the `.h` extension. For example, `<vector>`.\n",
    "\n",
    "* Header files from the C standard library may be included as `<c-header-name>`. For example, `<cstdio>`.\n",
    "\n",
    "* Header files from the C standard library may be included directly into the global namespace as `<header-name.h>`. For example, `<stdio.h>`.\n",
    "\n",
    "* User-defined header files may be included as `\"header-name.h\"`. For example, `\"myvector.h\"`."
   ]
  },
  {
   "cell_type": "markdown",
   "id": "198c2867",
   "metadata": {},
   "source": [
    "## Containers <a class=\"anchor\" id=\"containers\"></a>"
   ]
  },
  {
   "cell_type": "markdown",
   "id": "549e484e",
   "metadata": {},
   "source": [
    "A *container* is an object that stores a collection of other objects. They are implemented as class templates.\n",
    "\n",
    "Containers share some standard methods, though with no derivation from a common base. This is to enable inlining of most method calls, while still allowing for the implementation of pieces of code that deal with containers generically, and not a particular type of container, through the use of templates. This comes, ofcourse, at the expense of inflated code size."
   ]
  },
  {
   "cell_type": "markdown",
   "id": "3699ba01",
   "metadata": {},
   "source": [
    "### `vector` <a class=\"anchor\" id=\"vector\"></a>"
   ]
  },
  {
   "cell_type": "markdown",
   "id": "46dbf0db",
   "metadata": {},
   "source": [
    "A `vector` is a dynamic array, that is able to grow dynamically and implicitly."
   ]
  },
  {
   "cell_type": "code",
   "execution_count": null,
   "id": "a6771d45",
   "metadata": {},
   "outputs": [],
   "source": [
    "std::vector<int> vec1;          /* 0 elements */"
   ]
  },
  {
   "cell_type": "code",
   "execution_count": null,
   "id": "41a9f9bd",
   "metadata": {},
   "outputs": [],
   "source": [
    "std::vector<int> vec2(5);       /* 5 elements, copy-initialized with a default-initialized object */"
   ]
  },
  {
   "cell_type": "code",
   "execution_count": null,
   "id": "7c78ac9f",
   "metadata": {},
   "outputs": [],
   "source": [
    "std::vector<int> vec3(5, 3);    /* 5 elements, copy-initialized with a passed object */"
   ]
  },
  {
   "cell_type": "markdown",
   "id": "3d0f1e72",
   "metadata": {},
   "source": [
    "Growth involves possible re-allocation of elements, similar to how a function like `realloc` operates. Hence, growth should not occur with every append to its content. Therefore, `vector` defines both methods `size`, that returns the number of elements in the `vector`, and `capacity`, that returns the maximum number of elements that a `vector` can currently withstand without incurring a growth overhead."
   ]
  },
  {
   "cell_type": "markdown",
   "id": "c02af3c5",
   "metadata": {},
   "source": [
    "*Note:* A `vector` never shrinks in capacity."
   ]
  },
  {
   "cell_type": "code",
   "execution_count": 42,
   "id": "61c0771e",
   "metadata": {},
   "outputs": [
    {
     "name": "stdout",
     "output_type": "stream",
     "text": [
      "Size: 0, Capacity: 0\n",
      "Size: 5, Capacity: 5\n"
     ]
    }
   ],
   "source": [
    "#include <vector>\n",
    "#include <iostream>\n",
    "\n",
    "template<class T>\n",
    "void summary(std::vector<T> &vec) {\n",
    "    std::cout << \"Size: \" << vec.size() << \", Capacity: \" << vec.capacity() << '\\n';\n",
    "}\n",
    "\n",
    "int main() {\n",
    "    std::vector<int> vec1;\n",
    "    summary(vec1);\n",
    "    \n",
    "    std::vector<int> vec2(5);\n",
    "    summary(vec2);\n",
    "}"
   ]
  },
  {
   "cell_type": "markdown",
   "id": "12f03008",
   "metadata": {},
   "source": [
    "`vector` defines the method `reserve`, that accepts the number of elements to set the capacity of the `vector` to. If the argument is less than the current capacity of the `vector`, nothing happens."
   ]
  },
  {
   "cell_type": "markdown",
   "id": "5ef39dbd",
   "metadata": {},
   "source": [
    "*Note:* `reserve` merely allocates memory to avoid a growth overhead later on. It does not construct any objects."
   ]
  },
  {
   "cell_type": "markdown",
   "id": "58cdc7ec",
   "metadata": {},
   "source": [
    "`vector` also defines the method `resize`, that accepts the number of elements to set the size of the `vector` to. The argument may be less than the current size of the `vector`."
   ]
  },
  {
   "cell_type": "markdown",
   "id": "e02ee5e6",
   "metadata": {},
   "source": [
    "*Note:* Unlike `reserve`, `resize` initializes memory with copy-initialized objects, copied from a default-initialized object, or an optionally passed object."
   ]
  },
  {
   "cell_type": "code",
   "execution_count": 48,
   "id": "382c71b1",
   "metadata": {
    "scrolled": true
   },
   "outputs": [
    {
     "name": "stdout",
     "output_type": "stream",
     "text": [
      "Size: 5, Capacity: 5, [1, 1, 1, 1, 1, \b\b]\n",
      "Size: 5, Capacity: 10, [1, 1, 1, 1, 1, \b\b]\n",
      "Size: 5, Capacity: 10, [1, 1, 1, 1, 1, \b\b]\n",
      "Size: 8, Capacity: 10, [1, 1, 1, 1, 1, 2, 2, 2, \b\b]\n",
      "Size: 7, Capacity: 10, [1, 1, 1, 1, 1, 2, 2, \b\b]\n"
     ]
    }
   ],
   "source": [
    "#include <vector>\n",
    "#include <iostream>\n",
    "\n",
    "template<class T>\n",
    "void summary(std::vector<T> &vec) {\n",
    "    std::cout << \"Size: \" << vec.size();\n",
    "    std::cout << \", Capacity: \" << vec.capacity();\n",
    "    std::cout << \", [\";\n",
    "    for (int i = 0; i < vec.size(); i++) {\n",
    "        std::cout << vec[i] << \", \";\n",
    "    }\n",
    "    std::cout << \"\\b\\b]\\n\";\n",
    "}\n",
    "\n",
    "template<class T>\n",
    "void print_vec(std::vector<T> &vec) {\n",
    "    for (int i = 0; i < vec.size(); i++) {\n",
    "        std::cout << vec[i] << \", \";\n",
    "    }\n",
    "    std::cout << \"\\b\\b \\n\";\n",
    "}\n",
    "\n",
    "int main() {\n",
    "    std::vector<int> vec(5, 1);        /* 5 elements, copy-initialized with '1' */\n",
    "    summary(vec);\n",
    "    \n",
    "    vec.reserve(10);                   /* capacity guranteed to be at least '10' */\n",
    "    summary(vec);\n",
    "    \n",
    "    vec.reserve(8);                    /* capacity guranteed to be at least '8' (already '10') */\n",
    "    summary(vec);\n",
    "    \n",
    "    vec.resize(8, 2);                  /* enlarged to 8 elements, last three initialized with '2' */\n",
    "    summary(vec);\n",
    "    \n",
    "    vec.resize(7);                     /* shrinked to 7 elements */\n",
    "    summary(vec);\n",
    "}"
   ]
  },
  {
   "cell_type": "markdown",
   "id": "96bc81ec",
   "metadata": {},
   "source": [
    "`vector` defines the method `max_size`, that returns the maximum number of elements that `vector` can withstand."
   ]
  },
  {
   "cell_type": "code",
   "execution_count": 52,
   "id": "b9f198fe",
   "metadata": {},
   "outputs": [
    {
     "name": "stdout",
     "output_type": "stream",
     "text": [
      "2305843009213693951\n",
      "1152921504606846975\n"
     ]
    }
   ],
   "source": [
    "#include <iostream>\n",
    "#include <vector>\n",
    "\n",
    "int main() {\n",
    "    std::vector<float> vfloat;\n",
    "    std::cout << vfloat.max_size() << '\\n';\n",
    "    \n",
    "    std::vector<double> vdouble;\n",
    "    std::cout << vdouble.max_size() << '\\n';\n",
    "}"
   ]
  },
  {
   "cell_type": "markdown",
   "id": "e47ad001",
   "metadata": {},
   "source": [
    "*Note:* Since, usually, `double` occupies double the number of bytes of `float`, the maximum size of `vector<double>` is half the maximum size of `vector<float>`."
   ]
  },
  {
   "cell_type": "markdown",
   "id": "9ebd5a15",
   "metadata": {},
   "source": [
    "`vector` defines the method `empty`, that evaluates and returns `size() == 0`, as a `bool`."
   ]
  },
  {
   "cell_type": "code",
   "execution_count": 54,
   "id": "57562483",
   "metadata": {},
   "outputs": [],
   "source": [
    "int main() {\n",
    "    bool x = false;\n",
    "}"
   ]
  },
  {
   "cell_type": "code",
   "execution_count": null,
   "id": "33c2266c",
   "metadata": {},
   "outputs": [],
   "source": []
  }
 ],
 "metadata": {
  "kernelspec": {
   "display_name": "C",
   "language": "c",
   "name": "c"
  },
  "language_info": {
   "file_extension": ".cpp",
   "mimetype": "text/plain",
   "name": "c++"
  }
 },
 "nbformat": 4,
 "nbformat_minor": 5
}
