{
 "cells": [
  {
   "cell_type": "markdown",
   "id": "57a5dd54",
   "metadata": {},
   "source": [
    "# A brief summary of the Standard Library in C++ (98)\n",
    "<br>\n",
    "<div style=\"opacity: 0.8; font-family: Consolas, Monaco, Lucida Console, Liberation Mono, DejaVu Sans Mono, Bitstream Vera Sans Mono, Courier New; font-size: 12px; font-style: italic;\">\n",
    "    ────────\n",
    "    for more from the author, visit\n",
    "    <a href=\"https://github.com/hazemanwer2000\">github.com/hazemanwer2000</a>.\n",
    "    ────────\n",
    "</div>"
   ]
  },
  {
   "cell_type": "markdown",
   "id": "d5d19f27",
   "metadata": {},
   "source": [
    "## Table of Contents\n",
    "* [Containers](#containers)\n",
    "    * [`vector`](#vector)\n",
    "<hr>"
   ]
  },
  {
   "cell_type": "markdown",
   "id": "549a905a",
   "metadata": {},
   "source": [
    "The C++ standard library resides in the namespace `std`.\n",
    "\n",
    "* Header files are included as `<header-name>`, omitting the `.h` extension. For example, `<vector>`.\n",
    "\n",
    "* Header files from the C standard library may be included as `<c-header-name>`. For example, `<cstdio>`.\n",
    "\n",
    "* Header files from the C standard library may be included directly into the global namespace as `<header-name.h>`. For example, `<stdio.h>`.\n",
    "\n",
    "* User-defined header files may be included as `\"header-name.h\"`. For example, `\"myvector.h\"`."
   ]
  },
  {
   "cell_type": "markdown",
   "id": "198c2867",
   "metadata": {},
   "source": [
    "## Containers <a class=\"anchor\" id=\"containers\"></a>"
   ]
  },
  {
   "cell_type": "markdown",
   "id": "c724d381",
   "metadata": {},
   "source": [
    "A *container* is an object that stores a collection of other objects. They are implemented as class templates.\n",
    "\n",
    "Containers share some standard methods, though with no derivation from a common base. This is to enable inlining of most method calls, while still allowing for the implementation of pieces of code that deal with containers generically, and not a particular type of container, through the use of templates. This comes, ofcourse, at the expense of inflated code size."
   ]
  },
  {
   "cell_type": "markdown",
   "id": "644b3778",
   "metadata": {},
   "source": [
    "### `vector` <a class=\"anchor\" id=\"vector\"></a>"
   ]
  },
  {
   "cell_type": "markdown",
   "id": "bd6de115",
   "metadata": {},
   "source": [
    "A `vector` is a dynamic array, that is able to grow dynamically and implicitly.\n",
    "\n",
    "Growth involves possible re-allocation of elements, similar to how a function like `realloc` operates. Hence, growth should not occur with every append to its content. Therefore, `vector` defines both size, the number of elements in the `vector`, and capacity, the maximum number of elements that a `vector` can currently withstand without incurring a growth overhead."
   ]
  },
  {
   "cell_type": "markdown",
   "id": "490ec91d",
   "metadata": {},
   "source": [
    "*Note:* A `vector` never shrinks in capacity."
   ]
  },
  {
   "cell_type": "code",
   "execution_count": 14,
   "id": "54856c1d",
   "metadata": {},
   "outputs": [
    {
     "name": "stdout",
     "output_type": "stream",
     "text": [
      "0"
     ]
    }
   ],
   "source": [
    "#include <vector>\n",
    "#include <iostream>\n",
    "\n",
    "int main() {\n",
    "    std::vector<int> vec;          /* Size = 0, Capacity 0 */\n",
    "    std::cout << vec.capacity();\n",
    "}"
   ]
  },
  {
   "cell_type": "code",
   "execution_count": null,
   "id": "cde7e714",
   "metadata": {},
   "outputs": [],
   "source": []
  }
 ],
 "metadata": {
  "kernelspec": {
   "display_name": "C",
   "language": "c",
   "name": "c"
  },
  "language_info": {
   "file_extension": ".cpp",
   "mimetype": "text/plain",
   "name": "c++"
  }
 },
 "nbformat": 4,
 "nbformat_minor": 5
}
